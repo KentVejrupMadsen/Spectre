{
 "cells": [
  {
   "cell_type": "code",
   "execution_count": 7,
   "id": "eb3f6064-6b33-4a92-b3ee-4984acb65460",
   "metadata": {},
   "outputs": [],
   "source": [
    "from os.path import (\n",
    "    isfile, \n",
    "    isdir, \n",
    "    join\n",
    ")\n",
    "\n",
    "from os import (\n",
    "    listdir, \n",
    "    makedirs\n",
    ")\n"
   ]
  },
  {
   "cell_type": "code",
   "execution_count": 8,
   "id": "a0cfeda0",
   "metadata": {},
   "outputs": [],
   "source": [
    "found_elements: list = list()\n",
    "original_dataset: str = '/mnt/c/Users/Kentv/Desktop/dataset'\n",
    "\n",
    "destination_for_dataset: str = '/mnt/c/Users/Kentv/Desktop/TrainingUltralytics/.dataset'\n",
    "\n",
    "destination_for_training_dataset: str = join(\n",
    "    destination_for_dataset, \n",
    "    'training'\n",
    ")\n",
    "\n",
    "destination_for_validation_dataset: str = join(\n",
    "    destination_for_dataset, \n",
    "    'validation'\n",
    ")\n",
    "\n",
    "\n",
    "original_dataset_image: str = join(\n",
    "    original_dataset, \n",
    "    'images'\n",
    ")\n",
    "\n",
    "original_dataset_label: str = join(\n",
    "    original_dataset, \n",
    "    'labels'\n",
    ")"
   ]
  },
  {
   "cell_type": "code",
   "execution_count": 9,
   "id": "88da3d91",
   "metadata": {},
   "outputs": [],
   "source": [
    "if not isdir(\n",
    "    destination_for_dataset\n",
    "):\n",
    "    makedirs(\n",
    "        destination_for_dataset\n",
    "    )\n",
    "\n",
    "\n",
    "if not isdir(\n",
    "    destination_for_training_dataset\n",
    "):\n",
    "    makedirs(\n",
    "        destination_for_training_dataset\n",
    "    )\n"
   ]
  },
  {
   "cell_type": "code",
   "execution_count": 10,
   "id": "ea7c6328",
   "metadata": {},
   "outputs": [],
   "source": [
    "destination_for_training_images: str = join(\n",
    "    destination_for_training_dataset, \n",
    "    'images'\n",
    ")\n",
    "\n",
    "destination_for_training_labels: str = join(\n",
    "    destination_for_training_dataset, \n",
    "    'labels'\n",
    ")\n",
    "\n",
    "if not isdir(\n",
    "    destination_for_training_images\n",
    "):\n",
    "    makedirs(\n",
    "        destination_for_training_images\n",
    "    )\n",
    "\n",
    "if not isdir(\n",
    "    destination_for_training_labels\n",
    "):\n",
    "    makedirs(\n",
    "        destination_for_training_labels\n",
    "    )"
   ]
  },
  {
   "cell_type": "code",
   "execution_count": 11,
   "id": "68ca87e7",
   "metadata": {},
   "outputs": [],
   "source": [
    "if not isdir(\n",
    "    destination_for_validation_dataset\n",
    "):\n",
    "    makedirs(\n",
    "        destination_for_validation_dataset\n",
    "    )\n",
    "\n",
    "destination_for_validation_images: str = join(\n",
    "    destination_for_validation_dataset, \n",
    "    'images'\n",
    ")\n",
    "\n",
    "destination_for_validation_labels: str = join(\n",
    "    destination_for_validation_dataset, \n",
    "    'labels'\n",
    ")\n",
    "\n",
    "if not isdir(\n",
    "    destination_for_validation_images\n",
    "):\n",
    "    makedirs(\n",
    "        destination_for_validation_images\n",
    "    )\n",
    "\n",
    "if not isdir(\n",
    "    destination_for_validation_labels\n",
    "):\n",
    "    makedirs(\n",
    "        destination_for_validation_labels\n",
    "    )\n"
   ]
  },
  {
   "cell_type": "code",
   "execution_count": 12,
   "id": "9ceb96aa",
   "metadata": {},
   "outputs": [
    {
     "ename": "FileNotFoundError",
     "evalue": "[Errno 2] No such file or directory: '/mnt/c/Users/Kentv/Desktop/YOLO/images'",
     "output_type": "error",
     "traceback": [
      "\u001b[0;31m---------------------------------------------------------------------------\u001b[0m",
      "\u001b[0;31mFileNotFoundError\u001b[0m                         Traceback (most recent call last)",
      "Cell \u001b[0;32mIn[12], line 1\u001b[0m\n\u001b[0;32m----> 1\u001b[0m \u001b[38;5;28;01mfor\u001b[39;00m path \u001b[38;5;129;01min\u001b[39;00m \u001b[43mlistdir\u001b[49m\u001b[43m(\u001b[49m\n\u001b[1;32m      2\u001b[0m \u001b[43m    \u001b[49m\u001b[43moriginal_dataset_image\u001b[49m\n\u001b[1;32m      3\u001b[0m \u001b[43m)\u001b[49m:\n\u001b[1;32m      4\u001b[0m     full_path_for_image: \u001b[38;5;28mstr\u001b[39m \u001b[38;5;241m=\u001b[39m join(\n\u001b[1;32m      5\u001b[0m         original_dataset_image, \n\u001b[1;32m      6\u001b[0m         path\n\u001b[1;32m      7\u001b[0m     )\n\u001b[1;32m      9\u001b[0m     full_path_for_label: \u001b[38;5;28mstr\u001b[39m \u001b[38;5;241m=\u001b[39m join(\n\u001b[1;32m     10\u001b[0m         original_dataset_label, \n\u001b[1;32m     11\u001b[0m         path\n\u001b[1;32m     12\u001b[0m     )\n",
      "\u001b[0;31mFileNotFoundError\u001b[0m: [Errno 2] No such file or directory: '/mnt/c/Users/Kentv/Desktop/YOLO/images'"
     ]
    }
   ],
   "source": [
    "for path in listdir(\n",
    "    original_dataset_image\n",
    "):\n",
    "    full_path_for_image: str = join(\n",
    "        original_dataset_image, \n",
    "        path\n",
    "    )\n",
    "\n",
    "    full_path_for_label: str = join(\n",
    "        original_dataset_label, \n",
    "        path\n",
    "    )\n",
    "\n",
    "    found_elements.append(\n",
    "        {\n",
    "            'image': full_path_for_image,\n",
    "            'label': full_path_for_label.replace(\n",
    "                '.jpg', \n",
    "                '.txt'\n",
    "            )\n",
    "        }\n",
    "    )"
   ]
  },
  {
   "cell_type": "code",
   "execution_count": 8,
   "id": "8d19ffd7",
   "metadata": {},
   "outputs": [],
   "source": [
    "import math\n",
    "used_for_validation: float = 0.20\n",
    "\n",
    "calculated_number_for_split: int = math.floor(\n",
    "    len(found_elements)\n",
    "    *\n",
    "    used_for_validation\n",
    ")"
   ]
  },
  {
   "cell_type": "code",
   "execution_count": null,
   "id": "75abf776",
   "metadata": {},
   "outputs": [],
   "source": [
    "found_elements[0]"
   ]
  },
  {
   "cell_type": "code",
   "execution_count": 10,
   "id": "de1b1914",
   "metadata": {},
   "outputs": [],
   "source": [
    "import random\n",
    "from shutil import move\n",
    "\n",
    "for i in range(calculated_number_for_split):\n",
    "    selected_number = random.randint(\n",
    "        0, \n",
    "        len(found_elements) - 1 # Last index number\n",
    "    )\n",
    "    \n",
    "    element = found_elements.pop(\n",
    "        selected_number\n",
    "    )\n",
    "    \n",
    "    move(\n",
    "        element['image'], \n",
    "        destination_for_validation_images\n",
    "    )\n",
    "\n",
    "    move(\n",
    "        element['label'], \n",
    "        destination_for_validation_labels\n",
    "    )"
   ]
  },
  {
   "cell_type": "code",
   "execution_count": 11,
   "id": "9377f9df",
   "metadata": {},
   "outputs": [],
   "source": [
    "for idx in range(len(found_elements)):\n",
    "    element = found_elements[idx]\n",
    "\n",
    "    move(\n",
    "        element['image'], \n",
    "        destination_for_training_images\n",
    "    )\n",
    "\n",
    "    move(\n",
    "        element['label'], \n",
    "        destination_for_training_labels\n",
    "    )\n",
    "\n",
    "del found_elements"
   ]
  }
 ],
 "metadata": {
  "kernelspec": {
   "display_name": "Python 3 (ipykernel)",
   "language": "python",
   "name": "python3"
  },
  "language_info": {
   "codemirror_mode": {
    "name": "ipython",
    "version": 3
   },
   "file_extension": ".py",
   "mimetype": "text/x-python",
   "name": "python",
   "nbconvert_exporter": "python",
   "pygments_lexer": "ipython3",
   "version": "3.12.8"
  }
 },
 "nbformat": 4,
 "nbformat_minor": 5
}
