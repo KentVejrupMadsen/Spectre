{
 "cells": [
  {
   "cell_type": "code",
   "execution_count": null,
   "id": "eb3f6064-6b33-4a92-b3ee-4984acb65460",
   "metadata": {},
   "outputs": [],
   "source": [
    "from ultralytics import YOLO"
   ]
  },
  {
   "cell_type": "code",
   "execution_count": 74,
   "id": "a0cfeda0",
   "metadata": {},
   "outputs": [],
   "source": [
    "from os.path import join\n",
    "\n",
    "found_elements: list = list()\n",
    "original_dataset: str = '/mnt/c/Users/Kentv/Desktop/YOLO'\n",
    "\n",
    "\n",
    "destination_for_dataset: str = '/mnt/c/Users/Kentv/Desktop/TrainingUltralytics/.dataset'\n",
    "\n",
    "destination_for_training_dataset: str = join(\n",
    "    destination_for_dataset, \n",
    "    'training'\n",
    ")\n",
    "\n",
    "destination_for_validation_dataset: str = join(\n",
    "    destination_for_dataset, \n",
    "    'validation'\n",
    ")\n",
    "\n",
    "\n",
    "original_dataset_image: str = join(\n",
    "    original_dataset, \n",
    "    'images'\n",
    ")\n",
    "\n",
    "original_dataset_label: str = join(\n",
    "    original_dataset, \n",
    "    'labels'\n",
    ")"
   ]
  },
  {
   "cell_type": "code",
   "execution_count": 75,
   "id": "88da3d91",
   "metadata": {},
   "outputs": [],
   "source": [
    "from os.path import isfile, isdir\n",
    "from os import listdir, makedirs\n",
    "\n",
    "if not isdir(\n",
    "    destination_for_dataset\n",
    "):\n",
    "    makedirs(\n",
    "        destination_for_dataset\n",
    "    )\n",
    "\n",
    "\n",
    "if not isdir(\n",
    "    destination_for_training_dataset\n",
    "):\n",
    "    makedirs(\n",
    "        destination_for_training_dataset\n",
    "    )\n"
   ]
  },
  {
   "cell_type": "code",
   "execution_count": 76,
   "id": "ea7c6328",
   "metadata": {},
   "outputs": [],
   "source": [
    "destination_for_training_images: str = join(\n",
    "    destination_for_training_dataset, \n",
    "    'images'\n",
    ")\n",
    "\n",
    "destination_for_training_labels: str = join(\n",
    "    destination_for_training_dataset, \n",
    "    'labels'\n",
    ")\n",
    "\n",
    "if not isdir(\n",
    "    destination_for_training_images\n",
    "):\n",
    "    makedirs(\n",
    "        destination_for_training_images\n",
    "    )\n",
    "\n",
    "if not isdir(\n",
    "    destination_for_training_labels\n",
    "):\n",
    "    makedirs(\n",
    "        destination_for_training_labels\n",
    "    )"
   ]
  },
  {
   "cell_type": "code",
   "execution_count": 77,
   "id": "68ca87e7",
   "metadata": {},
   "outputs": [],
   "source": [
    "if not isdir(\n",
    "    destination_for_validation_dataset\n",
    "):\n",
    "    makedirs(\n",
    "        destination_for_validation_dataset\n",
    "    )\n",
    "\n",
    "destination_for_validation_images: str = join(\n",
    "    destination_for_validation_dataset, \n",
    "    'images'\n",
    ")\n",
    "\n",
    "destination_for_validation_labels: str = join(\n",
    "    destination_for_validation_dataset, \n",
    "    'labels'\n",
    ")\n",
    "\n",
    "if not isdir(\n",
    "    destination_for_validation_images\n",
    "):\n",
    "    makedirs(\n",
    "        destination_for_validation_images\n",
    "    )\n",
    "\n",
    "if not isdir(\n",
    "    destination_for_validation_labels\n",
    "):\n",
    "    makedirs(\n",
    "        destination_for_validation_labels\n",
    "    )\n"
   ]
  },
  {
   "cell_type": "code",
   "execution_count": 78,
   "id": "9ceb96aa",
   "metadata": {},
   "outputs": [],
   "source": [
    "for path in listdir(\n",
    "    original_dataset_image\n",
    "):\n",
    "    full_path_for_image: str = join(\n",
    "        original_dataset_image, \n",
    "        path\n",
    "    )\n",
    "\n",
    "    full_path_for_label: str = join(\n",
    "        original_dataset_label, \n",
    "        path\n",
    "    )\n",
    "\n",
    "    found_elements.append(\n",
    "        {\n",
    "            'image': full_path_for_image,\n",
    "            'label': full_path_for_label.replace(\n",
    "                '.jpg', \n",
    "                '.txt'\n",
    "            )\n",
    "        }\n",
    "    )"
   ]
  },
  {
   "cell_type": "code",
   "execution_count": 79,
   "id": "8d19ffd7",
   "metadata": {},
   "outputs": [],
   "source": [
    "import math\n",
    "used_for_validation: float = 0.20\n",
    "\n",
    "calculated_number_for_split: int = math.floor(\n",
    "    len(found_elements)\n",
    "    *\n",
    "    used_for_validation\n",
    ")"
   ]
  },
  {
   "cell_type": "code",
   "execution_count": 80,
   "id": "75abf776",
   "metadata": {},
   "outputs": [
    {
     "data": {
      "text/plain": [
       "{'image': '/mnt/c/Users/Kentv/Desktop/YOLO/images/004db6cd-Image_00141.jpg',\n",
       " 'label': '/mnt/c/Users/Kentv/Desktop/YOLO/labels/004db6cd-Image_00141.txt'}"
      ]
     },
     "execution_count": 80,
     "metadata": {},
     "output_type": "execute_result"
    }
   ],
   "source": [
    "found_elements[0]"
   ]
  },
  {
   "cell_type": "code",
   "execution_count": 81,
   "id": "de1b1914",
   "metadata": {},
   "outputs": [],
   "source": [
    "import random\n",
    "from shutil import move\n",
    "\n",
    "for i in range(calculated_number_for_split):\n",
    "    selected_number = random.randint(\n",
    "        0, \n",
    "        len(found_elements) - 1 # Last index number\n",
    "    )\n",
    "    \n",
    "    element = found_elements.pop(\n",
    "        selected_number\n",
    "    )\n",
    "    \n",
    "    move(\n",
    "        element['image'], \n",
    "        destination_for_validation_images\n",
    "    )\n",
    "\n",
    "    move(\n",
    "        element['label'], \n",
    "        destination_for_validation_labels\n",
    "    )"
   ]
  },
  {
   "cell_type": "code",
   "execution_count": 83,
   "id": "9377f9df",
   "metadata": {},
   "outputs": [],
   "source": [
    "for idx in range(len(found_elements)):\n",
    "    element = found_elements[idx]\n",
    "\n",
    "    move(element['image'], destination_for_training_images)\n",
    "    move(element['label'], destination_for_training_labels)\n",
    "\n",
    "del found_elements"
   ]
  },
  {
   "cell_type": "code",
   "execution_count": null,
   "id": "7f688f91",
   "metadata": {},
   "outputs": [],
   "source": [
    "for idx in range(len(found_elements)):\n",
    "    element = found_elements[idx]\n",
    "\n",
    "    move(element['image'], destination_for_training_images)\n",
    "    move(element['label'], destination_for_training_labels)\n",
    "\n",
    "del found_elements"
   ]
  }
 ],
 "metadata": {
  "kernelspec": {
   "display_name": "Python 3 (ipykernel)",
   "language": "python",
   "name": "python3"
  },
  "language_info": {
   "codemirror_mode": {
    "name": "ipython",
    "version": 3
   },
   "file_extension": ".py",
   "mimetype": "text/x-python",
   "name": "python",
   "nbconvert_exporter": "python",
   "pygments_lexer": "ipython3",
   "version": "3.12.8"
  }
 },
 "nbformat": 4,
 "nbformat_minor": 5
}
