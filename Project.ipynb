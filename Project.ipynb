{
 "cells": [
  {
   "cell_type": "code",
   "execution_count": 1,
   "id": "eb3f6064-6b33-4a92-b3ee-4984acb65460",
   "metadata": {},
   "outputs": [
    {
     "name": "stdout",
     "output_type": "stream",
     "text": [
      "Creating new Ultralytics Settings v0.0.6 file ✅ \n",
      "View Ultralytics Settings with 'yolo settings' or at '/home/ai/.config/Ultralytics/settings.json'\n",
      "Update Settings with 'yolo settings key=value', i.e. 'yolo settings runs_dir=path/to/dir'. For help see https://docs.ultralytics.com/quickstart/#ultralytics-settings.\n"
     ]
    }
   ],
   "source": [
    "from ultralytics import YOLO"
   ]
  },
  {
   "cell_type": "code",
   "execution_count": 2,
   "id": "4bc703ba",
   "metadata": {},
   "outputs": [
    {
     "name": "stdout",
     "output_type": "stream",
     "text": [
      "Downloading https://github.com/ultralytics/assets/releases/download/v8.3.0/yolo11m.pt to 'yolo11m.pt'...\n"
     ]
    },
    {
     "name": "stderr",
     "output_type": "stream",
     "text": [
      "100%|██████████| 38.8M/38.8M [00:18<00:00, 2.26MB/s]\n"
     ]
    }
   ],
   "source": [
    "model = YOLO(\"yolo11m.pt\")"
   ]
  },
  {
   "cell_type": "code",
   "execution_count": 18,
   "id": "a0cfeda0",
   "metadata": {},
   "outputs": [],
   "source": [
    "from os.path import join\n",
    "\n",
    "found_elements: list = list()\n",
    "original_dataset: str = '/mnt/c/Users/Kentv/Desktop/YOLO'\n",
    "\n",
    "\n",
    "destination_for_dataset: str = '/mnt/c/Users/Kentv/Desktop/TrainingUltralytics/.dataset'\n",
    "\n",
    "destination_for_training_dataset: str = join(\n",
    "    destination_for_dataset, \n",
    "    'training'\n",
    ")\n",
    "\n",
    "destination_for_validation_dataset: str = join(\n",
    "    destination_for_dataset, \n",
    "    'validation'\n",
    ")\n",
    "\n",
    "\n",
    "original_dataset_image: str = join(\n",
    "    original_dataset, \n",
    "    'images'\n",
    ")\n",
    "\n",
    "original_dataset_label: str = join(\n",
    "    original_dataset, \n",
    "    'labels'\n",
    ")"
   ]
  },
  {
   "cell_type": "code",
   "execution_count": 19,
   "id": "88da3d91",
   "metadata": {},
   "outputs": [],
   "source": [
    "from os.path import isfile, isdir\n",
    "from os import listdir"
   ]
  },
  {
   "cell_type": "code",
   "execution_count": 20,
   "id": "9ceb96aa",
   "metadata": {},
   "outputs": [],
   "source": [
    "for path in listdir(\n",
    "    original_dataset_image\n",
    "):\n",
    "    full_path_for_image: str = join(\n",
    "        original_dataset_image, \n",
    "        path\n",
    "    )\n",
    "\n",
    "    full_path_for_label: str = join(\n",
    "        original_dataset_label, \n",
    "        path\n",
    "    )\n",
    "\n",
    "    found_elements.append(\n",
    "        {\n",
    "            'image': full_path_for_image,\n",
    "            'label': full_path_for_label.replace(\n",
    "                '.jpg', \n",
    "                '.txt'\n",
    "            )\n",
    "        }\n",
    "    )"
   ]
  },
  {
   "cell_type": "code",
   "execution_count": 24,
   "id": "8d19ffd7",
   "metadata": {},
   "outputs": [],
   "source": [
    "import math\n",
    "used_for_validation: float = 0.20\n",
    "\n",
    "calculated_number_for_split: int = math.floor(\n",
    "    len(found_elements)\n",
    "    *\n",
    "    used_for_validation\n",
    ")"
   ]
  },
  {
   "cell_type": "code",
   "execution_count": 25,
   "id": "de1b1914",
   "metadata": {},
   "outputs": [
    {
     "data": {
      "text/plain": [
       "80"
      ]
     },
     "execution_count": 25,
     "metadata": {},
     "output_type": "execute_result"
    }
   ],
   "source": [
    "for i in calculated_number_for_split:\n"
   ]
  }
 ],
 "metadata": {
  "kernelspec": {
   "display_name": "Python 3 (ipykernel)",
   "language": "python",
   "name": "python3"
  },
  "language_info": {
   "codemirror_mode": {
    "name": "ipython",
    "version": 3
   },
   "file_extension": ".py",
   "mimetype": "text/x-python",
   "name": "python",
   "nbconvert_exporter": "python",
   "pygments_lexer": "ipython3",
   "version": "3.12.8"
  }
 },
 "nbformat": 4,
 "nbformat_minor": 5
}
