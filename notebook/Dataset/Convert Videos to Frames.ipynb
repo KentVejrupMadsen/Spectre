{
 "cells": [
  {
   "cell_type": "code",
   "execution_count": 1,
   "id": "58d56d21",
   "metadata": {},
   "outputs": [
    {
     "name": "stdout",
     "output_type": "stream",
     "text": [
      "Requirement already satisfied: pillow in /home/ai/anaconda3/envs/ultralytics/lib/python3.12/site-packages (10.4.0)\n",
      "Note: you may need to restart the kernel to use updated packages.\n",
      "Requirement already satisfied: OpenCV-Python in /home/ai/anaconda3/envs/ultralytics/lib/python3.12/site-packages (4.10.0.84)\n",
      "Requirement already satisfied: numpy>=1.21.2 in /home/ai/anaconda3/envs/ultralytics/lib/python3.12/site-packages (from OpenCV-Python) (1.26.4)\n",
      "Note: you may need to restart the kernel to use updated packages.\n"
     ]
    }
   ],
   "source": [
    "%pip install pillow\n",
    "%pip install OpenCV-Python"
   ]
  },
  {
   "cell_type": "code",
   "execution_count": 2,
   "id": "05829ae7",
   "metadata": {},
   "outputs": [],
   "source": [
    "from os import listdir, makedirs\n",
    "from os.path import isdir, isfile, join, basename\n",
    "\n",
    "import cv2\n",
    "\n",
    "DirectoryToLoadVideos: str = '/mnt/c/Users/Kentv/Downloads/Photos-001'\n",
    "DirectoryToSaveFrames: str = '/media/frames'\n",
    "\n",
    "counter_frame: int = 1\n"
   ]
  },
  {
   "cell_type": "code",
   "execution_count": 3,
   "id": "0a214657",
   "metadata": {},
   "outputs": [],
   "source": [
    "def setFrameCounter(\n",
    "    value: int\n",
    ") -> None:\n",
    "    global counter_frame\n",
    "    counter_frame = value\n",
    "\n",
    "def incrementOfFrameCounter() -> int:\n",
    "    global counter_frame\n",
    "    one: int = 1\n",
    "\n",
    "    setFrameCounter(\n",
    "        counter_frame \n",
    "        + \n",
    "        one\n",
    "    )\n",
    "\n",
    "    return getFrameCounter()\n",
    "\n",
    "def getFrameCounter() -> int:\n",
    "    global counter_frame\n",
    "    return counter_frame\n",
    "\n",
    "def resetFrameCounter() -> int:\n",
    "    global counter_frame\n",
    "    return counter_frame\n"
   ]
  },
  {
   "cell_type": "code",
   "execution_count": 4,
   "id": "f982d218",
   "metadata": {},
   "outputs": [],
   "source": [
    "if not isdir(\n",
    "    DirectoryToSaveFrames\n",
    "):\n",
    "    makedirs(\n",
    "        DirectoryToSaveFrames\n",
    "    )\n"
   ]
  },
  {
   "cell_type": "code",
   "execution_count": 5,
   "id": "2fc8481e",
   "metadata": {},
   "outputs": [],
   "source": [
    "found_files: list = list()\n",
    "\n",
    "for found in listdir(\n",
    "    DirectoryToLoadVideos\n",
    "):\n",
    "    full_path_to_file: str = join(\n",
    "        DirectoryToLoadVideos, \n",
    "        found\n",
    "    )\n",
    "\n",
    "    if isfile(\n",
    "        full_path_to_file\n",
    "    ):\n",
    "        found_files.append(\n",
    "            full_path_to_file\n",
    "        )"
   ]
  },
  {
   "cell_type": "code",
   "execution_count": 6,
   "id": "35777d20",
   "metadata": {},
   "outputs": [],
   "source": [
    "def remove_extension(filename):\n",
    "    from os.path import basename\n",
    "    zero: int = 0\n",
    "    one: int = 1\n",
    "\n",
    "    returnable: str = basename(filename)\n",
    "    current_position = len(returnable) - one\n",
    "\n",
    "    while(True):\n",
    "        current_position = current_position - one\n",
    "\n",
    "        if returnable[current_position] == '.':\n",
    "            break\n",
    "\n",
    "        if current_position == zero:\n",
    "            break\n",
    "\n",
    "    return returnable[zero:current_position]"
   ]
  },
  {
   "cell_type": "code",
   "execution_count": null,
   "id": "81a45b27",
   "metadata": {},
   "outputs": [],
   "source": [
    "from PIL import Image\n",
    "\n",
    "for file in found_files:\n",
    "    capture = cv2.VideoCapture(\n",
    "        file\n",
    "    )\n",
    "    \n",
    "    file_name: str = remove_extension(\n",
    "        file\n",
    "    )\n",
    "\n",
    "    while capture.isOpened():\n",
    "        returnable, frame = capture.read()\n",
    "        if not returnable:\n",
    "            break\n",
    "\n",
    "        full_file_name = join(\n",
    "            DirectoryToSaveFrames, \n",
    "            str(\n",
    "                file_name \n",
    "                + \n",
    "                '_' \n",
    "                + \n",
    "                str(getFrameCounter()) \n",
    "                + \n",
    "                '.jpg'\n",
    "            )\n",
    "        )\n",
    "\n",
    "        frame = cv2.cvtColor(\n",
    "            frame, \n",
    "            cv2.COLOR_BGR2RGB\n",
    "        )\n",
    "\n",
    "        save_as = Image.fromarray(\n",
    "            frame\n",
    "        )\n",
    "\n",
    "        save_as.save(\n",
    "            full_file_name,\n",
    "            subsampling = 0,\n",
    "            quality     = 100\n",
    "        )\n",
    "\n",
    "        incrementOfFrameCounter()\n",
    "    \n",
    "    resetFrameCounter()\n",
    "    capture.release()"
   ]
  }
 ],
 "metadata": {
  "kernelspec": {
   "display_name": "Python 3 (ipykernel)",
   "language": "python",
   "name": "python3"
  },
  "language_info": {
   "codemirror_mode": {
    "name": "ipython",
    "version": 3
   },
   "file_extension": ".py",
   "mimetype": "text/x-python",
   "name": "python",
   "nbconvert_exporter": "python",
   "pygments_lexer": "ipython3",
   "version": "3.12.8"
  }
 },
 "nbformat": 4,
 "nbformat_minor": 5
}
