{
 "cells": [
  {
   "cell_type": "code",
   "execution_count": null,
   "id": "f3819d17",
   "metadata": {},
   "outputs": [],
   "source": [
    "from ultralytics    \\\n",
    "    import YOLO"
   ]
  }
 ],
 "metadata": {
  "kernelspec": {
   "display_name": "Python 3 (ipykernel)",
   "language": "python",
   "name": "python3"
  }
 },
 "nbformat": 4,
 "nbformat_minor": 5
}
