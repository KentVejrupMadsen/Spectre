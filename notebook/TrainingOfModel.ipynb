{
 "cells": [
  {
   "cell_type": "code",
   "execution_count": 1,
   "id": "d455153e",
   "metadata": {},
   "outputs": [
    {
     "name": "stdout",
     "output_type": "stream",
     "text": [
      "Requirement already satisfied: wandb in /home/ai/anaconda3/envs/ultralytics/lib/python3.12/site-packages (0.19.4)\n",
      "Requirement already satisfied: click!=8.0.0,>=7.1 in /home/ai/anaconda3/envs/ultralytics/lib/python3.12/site-packages (from wandb) (8.1.8)\n",
      "Requirement already satisfied: docker-pycreds>=0.4.0 in /home/ai/anaconda3/envs/ultralytics/lib/python3.12/site-packages (from wandb) (0.4.0)\n",
      "Requirement already satisfied: gitpython!=3.1.29,>=1.0.0 in /home/ai/anaconda3/envs/ultralytics/lib/python3.12/site-packages (from wandb) (3.1.44)\n",
      "Requirement already satisfied: platformdirs in /home/ai/anaconda3/envs/ultralytics/lib/python3.12/site-packages (from wandb) (4.3.6)\n",
      "Requirement already satisfied: protobuf!=4.21.0,!=5.28.0,<6,>=3.19.0 in /home/ai/anaconda3/envs/ultralytics/lib/python3.12/site-packages (from wandb) (5.29.3)\n",
      "Requirement already satisfied: psutil>=5.0.0 in /home/ai/anaconda3/envs/ultralytics/lib/python3.12/site-packages (from wandb) (5.9.0)\n",
      "Requirement already satisfied: pydantic<3,>=2.6 in /home/ai/anaconda3/envs/ultralytics/lib/python3.12/site-packages (from wandb) (2.10.6)\n",
      "Requirement already satisfied: pyyaml in /home/ai/anaconda3/envs/ultralytics/lib/python3.12/site-packages (from wandb) (6.0.2)\n",
      "Requirement already satisfied: requests<3,>=2.0.0 in /home/ai/anaconda3/envs/ultralytics/lib/python3.12/site-packages (from wandb) (2.32.3)\n",
      "Requirement already satisfied: sentry-sdk>=2.0.0 in /home/ai/anaconda3/envs/ultralytics/lib/python3.12/site-packages (from wandb) (2.20.0)\n",
      "Requirement already satisfied: setproctitle in /home/ai/anaconda3/envs/ultralytics/lib/python3.12/site-packages (from wandb) (1.3.4)\n",
      "Requirement already satisfied: setuptools in /home/ai/anaconda3/envs/ultralytics/lib/python3.12/site-packages (from wandb) (72.1.0)\n",
      "Requirement already satisfied: six>=1.4.0 in /home/ai/anaconda3/envs/ultralytics/lib/python3.12/site-packages (from docker-pycreds>=0.4.0->wandb) (1.17.0)\n",
      "Requirement already satisfied: gitdb<5,>=4.0.1 in /home/ai/anaconda3/envs/ultralytics/lib/python3.12/site-packages (from gitpython!=3.1.29,>=1.0.0->wandb) (4.0.12)\n",
      "Requirement already satisfied: annotated-types>=0.6.0 in /home/ai/anaconda3/envs/ultralytics/lib/python3.12/site-packages (from pydantic<3,>=2.6->wandb) (0.7.0)\n",
      "Requirement already satisfied: pydantic-core==2.27.2 in /home/ai/anaconda3/envs/ultralytics/lib/python3.12/site-packages (from pydantic<3,>=2.6->wandb) (2.27.2)\n",
      "Requirement already satisfied: typing-extensions>=4.12.2 in /home/ai/anaconda3/envs/ultralytics/lib/python3.12/site-packages (from pydantic<3,>=2.6->wandb) (4.12.2)\n",
      "Requirement already satisfied: charset-normalizer<4,>=2 in /home/ai/anaconda3/envs/ultralytics/lib/python3.12/site-packages (from requests<3,>=2.0.0->wandb) (3.3.2)\n",
      "Requirement already satisfied: idna<4,>=2.5 in /home/ai/anaconda3/envs/ultralytics/lib/python3.12/site-packages (from requests<3,>=2.0.0->wandb) (3.7)\n",
      "Requirement already satisfied: urllib3<3,>=1.21.1 in /home/ai/anaconda3/envs/ultralytics/lib/python3.12/site-packages (from requests<3,>=2.0.0->wandb) (2.3.0)\n",
      "Requirement already satisfied: certifi>=2017.4.17 in /home/ai/anaconda3/envs/ultralytics/lib/python3.12/site-packages (from requests<3,>=2.0.0->wandb) (2024.12.14)\n",
      "Requirement already satisfied: smmap<6,>=3.0.1 in /home/ai/anaconda3/envs/ultralytics/lib/python3.12/site-packages (from gitdb<5,>=4.0.1->gitpython!=3.1.29,>=1.0.0->wandb) (5.0.2)\n",
      "Note: you may need to restart the kernel to use updated packages.\n",
      "Requirement already satisfied: ultralytics in /home/ai/anaconda3/envs/ultralytics/lib/python3.12/site-packages (8.3.72)\n",
      "Requirement already satisfied: numpy<=2.1.1,>=1.23.0 in /home/ai/anaconda3/envs/ultralytics/lib/python3.12/site-packages (from ultralytics) (1.26.4)\n",
      "Requirement already satisfied: matplotlib>=3.3.0 in /home/ai/anaconda3/envs/ultralytics/lib/python3.12/site-packages (from ultralytics) (3.10.0)\n",
      "Requirement already satisfied: opencv-python>=4.6.0 in /home/ai/anaconda3/envs/ultralytics/lib/python3.12/site-packages (from ultralytics) (4.10.0.84)\n",
      "Requirement already satisfied: pillow>=7.1.2 in /home/ai/anaconda3/envs/ultralytics/lib/python3.12/site-packages (from ultralytics) (10.4.0)\n",
      "Requirement already satisfied: pyyaml>=5.3.1 in /home/ai/anaconda3/envs/ultralytics/lib/python3.12/site-packages (from ultralytics) (6.0.2)\n",
      "Requirement already satisfied: requests>=2.23.0 in /home/ai/anaconda3/envs/ultralytics/lib/python3.12/site-packages (from ultralytics) (2.32.3)\n",
      "Requirement already satisfied: scipy>=1.4.1 in /home/ai/anaconda3/envs/ultralytics/lib/python3.12/site-packages (from ultralytics) (1.15.1)\n",
      "Requirement already satisfied: torch>=1.8.0 in /home/ai/anaconda3/envs/ultralytics/lib/python3.12/site-packages (from ultralytics) (2.5.1)\n",
      "Requirement already satisfied: torchvision>=0.9.0 in /home/ai/anaconda3/envs/ultralytics/lib/python3.12/site-packages (from ultralytics) (0.20.1)\n",
      "Requirement already satisfied: tqdm>=4.64.0 in /home/ai/anaconda3/envs/ultralytics/lib/python3.12/site-packages (from ultralytics) (4.67.1)\n",
      "Requirement already satisfied: psutil in /home/ai/anaconda3/envs/ultralytics/lib/python3.12/site-packages (from ultralytics) (5.9.0)\n",
      "Requirement already satisfied: py-cpuinfo in /home/ai/anaconda3/envs/ultralytics/lib/python3.12/site-packages (from ultralytics) (9.0.0)\n",
      "Requirement already satisfied: pandas>=1.1.4 in /home/ai/anaconda3/envs/ultralytics/lib/python3.12/site-packages (from ultralytics) (2.2.3)\n",
      "Requirement already satisfied: seaborn>=0.11.0 in /home/ai/anaconda3/envs/ultralytics/lib/python3.12/site-packages (from ultralytics) (0.13.2)\n",
      "Requirement already satisfied: ultralytics-thop>=2.0.0 in /home/ai/anaconda3/envs/ultralytics/lib/python3.12/site-packages (from ultralytics) (2.0.14)\n",
      "Requirement already satisfied: contourpy>=1.0.1 in /home/ai/anaconda3/envs/ultralytics/lib/python3.12/site-packages (from matplotlib>=3.3.0->ultralytics) (1.3.1)\n",
      "Requirement already satisfied: cycler>=0.10 in /home/ai/anaconda3/envs/ultralytics/lib/python3.12/site-packages (from matplotlib>=3.3.0->ultralytics) (0.12.1)\n",
      "Requirement already satisfied: fonttools>=4.22.0 in /home/ai/anaconda3/envs/ultralytics/lib/python3.12/site-packages (from matplotlib>=3.3.0->ultralytics) (4.55.6)\n",
      "Requirement already satisfied: kiwisolver>=1.3.1 in /home/ai/anaconda3/envs/ultralytics/lib/python3.12/site-packages (from matplotlib>=3.3.0->ultralytics) (1.4.8)\n",
      "Requirement already satisfied: packaging>=20.0 in /home/ai/anaconda3/envs/ultralytics/lib/python3.12/site-packages (from matplotlib>=3.3.0->ultralytics) (24.2)\n",
      "Requirement already satisfied: pyparsing>=2.3.1 in /home/ai/anaconda3/envs/ultralytics/lib/python3.12/site-packages (from matplotlib>=3.3.0->ultralytics) (3.2.1)\n",
      "Requirement already satisfied: python-dateutil>=2.7 in /home/ai/anaconda3/envs/ultralytics/lib/python3.12/site-packages (from matplotlib>=3.3.0->ultralytics) (2.9.0.post0)\n",
      "Requirement already satisfied: pytz>=2020.1 in /home/ai/anaconda3/envs/ultralytics/lib/python3.12/site-packages (from pandas>=1.1.4->ultralytics) (2024.2)\n",
      "Requirement already satisfied: tzdata>=2022.7 in /home/ai/anaconda3/envs/ultralytics/lib/python3.12/site-packages (from pandas>=1.1.4->ultralytics) (2025.1)\n",
      "Requirement already satisfied: charset-normalizer<4,>=2 in /home/ai/anaconda3/envs/ultralytics/lib/python3.12/site-packages (from requests>=2.23.0->ultralytics) (3.3.2)\n",
      "Requirement already satisfied: idna<4,>=2.5 in /home/ai/anaconda3/envs/ultralytics/lib/python3.12/site-packages (from requests>=2.23.0->ultralytics) (3.7)\n",
      "Requirement already satisfied: urllib3<3,>=1.21.1 in /home/ai/anaconda3/envs/ultralytics/lib/python3.12/site-packages (from requests>=2.23.0->ultralytics) (2.3.0)\n",
      "Requirement already satisfied: certifi>=2017.4.17 in /home/ai/anaconda3/envs/ultralytics/lib/python3.12/site-packages (from requests>=2.23.0->ultralytics) (2024.12.14)\n",
      "Requirement already satisfied: filelock in /home/ai/anaconda3/envs/ultralytics/lib/python3.12/site-packages (from torch>=1.8.0->ultralytics) (3.13.1)\n",
      "Requirement already satisfied: typing-extensions>=4.8.0 in /home/ai/anaconda3/envs/ultralytics/lib/python3.12/site-packages (from torch>=1.8.0->ultralytics) (4.12.2)\n",
      "Requirement already satisfied: setuptools in /home/ai/anaconda3/envs/ultralytics/lib/python3.12/site-packages (from torch>=1.8.0->ultralytics) (72.1.0)\n",
      "Requirement already satisfied: sympy==1.13.1 in /home/ai/anaconda3/envs/ultralytics/lib/python3.12/site-packages (from torch>=1.8.0->ultralytics) (1.13.1)\n",
      "Requirement already satisfied: networkx in /home/ai/anaconda3/envs/ultralytics/lib/python3.12/site-packages (from torch>=1.8.0->ultralytics) (3.4.2)\n",
      "Requirement already satisfied: jinja2 in /home/ai/anaconda3/envs/ultralytics/lib/python3.12/site-packages (from torch>=1.8.0->ultralytics) (3.1.5)\n",
      "Requirement already satisfied: fsspec in /home/ai/anaconda3/envs/ultralytics/lib/python3.12/site-packages (from torch>=1.8.0->ultralytics) (2024.12.0)\n",
      "Requirement already satisfied: mpmath<1.4,>=1.1.0 in /home/ai/anaconda3/envs/ultralytics/lib/python3.12/site-packages (from sympy==1.13.1->torch>=1.8.0->ultralytics) (1.3.0)\n",
      "Requirement already satisfied: six>=1.5 in /home/ai/anaconda3/envs/ultralytics/lib/python3.12/site-packages (from python-dateutil>=2.7->matplotlib>=3.3.0->ultralytics) (1.17.0)\n",
      "Requirement already satisfied: MarkupSafe>=2.0 in /home/ai/anaconda3/envs/ultralytics/lib/python3.12/site-packages (from jinja2->torch>=1.8.0->ultralytics) (2.1.3)\n",
      "Note: you may need to restart the kernel to use updated packages.\n",
      "Requirement already satisfied: matplotlib in /home/ai/anaconda3/envs/ultralytics/lib/python3.12/site-packages (3.10.0)\n",
      "Requirement already satisfied: contourpy>=1.0.1 in /home/ai/anaconda3/envs/ultralytics/lib/python3.12/site-packages (from matplotlib) (1.3.1)\n",
      "Requirement already satisfied: cycler>=0.10 in /home/ai/anaconda3/envs/ultralytics/lib/python3.12/site-packages (from matplotlib) (0.12.1)\n",
      "Requirement already satisfied: fonttools>=4.22.0 in /home/ai/anaconda3/envs/ultralytics/lib/python3.12/site-packages (from matplotlib) (4.55.6)\n",
      "Requirement already satisfied: kiwisolver>=1.3.1 in /home/ai/anaconda3/envs/ultralytics/lib/python3.12/site-packages (from matplotlib) (1.4.8)\n",
      "Requirement already satisfied: numpy>=1.23 in /home/ai/anaconda3/envs/ultralytics/lib/python3.12/site-packages (from matplotlib) (1.26.4)\n",
      "Requirement already satisfied: packaging>=20.0 in /home/ai/anaconda3/envs/ultralytics/lib/python3.12/site-packages (from matplotlib) (24.2)\n",
      "Requirement already satisfied: pillow>=8 in /home/ai/anaconda3/envs/ultralytics/lib/python3.12/site-packages (from matplotlib) (10.4.0)\n",
      "Requirement already satisfied: pyparsing>=2.3.1 in /home/ai/anaconda3/envs/ultralytics/lib/python3.12/site-packages (from matplotlib) (3.2.1)\n",
      "Requirement already satisfied: python-dateutil>=2.7 in /home/ai/anaconda3/envs/ultralytics/lib/python3.12/site-packages (from matplotlib) (2.9.0.post0)\n",
      "Requirement already satisfied: six>=1.5 in /home/ai/anaconda3/envs/ultralytics/lib/python3.12/site-packages (from python-dateutil>=2.7->matplotlib) (1.17.0)\n",
      "Note: you may need to restart the kernel to use updated packages.\n",
      "Requirement already satisfied: numpy in /home/ai/anaconda3/envs/ultralytics/lib/python3.12/site-packages (1.26.4)\n",
      "Note: you may need to restart the kernel to use updated packages.\n",
      "Requirement already satisfied: opencv-python in /home/ai/anaconda3/envs/ultralytics/lib/python3.12/site-packages (4.10.0.84)\n",
      "Requirement already satisfied: numpy>=1.21.2 in /home/ai/anaconda3/envs/ultralytics/lib/python3.12/site-packages (from opencv-python) (1.26.4)\n",
      "Note: you may need to restart the kernel to use updated packages.\n",
      "Requirement already satisfied: inference in /home/ai/anaconda3/envs/ultralytics/lib/python3.12/site-packages (0.36.1)\n",
      "Requirement already satisfied: aiortc~=1.9.0 in /home/ai/anaconda3/envs/ultralytics/lib/python3.12/site-packages (from inference) (1.9.0)\n",
      "Requirement already satisfied: APScheduler<4.0.0,>=3.10.1 in /home/ai/anaconda3/envs/ultralytics/lib/python3.12/site-packages (from inference) (3.11.0)\n",
      "Requirement already satisfied: asyncua~=1.1.5 in /home/ai/anaconda3/envs/ultralytics/lib/python3.12/site-packages (from inference) (1.1.5)\n",
      "Requirement already satisfied: cython~=3.0.0 in /home/ai/anaconda3/envs/ultralytics/lib/python3.12/site-packages (from inference) (3.0.11)\n",
      "Requirement already satisfied: python-dotenv~=1.0.0 in /home/ai/anaconda3/envs/ultralytics/lib/python3.12/site-packages (from inference) (1.0.1)\n",
      "Requirement already satisfied: fastapi<0.111,>=0.100 in /home/ai/anaconda3/envs/ultralytics/lib/python3.12/site-packages (from inference) (0.110.3)\n",
      "Requirement already satisfied: numpy<=1.26.4 in /home/ai/anaconda3/envs/ultralytics/lib/python3.12/site-packages (from inference) (1.26.4)\n",
      "Requirement already satisfied: opencv-python<=4.10.0.84,>=4.8.1.78 in /home/ai/anaconda3/envs/ultralytics/lib/python3.12/site-packages (from inference) (4.10.0.84)\n",
      "Requirement already satisfied: pillow<11.0 in /home/ai/anaconda3/envs/ultralytics/lib/python3.12/site-packages (from inference) (10.4.0)\n",
      "Requirement already satisfied: prometheus-fastapi-instrumentator<=6.0.0 in /home/ai/anaconda3/envs/ultralytics/lib/python3.12/site-packages (from inference) (6.0.0)\n",
      "Requirement already satisfied: redis~=5.0.0 in /home/ai/anaconda3/envs/ultralytics/lib/python3.12/site-packages (from inference) (5.0.8)\n",
      "Requirement already satisfied: requests<3.0.0,>=2.32.0 in /home/ai/anaconda3/envs/ultralytics/lib/python3.12/site-packages (from inference) (2.32.3)\n",
      "Requirement already satisfied: rich<13.10.0,>=13.0.0 in /home/ai/anaconda3/envs/ultralytics/lib/python3.12/site-packages (from inference) (13.0.1)\n",
      "Requirement already satisfied: supervision<=0.30.0,>=0.25.1 in /home/ai/anaconda3/envs/ultralytics/lib/python3.12/site-packages (from inference) (0.25.1)\n",
      "Requirement already satisfied: pybase64~=1.0.0 in /home/ai/anaconda3/envs/ultralytics/lib/python3.12/site-packages (from inference) (1.0.2)\n",
      "Requirement already satisfied: scikit-image<=0.24.0,>=0.19.0 in /home/ai/anaconda3/envs/ultralytics/lib/python3.12/site-packages (from inference) (0.24.0)\n",
      "Requirement already satisfied: requests-toolbelt~=1.0.0 in /home/ai/anaconda3/envs/ultralytics/lib/python3.12/site-packages (from inference) (1.0.0)\n",
      "Requirement already satisfied: wheel<=0.45.0,>=0.38.1 in /home/ai/anaconda3/envs/ultralytics/lib/python3.12/site-packages (from inference) (0.44.0)\n",
      "Requirement already satisfied: setuptools>=70.0.0 in /home/ai/anaconda3/envs/ultralytics/lib/python3.12/site-packages (from inference) (72.1.0)\n",
      "Requirement already satisfied: networkx~=3.1 in /home/ai/anaconda3/envs/ultralytics/lib/python3.12/site-packages (from inference) (3.4.2)\n",
      "Requirement already satisfied: pydantic~=2.6 in /home/ai/anaconda3/envs/ultralytics/lib/python3.12/site-packages (from inference) (2.10.6)\n",
      "Requirement already satisfied: pydantic-settings~=2.2 in /home/ai/anaconda3/envs/ultralytics/lib/python3.12/site-packages (from inference) (2.7.1)\n",
      "Requirement already satisfied: openai<2.0.0,>=1.12.0 in /home/ai/anaconda3/envs/ultralytics/lib/python3.12/site-packages (from inference) (1.61.1)\n",
      "Requirement already satisfied: structlog<25.0.0,>=24.1.0 in /home/ai/anaconda3/envs/ultralytics/lib/python3.12/site-packages (from inference) (24.4.0)\n",
      "Requirement already satisfied: zxing-cpp~=2.2.0 in /home/ai/anaconda3/envs/ultralytics/lib/python3.12/site-packages (from inference) (2.2.0)\n",
      "Requirement already satisfied: boto3<=1.35.60 in /home/ai/anaconda3/envs/ultralytics/lib/python3.12/site-packages (from inference) (1.35.60)\n",
      "Requirement already satisfied: typing_extensions<=4.12.2,>=4.8.0 in /home/ai/anaconda3/envs/ultralytics/lib/python3.12/site-packages (from inference) (4.12.2)\n",
      "Requirement already satisfied: pydot~=2.0.0 in /home/ai/anaconda3/envs/ultralytics/lib/python3.12/site-packages (from inference) (2.0.0)\n",
      "Requirement already satisfied: shapely<2.1.0,>=2.0.0 in /home/ai/anaconda3/envs/ultralytics/lib/python3.12/site-packages (from inference) (2.0.7)\n",
      "Requirement already satisfied: tldextract~=5.1.2 in /home/ai/anaconda3/envs/ultralytics/lib/python3.12/site-packages (from inference) (5.1.3)\n",
      "Requirement already satisfied: packaging~=24.0 in /home/ai/anaconda3/envs/ultralytics/lib/python3.12/site-packages (from inference) (24.2)\n",
      "Requirement already satisfied: anthropic~=0.34.2 in /home/ai/anaconda3/envs/ultralytics/lib/python3.12/site-packages (from inference) (0.34.2)\n",
      "Requirement already satisfied: pandas<2.3.0,>=2.0.0 in /home/ai/anaconda3/envs/ultralytics/lib/python3.12/site-packages (from inference) (2.2.3)\n",
      "Requirement already satisfied: paho-mqtt~=1.6.1 in /home/ai/anaconda3/envs/ultralytics/lib/python3.12/site-packages (from inference) (1.6.1)\n",
      "Requirement already satisfied: pytest<9.0.0,>=8.0.0 in /home/ai/anaconda3/envs/ultralytics/lib/python3.12/site-packages (from inference) (8.3.4)\n",
      "Requirement already satisfied: tokenizers<=0.20.3,>=0.19.0 in /home/ai/anaconda3/envs/ultralytics/lib/python3.12/site-packages (from inference) (0.20.3)\n",
      "Requirement already satisfied: slack-sdk~=3.33.4 in /home/ai/anaconda3/envs/ultralytics/lib/python3.12/site-packages (from inference) (3.33.5)\n",
      "Requirement already satisfied: twilio~=9.3.7 in /home/ai/anaconda3/envs/ultralytics/lib/python3.12/site-packages (from inference) (9.3.8)\n",
      "Requirement already satisfied: httpx<0.28.0,>=0.25.1 in /home/ai/anaconda3/envs/ultralytics/lib/python3.12/site-packages (from inference) (0.27.2)\n",
      "Requirement already satisfied: pylogix==1.0.5 in /home/ai/anaconda3/envs/ultralytics/lib/python3.12/site-packages (from inference) (1.0.5)\n",
      "Requirement already satisfied: pymodbus<=3.8.3,>=3.6.9 in /home/ai/anaconda3/envs/ultralytics/lib/python3.12/site-packages (from inference) (3.8.3)\n",
      "Requirement already satisfied: onnxruntime<1.20.0,>=1.15.1 in /home/ai/anaconda3/envs/ultralytics/lib/python3.12/site-packages (from inference) (1.19.2)\n",
      "Requirement already satisfied: nvidia-ml-py<13.0.0 in /home/ai/anaconda3/envs/ultralytics/lib/python3.12/site-packages (from inference) (12.570.86)\n",
      "Requirement already satisfied: docker<8.0.0,>=7.0.0 in /home/ai/anaconda3/envs/ultralytics/lib/python3.12/site-packages (from inference) (7.1.0)\n",
      "Requirement already satisfied: typer<=0.12.5,>=0.9.0 in /home/ai/anaconda3/envs/ultralytics/lib/python3.12/site-packages (from inference) (0.12.5)\n",
      "Requirement already satisfied: PyYAML~=6.0.0 in /home/ai/anaconda3/envs/ultralytics/lib/python3.12/site-packages (from inference) (6.0.2)\n",
      "Requirement already satisfied: tqdm<5.0.0,>=4.0.0 in /home/ai/anaconda3/envs/ultralytics/lib/python3.12/site-packages (from inference) (4.67.1)\n",
      "Requirement already satisfied: py-cpuinfo~=9.0.0 in /home/ai/anaconda3/envs/ultralytics/lib/python3.12/site-packages (from inference) (9.0.0)\n",
      "Requirement already satisfied: aiohttp<=3.10.11,>=3.9.0 in /home/ai/anaconda3/envs/ultralytics/lib/python3.12/site-packages (from inference) (3.10.11)\n",
      "Requirement already satisfied: backoff~=2.2.0 in /home/ai/anaconda3/envs/ultralytics/lib/python3.12/site-packages (from inference) (2.2.1)\n",
      "Requirement already satisfied: dataclasses-json~=0.6.0 in /home/ai/anaconda3/envs/ultralytics/lib/python3.12/site-packages (from inference) (0.6.7)\n",
      "Requirement already satisfied: aiohappyeyeballs>=2.3.0 in /home/ai/anaconda3/envs/ultralytics/lib/python3.12/site-packages (from aiohttp<=3.10.11,>=3.9.0->inference) (2.4.4)\n",
      "Requirement already satisfied: aiosignal>=1.1.2 in /home/ai/anaconda3/envs/ultralytics/lib/python3.12/site-packages (from aiohttp<=3.10.11,>=3.9.0->inference) (1.3.2)\n",
      "Requirement already satisfied: attrs>=17.3.0 in /home/ai/anaconda3/envs/ultralytics/lib/python3.12/site-packages (from aiohttp<=3.10.11,>=3.9.0->inference) (25.1.0)\n",
      "Requirement already satisfied: frozenlist>=1.1.1 in /home/ai/anaconda3/envs/ultralytics/lib/python3.12/site-packages (from aiohttp<=3.10.11,>=3.9.0->inference) (1.5.0)\n",
      "Requirement already satisfied: multidict<7.0,>=4.5 in /home/ai/anaconda3/envs/ultralytics/lib/python3.12/site-packages (from aiohttp<=3.10.11,>=3.9.0->inference) (6.1.0)\n",
      "Requirement already satisfied: yarl<2.0,>=1.12.0 in /home/ai/anaconda3/envs/ultralytics/lib/python3.12/site-packages (from aiohttp<=3.10.11,>=3.9.0->inference) (1.18.3)\n",
      "Requirement already satisfied: aioice<1.0.0,>=0.9.0 in /home/ai/anaconda3/envs/ultralytics/lib/python3.12/site-packages (from aiortc~=1.9.0->inference) (0.9.0)\n",
      "Requirement already satisfied: av<13.0.0,>=9.0.0 in /home/ai/anaconda3/envs/ultralytics/lib/python3.12/site-packages (from aiortc~=1.9.0->inference) (12.3.0)\n",
      "Requirement already satisfied: cffi>=1.0.0 in /home/ai/anaconda3/envs/ultralytics/lib/python3.12/site-packages (from aiortc~=1.9.0->inference) (1.17.1)\n",
      "Requirement already satisfied: cryptography>=42.0.0 in /home/ai/anaconda3/envs/ultralytics/lib/python3.12/site-packages (from aiortc~=1.9.0->inference) (44.0.0)\n",
      "Requirement already satisfied: google-crc32c>=1.1 in /home/ai/anaconda3/envs/ultralytics/lib/python3.12/site-packages (from aiortc~=1.9.0->inference) (1.6.0)\n",
      "Requirement already satisfied: pyee>=9.0.0 in /home/ai/anaconda3/envs/ultralytics/lib/python3.12/site-packages (from aiortc~=1.9.0->inference) (12.1.1)\n",
      "Requirement already satisfied: pylibsrtp>=0.10.0 in /home/ai/anaconda3/envs/ultralytics/lib/python3.12/site-packages (from aiortc~=1.9.0->inference) (0.11.0)\n",
      "Requirement already satisfied: pyopenssl>=24.0.0 in /home/ai/anaconda3/envs/ultralytics/lib/python3.12/site-packages (from aiortc~=1.9.0->inference) (25.0.0)\n",
      "Requirement already satisfied: anyio<5,>=3.5.0 in /home/ai/anaconda3/envs/ultralytics/lib/python3.12/site-packages (from anthropic~=0.34.2->inference) (4.8.0)\n",
      "Requirement already satisfied: distro<2,>=1.7.0 in /home/ai/anaconda3/envs/ultralytics/lib/python3.12/site-packages (from anthropic~=0.34.2->inference) (1.9.0)\n",
      "Requirement already satisfied: jiter<1,>=0.4.0 in /home/ai/anaconda3/envs/ultralytics/lib/python3.12/site-packages (from anthropic~=0.34.2->inference) (0.8.2)\n",
      "Requirement already satisfied: sniffio in /home/ai/anaconda3/envs/ultralytics/lib/python3.12/site-packages (from anthropic~=0.34.2->inference) (1.3.1)\n",
      "Requirement already satisfied: tzlocal>=3.0 in /home/ai/anaconda3/envs/ultralytics/lib/python3.12/site-packages (from APScheduler<4.0.0,>=3.10.1->inference) (5.2)\n",
      "Requirement already satisfied: aiofiles in /home/ai/anaconda3/envs/ultralytics/lib/python3.12/site-packages (from asyncua~=1.1.5->inference) (24.1.0)\n",
      "Requirement already satisfied: aiosqlite in /home/ai/anaconda3/envs/ultralytics/lib/python3.12/site-packages (from asyncua~=1.1.5->inference) (0.21.0)\n",
      "Requirement already satisfied: python-dateutil in /home/ai/anaconda3/envs/ultralytics/lib/python3.12/site-packages (from asyncua~=1.1.5->inference) (2.9.0.post0)\n",
      "Requirement already satisfied: pytz in /home/ai/anaconda3/envs/ultralytics/lib/python3.12/site-packages (from asyncua~=1.1.5->inference) (2024.2)\n",
      "Requirement already satisfied: sortedcontainers in /home/ai/anaconda3/envs/ultralytics/lib/python3.12/site-packages (from asyncua~=1.1.5->inference) (2.4.0)\n",
      "Requirement already satisfied: botocore<1.36.0,>=1.35.60 in /home/ai/anaconda3/envs/ultralytics/lib/python3.12/site-packages (from boto3<=1.35.60->inference) (1.35.99)\n",
      "Requirement already satisfied: jmespath<2.0.0,>=0.7.1 in /home/ai/anaconda3/envs/ultralytics/lib/python3.12/site-packages (from boto3<=1.35.60->inference) (1.0.1)\n",
      "Requirement already satisfied: s3transfer<0.11.0,>=0.10.0 in /home/ai/anaconda3/envs/ultralytics/lib/python3.12/site-packages (from boto3<=1.35.60->inference) (0.10.4)\n",
      "Requirement already satisfied: marshmallow<4.0.0,>=3.18.0 in /home/ai/anaconda3/envs/ultralytics/lib/python3.12/site-packages (from dataclasses-json~=0.6.0->inference) (3.26.1)\n",
      "Requirement already satisfied: typing-inspect<1,>=0.4.0 in /home/ai/anaconda3/envs/ultralytics/lib/python3.12/site-packages (from dataclasses-json~=0.6.0->inference) (0.9.0)\n",
      "Requirement already satisfied: urllib3>=1.26.0 in /home/ai/anaconda3/envs/ultralytics/lib/python3.12/site-packages (from docker<8.0.0,>=7.0.0->inference) (2.3.0)\n",
      "Requirement already satisfied: starlette<0.38.0,>=0.37.2 in /home/ai/anaconda3/envs/ultralytics/lib/python3.12/site-packages (from fastapi<0.111,>=0.100->inference) (0.37.2)\n",
      "Requirement already satisfied: certifi in /home/ai/anaconda3/envs/ultralytics/lib/python3.12/site-packages (from httpx<0.28.0,>=0.25.1->inference) (2024.12.14)\n",
      "Requirement already satisfied: httpcore==1.* in /home/ai/anaconda3/envs/ultralytics/lib/python3.12/site-packages (from httpx<0.28.0,>=0.25.1->inference) (1.0.7)\n",
      "Requirement already satisfied: idna in /home/ai/anaconda3/envs/ultralytics/lib/python3.12/site-packages (from httpx<0.28.0,>=0.25.1->inference) (3.7)\n",
      "Requirement already satisfied: h11<0.15,>=0.13 in /home/ai/anaconda3/envs/ultralytics/lib/python3.12/site-packages (from httpcore==1.*->httpx<0.28.0,>=0.25.1->inference) (0.14.0)\n",
      "Requirement already satisfied: coloredlogs in /home/ai/anaconda3/envs/ultralytics/lib/python3.12/site-packages (from onnxruntime<1.20.0,>=1.15.1->inference) (15.0.1)\n",
      "Requirement already satisfied: flatbuffers in /home/ai/anaconda3/envs/ultralytics/lib/python3.12/site-packages (from onnxruntime<1.20.0,>=1.15.1->inference) (25.1.24)\n",
      "Requirement already satisfied: protobuf in /home/ai/anaconda3/envs/ultralytics/lib/python3.12/site-packages (from onnxruntime<1.20.0,>=1.15.1->inference) (5.29.3)\n",
      "Requirement already satisfied: sympy in /home/ai/anaconda3/envs/ultralytics/lib/python3.12/site-packages (from onnxruntime<1.20.0,>=1.15.1->inference) (1.13.1)\n",
      "Requirement already satisfied: tzdata>=2022.7 in /home/ai/anaconda3/envs/ultralytics/lib/python3.12/site-packages (from pandas<2.3.0,>=2.0.0->inference) (2025.1)\n",
      "Requirement already satisfied: prometheus-client<1.0.0,>=0.8.0 in /home/ai/anaconda3/envs/ultralytics/lib/python3.12/site-packages (from prometheus-fastapi-instrumentator<=6.0.0->inference) (0.21.1)\n",
      "Requirement already satisfied: annotated-types>=0.6.0 in /home/ai/anaconda3/envs/ultralytics/lib/python3.12/site-packages (from pydantic~=2.6->inference) (0.7.0)\n",
      "Requirement already satisfied: pydantic-core==2.27.2 in /home/ai/anaconda3/envs/ultralytics/lib/python3.12/site-packages (from pydantic~=2.6->inference) (2.27.2)\n",
      "Requirement already satisfied: pyparsing>=3 in /home/ai/anaconda3/envs/ultralytics/lib/python3.12/site-packages (from pydot~=2.0.0->inference) (3.2.1)\n",
      "Requirement already satisfied: iniconfig in /home/ai/anaconda3/envs/ultralytics/lib/python3.12/site-packages (from pytest<9.0.0,>=8.0.0->inference) (2.0.0)\n",
      "Requirement already satisfied: pluggy<2,>=1.5 in /home/ai/anaconda3/envs/ultralytics/lib/python3.12/site-packages (from pytest<9.0.0,>=8.0.0->inference) (1.5.0)\n",
      "Requirement already satisfied: charset-normalizer<4,>=2 in /home/ai/anaconda3/envs/ultralytics/lib/python3.12/site-packages (from requests<3.0.0,>=2.32.0->inference) (3.3.2)\n",
      "Requirement already satisfied: commonmark<0.10.0,>=0.9.0 in /home/ai/anaconda3/envs/ultralytics/lib/python3.12/site-packages (from rich<13.10.0,>=13.0.0->inference) (0.9.1)\n",
      "Requirement already satisfied: pygments<3.0.0,>=2.6.0 in /home/ai/anaconda3/envs/ultralytics/lib/python3.12/site-packages (from rich<13.10.0,>=13.0.0->inference) (2.19.1)\n",
      "Requirement already satisfied: scipy>=1.9 in /home/ai/anaconda3/envs/ultralytics/lib/python3.12/site-packages (from scikit-image<=0.24.0,>=0.19.0->inference) (1.15.1)\n",
      "Requirement already satisfied: imageio>=2.33 in /home/ai/anaconda3/envs/ultralytics/lib/python3.12/site-packages (from scikit-image<=0.24.0,>=0.19.0->inference) (2.37.0)\n",
      "Requirement already satisfied: tifffile>=2022.8.12 in /home/ai/anaconda3/envs/ultralytics/lib/python3.12/site-packages (from scikit-image<=0.24.0,>=0.19.0->inference) (2025.1.10)\n",
      "Requirement already satisfied: lazy-loader>=0.4 in /home/ai/anaconda3/envs/ultralytics/lib/python3.12/site-packages (from scikit-image<=0.24.0,>=0.19.0->inference) (0.4)\n",
      "Requirement already satisfied: contourpy>=1.0.7 in /home/ai/anaconda3/envs/ultralytics/lib/python3.12/site-packages (from supervision<=0.30.0,>=0.25.1->inference) (1.3.1)\n",
      "Requirement already satisfied: defusedxml<0.8.0,>=0.7.1 in /home/ai/anaconda3/envs/ultralytics/lib/python3.12/site-packages (from supervision<=0.30.0,>=0.25.1->inference) (0.7.1)\n",
      "Requirement already satisfied: matplotlib>=3.6.0 in /home/ai/anaconda3/envs/ultralytics/lib/python3.12/site-packages (from supervision<=0.30.0,>=0.25.1->inference) (3.10.0)\n",
      "Requirement already satisfied: requests-file>=1.4 in /home/ai/anaconda3/envs/ultralytics/lib/python3.12/site-packages (from tldextract~=5.1.2->inference) (2.1.0)\n",
      "Requirement already satisfied: filelock>=3.0.8 in /home/ai/anaconda3/envs/ultralytics/lib/python3.12/site-packages (from tldextract~=5.1.2->inference) (3.13.1)\n",
      "Requirement already satisfied: huggingface-hub<1.0,>=0.16.4 in /home/ai/anaconda3/envs/ultralytics/lib/python3.12/site-packages (from tokenizers<=0.20.3,>=0.19.0->inference) (0.28.1)\n",
      "Requirement already satisfied: PyJWT<3.0.0,>=2.0.0 in /home/ai/anaconda3/envs/ultralytics/lib/python3.12/site-packages (from twilio~=9.3.7->inference) (2.10.1)\n",
      "Requirement already satisfied: aiohttp-retry==2.8.3 in /home/ai/anaconda3/envs/ultralytics/lib/python3.12/site-packages (from twilio~=9.3.7->inference) (2.8.3)\n",
      "Requirement already satisfied: click>=8.0.0 in /home/ai/anaconda3/envs/ultralytics/lib/python3.12/site-packages (from typer<=0.12.5,>=0.9.0->inference) (8.1.8)\n",
      "Requirement already satisfied: shellingham>=1.3.0 in /home/ai/anaconda3/envs/ultralytics/lib/python3.12/site-packages (from typer<=0.12.5,>=0.9.0->inference) (1.5.4)\n",
      "Requirement already satisfied: dnspython>=2.0.0 in /home/ai/anaconda3/envs/ultralytics/lib/python3.12/site-packages (from aioice<1.0.0,>=0.9.0->aiortc~=1.9.0->inference) (2.7.0)\n",
      "Requirement already satisfied: ifaddr>=0.2.0 in /home/ai/anaconda3/envs/ultralytics/lib/python3.12/site-packages (from aioice<1.0.0,>=0.9.0->aiortc~=1.9.0->inference) (0.2.0)\n",
      "Requirement already satisfied: pycparser in /home/ai/anaconda3/envs/ultralytics/lib/python3.12/site-packages (from cffi>=1.0.0->aiortc~=1.9.0->inference) (2.22)\n",
      "Requirement already satisfied: fsspec>=2023.5.0 in /home/ai/anaconda3/envs/ultralytics/lib/python3.12/site-packages (from huggingface-hub<1.0,>=0.16.4->tokenizers<=0.20.3,>=0.19.0->inference) (2024.12.0)\n",
      "Requirement already satisfied: cycler>=0.10 in /home/ai/anaconda3/envs/ultralytics/lib/python3.12/site-packages (from matplotlib>=3.6.0->supervision<=0.30.0,>=0.25.1->inference) (0.12.1)\n",
      "Requirement already satisfied: fonttools>=4.22.0 in /home/ai/anaconda3/envs/ultralytics/lib/python3.12/site-packages (from matplotlib>=3.6.0->supervision<=0.30.0,>=0.25.1->inference) (4.55.6)\n",
      "Requirement already satisfied: kiwisolver>=1.3.1 in /home/ai/anaconda3/envs/ultralytics/lib/python3.12/site-packages (from matplotlib>=3.6.0->supervision<=0.30.0,>=0.25.1->inference) (1.4.8)\n",
      "Requirement already satisfied: six>=1.5 in /home/ai/anaconda3/envs/ultralytics/lib/python3.12/site-packages (from python-dateutil->asyncua~=1.1.5->inference) (1.17.0)\n",
      "Requirement already satisfied: mypy-extensions>=0.3.0 in /home/ai/anaconda3/envs/ultralytics/lib/python3.12/site-packages (from typing-inspect<1,>=0.4.0->dataclasses-json~=0.6.0->inference) (1.0.0)\n",
      "Requirement already satisfied: propcache>=0.2.0 in /home/ai/anaconda3/envs/ultralytics/lib/python3.12/site-packages (from yarl<2.0,>=1.12.0->aiohttp<=3.10.11,>=3.9.0->inference) (0.2.1)\n",
      "Requirement already satisfied: humanfriendly>=9.1 in /home/ai/anaconda3/envs/ultralytics/lib/python3.12/site-packages (from coloredlogs->onnxruntime<1.20.0,>=1.15.1->inference) (10.0)\n",
      "Requirement already satisfied: mpmath<1.4,>=1.1.0 in /home/ai/anaconda3/envs/ultralytics/lib/python3.12/site-packages (from sympy->onnxruntime<1.20.0,>=1.15.1->inference) (1.3.0)\n",
      "Note: you may need to restart the kernel to use updated packages.\n"
     ]
    }
   ],
   "source": [
    "%pip install wandb\n",
    "%pip install ultralytics\n",
    "%pip install matplotlib\n",
    "%pip install numpy\n",
    "%pip install opencv-python\n",
    "%pip install inference"
   ]
  },
  {
   "cell_type": "code",
   "execution_count": 2,
   "id": "57609477",
   "metadata": {},
   "outputs": [],
   "source": [
    "from os \\\n",
    "    import environ\n",
    "\n",
    "environ['WANDB_DIR'] = '~/wandb'\n",
    "\n",
    "environ['WANDB_CONSOLE']       = 'off'\n",
    "environ['WANDB_DISABLE_CODE']  = 'on'\n",
    "environ['WANDB_NOTEBOOK_NAME'] = 'TrainingOfModel.ipynb'\n",
    "environ['WANDB_ENTITY']        = 'Designermadsen'"
   ]
  },
  {
   "cell_type": "code",
   "execution_count": 3,
   "id": "b38d2495",
   "metadata": {},
   "outputs": [
    {
     "name": "stderr",
     "output_type": "stream",
     "text": [
      "\u001b[34m\u001b[1mwandb\u001b[0m: \u001b[33mWARNING\u001b[0m This integration is tested and supported for ultralytics v8.0.238 and below.\n",
      "\u001b[34m\u001b[1mwandb\u001b[0m: \u001b[33mWARNING\u001b[0m             Please report any issues to https://github.com/wandb/wandb/issues with the tag `yolov8`.\n"
     ]
    }
   ],
   "source": [
    "import wandb\n",
    "\n",
    "from wandb.integration.ultralytics \\\n",
    "    import add_wandb_callback"
   ]
  },
  {
   "cell_type": "code",
   "execution_count": 4,
   "id": "87e50c39",
   "metadata": {},
   "outputs": [],
   "source": [
    "from ultralytics    \\\n",
    "    import YOLO\n",
    "\n",
    "from math           \\\n",
    "    import (\n",
    "        floor\n",
    ")\n",
    "\n",
    "from random         \\\n",
    "    import SystemRandom\n",
    "\n",
    "from os.path        \\\n",
    "    import (\n",
    "        join\n",
    ")"
   ]
  },
  {
   "cell_type": "code",
   "execution_count": 5,
   "id": "ab776ed1",
   "metadata": {},
   "outputs": [],
   "source": [
    "ZERO: int = 0\n",
    "ONE: int = 1"
   ]
  },
  {
   "cell_type": "code",
   "execution_count": 6,
   "id": "d7121503",
   "metadata": {},
   "outputs": [],
   "source": [
    "EPOCHS: int = 50\n",
    "BATCH: int  = 4\n",
    "PATIENCE: int = 10\n",
    "\n",
    "IMAGE_WIDTH_SIZE: int = 960\n",
    "IMAGE_HEIGHT_SIZE: int = 960\n",
    "\n",
    "IMAGE_DIMENSIONS: tuple = (\n",
    "    IMAGE_HEIGHT_SIZE, \n",
    "    IMAGE_WIDTH_SIZE\n",
    ")\n",
    "\n",
    "SEED = None\n",
    "\n",
    "IS_TO_RESUME: bool = False\n",
    "\n",
    "MOSAIC_END_AT: int = -ONE\n",
    "\n",
    "NUMBER_OF_TIMES_TO_ITERATE_TRAINING: int = 1\n",
    "\n",
    "DEVICES_TO_USE: list = [\n",
    "    ZERO\n",
    "]"
   ]
  },
  {
   "cell_type": "code",
   "execution_count": 7,
   "id": "19dc3cf4",
   "metadata": {},
   "outputs": [],
   "source": [
    "MODEL_WEIGHT_LOCATION: str | None = None\n",
    "MODEL_ITERATION_VERSION: int = 2\n",
    "\n",
    "FINISH_WHEN_DONE: bool = False"
   ]
  },
  {
   "cell_type": "code",
   "execution_count": 8,
   "id": "fa87a1d5",
   "metadata": {},
   "outputs": [],
   "source": [
    "def get_weight_location() -> str:\n",
    "    global MODEL_WEIGHT_LOCATION\n",
    "    return MODEL_WEIGHT_LOCATION\n",
    "\n",
    "def set_weight_location(\n",
    "    value: str\n",
    ") -> None:\n",
    "    global MODEL_WEIGHT_LOCATION\n",
    "    MODEL_WEIGHT_LOCATION = value\n",
    "\n",
    "def get_current_model_iteration() -> int:\n",
    "    global MODEL_ITERATION_VERSION\n",
    "    return MODEL_ITERATION_VERSION\n",
    "\n",
    "def set_current_model_iteration(\n",
    "    value: int\n",
    ") -> None:\n",
    "    global MODEL_ITERATION_VERSION\n",
    "    MODEL_ITERATION_VERSION = value\n",
    "\n",
    "def increment_of_model() -> None:\n",
    "    global ONE\n",
    "\n",
    "    set_current_model_iteration(\n",
    "        get_current_model_iteration() + ONE\n",
    "    )\n",
    "\n",
    "def generate_weight_location() -> str:\n",
    "    weight_path = join(\n",
    "        str(\n",
    "            './runs/detect/train' \n",
    "        )        \n",
    "        + \n",
    "        str(\n",
    "            get_current_model_iteration()\n",
    "        ),\n",
    "        'weights/best.pt'\n",
    "    )\n",
    "\n",
    "    set_weight_location(\n",
    "        weight_path\n",
    "    )\n",
    "\n",
    "    return get_weight_location()"
   ]
  },
  {
   "cell_type": "code",
   "execution_count": 9,
   "id": "dbc9ce59",
   "metadata": {},
   "outputs": [],
   "source": [
    "HOME_LOCATION: str = '/home/ai'\n",
    "DATASET_LOCATION:   str = join(\n",
    "    HOME_LOCATION,\n",
    "    'dataset.yaml'\n",
    ")\n",
    "\n",
    "YOLO_MODEL_VERSION: str = 'yolo11m.pt'\n",
    "\n",
    "MODEL_WEIGHT_LOCATION = generate_weight_location()"
   ]
  },
  {
   "cell_type": "code",
   "execution_count": 10,
   "id": "ed3f38b3",
   "metadata": {},
   "outputs": [],
   "source": [
    "generator = None\n",
    "model = None"
   ]
  },
  {
   "cell_type": "code",
   "execution_count": 11,
   "id": "30209fec",
   "metadata": {},
   "outputs": [
    {
     "name": "stderr",
     "output_type": "stream",
     "text": [
      "\u001b[34m\u001b[1mwandb\u001b[0m: \u001b[33mWARNING\u001b[0m WANDB_NOTEBOOK_NAME should be a path to a notebook file, couldn't find TrainingOfModel.ipynb.\n",
      "git root error: Cmd('git') failed due to: exit code(128)\n",
      "  cmdline: git rev-parse --show-toplevel\n",
      "  stderr: 'fatal: detected dubious ownership in repository at '/mnt/c/Users/Kentv/Desktop/TrainingUltralytics'\n",
      "To add an exception for this directory, call:\n",
      "\n",
      "\tgit config --global --add safe.directory /mnt/c/Users/Kentv/Desktop/TrainingUltralytics'\n",
      "\u001b[34m\u001b[1mwandb\u001b[0m: \u001b[33mWARNING\u001b[0m Path ~/wandb/wandb/ wasn't writable, using system temp directory\n",
      "\u001b[34m\u001b[1mwandb\u001b[0m: W&B API key is configured. Use \u001b[1m`wandb login --relogin`\u001b[0m to force relogin\n",
      "\u001b[34m\u001b[1mwandb\u001b[0m: \u001b[33mWARNING\u001b[0m Path ~/wandb/wandb/ wasn't writable, using system temp directory.\n",
      "\u001b[34m\u001b[1mwandb\u001b[0m: Using wandb-core as the SDK backend.  Please refer to https://wandb.me/wandb-core for more information.\n"
     ]
    },
    {
     "data": {
      "text/html": [
       "Tracking run with wandb version 0.19.4"
      ],
      "text/plain": [
       "<IPython.core.display.HTML object>"
      ]
     },
     "metadata": {},
     "output_type": "display_data"
    },
    {
     "data": {
      "text/html": [
       "Run data is saved locally in <code>/tmp/wandb/run-20250206_171159-jwpvxnp4</code>"
      ],
      "text/plain": [
       "<IPython.core.display.HTML object>"
      ]
     },
     "metadata": {},
     "output_type": "display_data"
    },
    {
     "data": {
      "text/html": [
       "Syncing run <strong><a href='https://wandb.ai/designermadsen/spectre/runs/jwpvxnp4' target=\"_blank\">devout-salad-5</a></strong> to <a href='https://wandb.ai/designermadsen/spectre' target=\"_blank\">Weights & Biases</a> (<a href='https://wandb.me/developer-guide' target=\"_blank\">docs</a>)<br>"
      ],
      "text/plain": [
       "<IPython.core.display.HTML object>"
      ]
     },
     "metadata": {},
     "output_type": "display_data"
    },
    {
     "data": {
      "text/html": [
       " View project at <a href='https://wandb.ai/designermadsen/spectre' target=\"_blank\">https://wandb.ai/designermadsen/spectre</a>"
      ],
      "text/plain": [
       "<IPython.core.display.HTML object>"
      ]
     },
     "metadata": {},
     "output_type": "display_data"
    },
    {
     "data": {
      "text/html": [
       " View run at <a href='https://wandb.ai/designermadsen/spectre/runs/jwpvxnp4' target=\"_blank\">https://wandb.ai/designermadsen/spectre/runs/jwpvxnp4</a>"
      ],
      "text/plain": [
       "<IPython.core.display.HTML object>"
      ]
     },
     "metadata": {},
     "output_type": "display_data"
    },
    {
     "data": {
      "text/html": [
       "<button onClick=\"this.nextSibling.style.display='block';this.style.display='none';\">Display W&B run</button><iframe src='https://wandb.ai/designermadsen/spectre/runs/jwpvxnp4?jupyter=true' style='border:none;width:100%;height:420px;display:none;'></iframe>"
      ],
      "text/plain": [
       "<wandb.sdk.wandb_run.Run at 0x7f8c639ed550>"
      ]
     },
     "execution_count": 11,
     "metadata": {},
     "output_type": "execute_result"
    }
   ],
   "source": [
    "PROJECT_NAME: str = 'spectre'\n",
    "\n",
    "wandb.init(\n",
    "    project     = PROJECT_NAME, \n",
    "    job_type    = 'training',\n",
    "    save_code   = False\n",
    ")"
   ]
  },
  {
   "cell_type": "code",
   "execution_count": 12,
   "id": "eb3f6064-6b33-4a92-b3ee-4984acb65460",
   "metadata": {},
   "outputs": [
    {
     "name": "stdout",
     "output_type": "stream",
     "text": [
      "Transferred 643/649 items from pretrained weights\n"
     ]
    }
   ],
   "source": [
    "model = YOLO(\n",
    "    YOLO_MODEL_VERSION\n",
    ")\n",
    "\n",
    "add_wandb_callback(\n",
    "    model, \n",
    "    enable_model_checkpointing = False\n",
    ")\n",
    "\n",
    "if not (\n",
    "    MODEL_WEIGHT_LOCATION is None\n",
    "):\n",
    "    model.load(\n",
    "        get_weight_location()\n",
    "    )"
   ]
  },
  {
   "cell_type": "code",
   "execution_count": 13,
   "id": "4cfc4328",
   "metadata": {},
   "outputs": [],
   "source": [
    "def getSeed() -> int:\n",
    "    global SEED\n",
    "    \n",
    "    if isSeedNone():\n",
    "        return generateSeed()\n",
    "\n",
    "    return SEED\n",
    "\n",
    "def  setSeed(\n",
    "    value: int\n",
    ") -> None:\n",
    "    global SEED\n",
    "    SEED = value\n",
    "\n",
    "\n",
    "def generateGenerator() -> None:\n",
    "    global generator\n",
    "\n",
    "    if generator is None:\n",
    "        generator = SystemRandom()\n",
    "\n",
    "def isSeedNone() -> bool:\n",
    "    global SEED\n",
    "    return SEED is None\n",
    "\n",
    "def generateSeed() -> None:\n",
    "    global          \\\n",
    "        SEED,       \\\n",
    "        generator,  \\\n",
    "        ZERO\n",
    "    \n",
    "    generateGenerator()\n",
    "\n",
    "    setSeed(\n",
    "        generator.randint(\n",
    "            ZERO, \n",
    "            2147483647\n",
    "        )\n",
    "    )\n",
    "\n",
    "    return SEED"
   ]
  },
  {
   "cell_type": "code",
   "execution_count": 14,
   "id": "7d4937bf",
   "metadata": {},
   "outputs": [
    {
     "name": "stdout",
     "output_type": "stream",
     "text": [
      "Ultralytics 8.3.72 🚀 Python-3.12.8 torch-2.5.1 CUDA:0 (NVIDIA GeForce RTX 4050 Laptop GPU, 6140MiB)\n",
      "\u001b[34m\u001b[1mengine/trainer: \u001b[0mtask=detect, mode=train, model=yolo11m.pt, data=/home/ai/dataset.yaml, epochs=50, time=None, patience=10, batch=4, imgsz=(960, 960), save=True, save_period=-1, cache=False, device=[0], workers=8, project=None, name=train4, exist_ok=False, pretrained=./runs/detect/train2/weights/best.pt, optimizer=auto, verbose=True, seed=1607546386, deterministic=True, single_cls=False, rect=False, cos_lr=False, close_mosaic=-1, resume=False, amp=True, fraction=1.0, profile=False, freeze=None, multi_scale=False, overlap_mask=True, mask_ratio=4, dropout=0.0, val=True, split=val, save_json=False, save_hybrid=False, conf=None, iou=0.7, max_det=300, half=False, dnn=False, plots=True, source=None, vid_stride=1, stream_buffer=False, visualize=False, augment=False, agnostic_nms=False, classes=None, retina_masks=False, embed=None, show=False, save_frames=False, save_txt=False, save_conf=False, save_crop=False, show_labels=True, show_conf=True, show_boxes=True, line_width=None, format=torchscript, keras=False, optimize=False, int8=False, dynamic=False, simplify=True, opset=None, workspace=None, nms=False, lr0=0.01, lrf=0.01, momentum=0.937, weight_decay=0.0005, warmup_epochs=3.0, warmup_momentum=0.8, warmup_bias_lr=0.1, box=7.5, cls=0.5, dfl=1.5, pose=12.0, kobj=1.0, nbs=64, hsv_h=0.015, hsv_s=0.7, hsv_v=0.4, degrees=0.0, translate=0.1, scale=0.5, shear=0.0, perspective=0.0, flipud=0.0, fliplr=0.5, bgr=0.0, mosaic=1.0, mixup=0.0, copy_paste=0.0, copy_paste_mode=flip, auto_augment=randaugment, erasing=0.4, crop_fraction=1.0, cfg=None, tracker=botsort.yaml, save_dir=runs/detect/train4\n",
      "Overriding model.yaml nc=80 with nc=3\n",
      "\n",
      "                   from  n    params  module                                       arguments                     \n",
      "  0                  -1  1      1856  ultralytics.nn.modules.conv.Conv             [3, 64, 3, 2]                 \n",
      "  1                  -1  1     73984  ultralytics.nn.modules.conv.Conv             [64, 128, 3, 2]               \n",
      "  2                  -1  1    111872  ultralytics.nn.modules.block.C3k2            [128, 256, 1, True, 0.25]     \n",
      "  3                  -1  1    590336  ultralytics.nn.modules.conv.Conv             [256, 256, 3, 2]              \n",
      "  4                  -1  1    444928  ultralytics.nn.modules.block.C3k2            [256, 512, 1, True, 0.25]     \n",
      "  5                  -1  1   2360320  ultralytics.nn.modules.conv.Conv             [512, 512, 3, 2]              \n",
      "  6                  -1  1   1380352  ultralytics.nn.modules.block.C3k2            [512, 512, 1, True]           \n",
      "  7                  -1  1   2360320  ultralytics.nn.modules.conv.Conv             [512, 512, 3, 2]              \n",
      "  8                  -1  1   1380352  ultralytics.nn.modules.block.C3k2            [512, 512, 1, True]           \n",
      "  9                  -1  1    656896  ultralytics.nn.modules.block.SPPF            [512, 512, 5]                 \n",
      " 10                  -1  1    990976  ultralytics.nn.modules.block.C2PSA           [512, 512, 1]                 \n",
      " 11                  -1  1         0  torch.nn.modules.upsampling.Upsample         [None, 2, 'nearest']          \n",
      " 12             [-1, 6]  1         0  ultralytics.nn.modules.conv.Concat           [1]                           \n",
      " 13                  -1  1   1642496  ultralytics.nn.modules.block.C3k2            [1024, 512, 1, True]          \n",
      " 14                  -1  1         0  torch.nn.modules.upsampling.Upsample         [None, 2, 'nearest']          \n",
      " 15             [-1, 4]  1         0  ultralytics.nn.modules.conv.Concat           [1]                           \n",
      " 16                  -1  1    542720  ultralytics.nn.modules.block.C3k2            [1024, 256, 1, True]          \n",
      " 17                  -1  1    590336  ultralytics.nn.modules.conv.Conv             [256, 256, 3, 2]              \n",
      " 18            [-1, 13]  1         0  ultralytics.nn.modules.conv.Concat           [1]                           \n",
      " 19                  -1  1   1511424  ultralytics.nn.modules.block.C3k2            [768, 512, 1, True]           \n",
      " 20                  -1  1   2360320  ultralytics.nn.modules.conv.Conv             [512, 512, 3, 2]              \n",
      " 21            [-1, 10]  1         0  ultralytics.nn.modules.conv.Concat           [1]                           \n",
      " 22                  -1  1   1642496  ultralytics.nn.modules.block.C3k2            [1024, 512, 1, True]          \n",
      " 23        [16, 19, 22]  1   1413337  ultralytics.nn.modules.head.Detect           [3, [256, 512, 512]]          \n",
      "YOLO11m summary: 409 layers, 20,055,321 parameters, 20,055,305 gradients, 68.2 GFLOPs\n",
      "\n",
      "Transferred 643/649 items from pretrained weights\n",
      "\u001b[34m\u001b[1mTensorBoard: \u001b[0mStart with 'tensorboard --logdir runs/detect/train4', view at http://localhost:6006/\n",
      "Freezing layer 'model.23.dfl.conv.weight'\n",
      "\u001b[34m\u001b[1mAMP: \u001b[0mrunning Automatic Mixed Precision (AMP) checks...\n",
      "\u001b[34m\u001b[1mAMP: \u001b[0mchecks passed ✅\n",
      "WARNING ⚠️ updating to 'imgsz=960'. 'train' and 'val' imgsz must be an integer, while 'predict' and 'export' imgsz may be a [h, w] list or an integer, i.e. 'yolo export imgsz=640,480' or 'yolo export imgsz=640'\n"
     ]
    },
    {
     "name": "stderr",
     "output_type": "stream",
     "text": [
      "\u001b[34m\u001b[1mtrain: \u001b[0mScanning /opt/tmod-dataset/training/labels.cache... 2800 images, 0 backgrounds, 0 corrupt: 100%|██████████| 2800/\u001b[0m\n",
      "\u001b[34m\u001b[1mval: \u001b[0mScanning /opt/tmod-dataset/validation/labels.cache... 1200 images, 0 backgrounds, 0 corrupt: 100%|██████████| 1200/\u001b[0m\n"
     ]
    },
    {
     "name": "stdout",
     "output_type": "stream",
     "text": [
      "Plotting labels to runs/detect/train4/labels.jpg... \n",
      "\u001b[34m\u001b[1moptimizer:\u001b[0m 'optimizer=auto' found, ignoring 'lr0=0.01' and 'momentum=0.937' and determining best 'optimizer', 'lr0' and 'momentum' automatically... \n",
      "\u001b[34m\u001b[1moptimizer:\u001b[0m AdamW(lr=0.001429, momentum=0.9) with parameter groups 106 weight(decay=0.0), 113 weight(decay=0.0005), 112 bias(decay=0.0)\n",
      "\u001b[34m\u001b[1mTensorBoard: \u001b[0mmodel graph visualization added ✅\n",
      "Image sizes 960 train, 960 val\n",
      "Using 8 dataloader workers\n",
      "Logging results to \u001b[1mruns/detect/train4\u001b[0m\n",
      "Starting training for 50 epochs...\n",
      "\n",
      "      Epoch    GPU_mem   box_loss   cls_loss   dfl_loss  Instances       Size\n"
     ]
    },
    {
     "name": "stderr",
     "output_type": "stream",
     "text": [
      "       1/50      5.28G     0.5779      1.201      1.231         10        960: 100%|██████████| 700/700 [03:41<00:00,  3\n",
      "                 Class     Images  Instances      Box(P          R      mAP50  mAP50-95): 100%|██████████| 150/150 [00:2"
     ]
    },
    {
     "name": "stdout",
     "output_type": "stream",
     "text": [
      "                   all       1200       1411      0.947       0.89      0.938       0.77\n",
      "Ultralytics 8.3.72 🚀 Python-3.12.8 torch-2.5.1 CUDA:0 (NVIDIA GeForce RTX 4050 Laptop GPU, 6140MiB)\n"
     ]
    },
    {
     "name": "stderr",
     "output_type": "stream",
     "text": [
      "\n"
     ]
    },
    {
     "name": "stdout",
     "output_type": "stream",
     "text": [
      "YOLO11m summary (fused): 303 layers, 20,091,712 parameters, 0 gradients, 68.0 GFLOPs\n"
     ]
    },
    {
     "data": {
      "application/vnd.jupyter.widget-view+json": {
       "model_id": "1fa7f03715024343be2fa90f94fba083",
       "version_major": 2,
       "version_minor": 0
      },
      "text/plain": [
       "Generating Visualizations for batch-1/1:   0%|          | 0/8 [00:00<?, ?it/s]"
      ]
     },
     "metadata": {},
     "output_type": "display_data"
    },
    {
     "data": {
      "application/vnd.jupyter.widget-view+json": {
       "model_id": "8793af7736c4419dbf9f407d3ce6f021",
       "version_major": 2,
       "version_minor": 0
      },
      "text/plain": [
       "Generating Visualizations for batch-1/1:   0%|          | 0/8 [00:00<?, ?it/s]"
      ]
     },
     "metadata": {},
     "output_type": "display_data"
    },
    {
     "name": "stdout",
     "output_type": "stream",
     "text": [
      "\n",
      "      Epoch    GPU_mem   box_loss   cls_loss   dfl_loss  Instances       Size\n"
     ]
    },
    {
     "name": "stderr",
     "output_type": "stream",
     "text": [
      "       2/50      5.31G     0.5189     0.4704      1.172         13        960: 100%|██████████| 700/700 [03:35<00:00,  3\n",
      "                 Class     Images  Instances      Box(P          R      mAP50  mAP50-95): 100%|██████████| 150/150 [00:3"
     ]
    },
    {
     "name": "stdout",
     "output_type": "stream",
     "text": [
      "                   all       1200       1411       0.97       0.91       0.94      0.773\n"
     ]
    },
    {
     "name": "stderr",
     "output_type": "stream",
     "text": [
      "\n"
     ]
    },
    {
     "data": {
      "application/vnd.jupyter.widget-view+json": {
       "model_id": "579bfb8ee7474dbba61e20cc33ea34fb",
       "version_major": 2,
       "version_minor": 0
      },
      "text/plain": [
       "Generating Visualizations for batch-1/1:   0%|          | 0/8 [00:00<?, ?it/s]"
      ]
     },
     "metadata": {},
     "output_type": "display_data"
    },
    {
     "data": {
      "application/vnd.jupyter.widget-view+json": {
       "model_id": "6616aa6851c14414a5c5e290c36e1669",
       "version_major": 2,
       "version_minor": 0
      },
      "text/plain": [
       "Generating Visualizations for batch-1/1:   0%|          | 0/8 [00:00<?, ?it/s]"
      ]
     },
     "metadata": {},
     "output_type": "display_data"
    },
    {
     "name": "stdout",
     "output_type": "stream",
     "text": [
      "\n",
      "      Epoch    GPU_mem   box_loss   cls_loss   dfl_loss  Instances       Size\n"
     ]
    },
    {
     "name": "stderr",
     "output_type": "stream",
     "text": [
      "       3/50      5.29G     0.5017      0.421      1.147          9        960: 100%|██████████| 700/700 [05:56<00:00,  1\n",
      "                 Class     Images  Instances      Box(P          R      mAP50  mAP50-95): 100%|██████████| 150/150 [00:3"
     ]
    },
    {
     "name": "stdout",
     "output_type": "stream",
     "text": [
      "                   all       1200       1411      0.971      0.879      0.949      0.761\n"
     ]
    },
    {
     "name": "stderr",
     "output_type": "stream",
     "text": [
      "\n"
     ]
    },
    {
     "data": {
      "application/vnd.jupyter.widget-view+json": {
       "model_id": "0a3457751c734c108f4a14b64fb4dc13",
       "version_major": 2,
       "version_minor": 0
      },
      "text/plain": [
       "Generating Visualizations for batch-1/1:   0%|          | 0/8 [00:00<?, ?it/s]"
      ]
     },
     "metadata": {},
     "output_type": "display_data"
    },
    {
     "data": {
      "application/vnd.jupyter.widget-view+json": {
       "model_id": "78220002fb3c44cda8830a0dea8c362d",
       "version_major": 2,
       "version_minor": 0
      },
      "text/plain": [
       "Generating Visualizations for batch-1/1:   0%|          | 0/8 [00:00<?, ?it/s]"
      ]
     },
     "metadata": {},
     "output_type": "display_data"
    },
    {
     "name": "stdout",
     "output_type": "stream",
     "text": [
      "\n",
      "      Epoch    GPU_mem   box_loss   cls_loss   dfl_loss  Instances       Size\n"
     ]
    },
    {
     "name": "stderr",
     "output_type": "stream",
     "text": [
      "       4/50      5.28G     0.5163      0.419       1.16          6        960: 100%|██████████| 700/700 [05:03<00:00,  2\n",
      "                 Class     Images  Instances      Box(P          R      mAP50  mAP50-95): 100%|██████████| 150/150 [00:4"
     ]
    },
    {
     "name": "stdout",
     "output_type": "stream",
     "text": [
      "                   all       1200       1411       0.97      0.924      0.952      0.776\n"
     ]
    },
    {
     "name": "stderr",
     "output_type": "stream",
     "text": [
      "\n"
     ]
    },
    {
     "data": {
      "application/vnd.jupyter.widget-view+json": {
       "model_id": "9c2f234a75744474a254a6fa0fe3bac3",
       "version_major": 2,
       "version_minor": 0
      },
      "text/plain": [
       "Generating Visualizations for batch-1/1:   0%|          | 0/8 [00:00<?, ?it/s]"
      ]
     },
     "metadata": {},
     "output_type": "display_data"
    },
    {
     "data": {
      "application/vnd.jupyter.widget-view+json": {
       "model_id": "3c3a1813e6ac45a39a9b35bcb6928820",
       "version_major": 2,
       "version_minor": 0
      },
      "text/plain": [
       "Generating Visualizations for batch-1/1:   0%|          | 0/8 [00:00<?, ?it/s]"
      ]
     },
     "metadata": {},
     "output_type": "display_data"
    },
    {
     "name": "stdout",
     "output_type": "stream",
     "text": [
      "\n",
      "      Epoch    GPU_mem   box_loss   cls_loss   dfl_loss  Instances       Size\n"
     ]
    },
    {
     "name": "stderr",
     "output_type": "stream",
     "text": [
      "       5/50      5.29G     0.5213     0.4197      1.159         10        960: 100%|██████████| 700/700 [11:06<00:00,  1\n",
      "                 Class     Images  Instances      Box(P          R      mAP50  mAP50-95): 100%|██████████| 150/150 [00:5"
     ]
    },
    {
     "name": "stdout",
     "output_type": "stream",
     "text": [
      "                   all       1200       1411      0.968      0.879      0.949      0.758\n"
     ]
    },
    {
     "name": "stderr",
     "output_type": "stream",
     "text": [
      "\n"
     ]
    },
    {
     "data": {
      "application/vnd.jupyter.widget-view+json": {
       "model_id": "fe3e9bea05a548c6af2faa85368fbd13",
       "version_major": 2,
       "version_minor": 0
      },
      "text/plain": [
       "Generating Visualizations for batch-1/1:   0%|          | 0/8 [00:00<?, ?it/s]"
      ]
     },
     "metadata": {},
     "output_type": "display_data"
    },
    {
     "data": {
      "application/vnd.jupyter.widget-view+json": {
       "model_id": "a793b13f54dd4617b453d6187f5f239c",
       "version_major": 2,
       "version_minor": 0
      },
      "text/plain": [
       "Generating Visualizations for batch-1/1:   0%|          | 0/8 [00:00<?, ?it/s]"
      ]
     },
     "metadata": {},
     "output_type": "display_data"
    },
    {
     "name": "stdout",
     "output_type": "stream",
     "text": [
      "\n",
      "      Epoch    GPU_mem   box_loss   cls_loss   dfl_loss  Instances       Size\n"
     ]
    },
    {
     "name": "stderr",
     "output_type": "stream",
     "text": [
      "       6/50      5.29G     0.5168     0.4016      1.155         15        960: 100%|██████████| 700/700 [04:44<00:00,  2\n",
      "                 Class     Images  Instances      Box(P          R      mAP50  mAP50-95): 100%|██████████| 150/150 [00:2"
     ]
    },
    {
     "name": "stdout",
     "output_type": "stream",
     "text": [
      "                   all       1200       1411      0.951      0.894      0.936      0.764\n"
     ]
    },
    {
     "name": "stderr",
     "output_type": "stream",
     "text": [
      "\n"
     ]
    },
    {
     "data": {
      "application/vnd.jupyter.widget-view+json": {
       "model_id": "1aa16476ea5b4fa88cb3cf438ecc548e",
       "version_major": 2,
       "version_minor": 0
      },
      "text/plain": [
       "Generating Visualizations for batch-1/1:   0%|          | 0/8 [00:00<?, ?it/s]"
      ]
     },
     "metadata": {},
     "output_type": "display_data"
    },
    {
     "data": {
      "application/vnd.jupyter.widget-view+json": {
       "model_id": "5f4ef89e24ed4846b2a15e3298b36479",
       "version_major": 2,
       "version_minor": 0
      },
      "text/plain": [
       "Generating Visualizations for batch-1/1:   0%|          | 0/8 [00:00<?, ?it/s]"
      ]
     },
     "metadata": {},
     "output_type": "display_data"
    },
    {
     "name": "stdout",
     "output_type": "stream",
     "text": [
      "\n",
      "      Epoch    GPU_mem   box_loss   cls_loss   dfl_loss  Instances       Size\n"
     ]
    },
    {
     "name": "stderr",
     "output_type": "stream",
     "text": [
      "       7/50      5.28G     0.5024      0.392      1.146          9        960: 100%|██████████| 700/700 [04:17<00:00,  2\n",
      "                 Class     Images  Instances      Box(P          R      mAP50  mAP50-95): 100%|██████████| 150/150 [00:3"
     ]
    },
    {
     "name": "stdout",
     "output_type": "stream",
     "text": [
      "                   all       1200       1411      0.926      0.912       0.96      0.779\n"
     ]
    },
    {
     "name": "stderr",
     "output_type": "stream",
     "text": [
      "\n"
     ]
    },
    {
     "data": {
      "application/vnd.jupyter.widget-view+json": {
       "model_id": "e9d52e7233a24aad9d68a50dff02b3d1",
       "version_major": 2,
       "version_minor": 0
      },
      "text/plain": [
       "Generating Visualizations for batch-1/1:   0%|          | 0/8 [00:00<?, ?it/s]"
      ]
     },
     "metadata": {},
     "output_type": "display_data"
    },
    {
     "data": {
      "application/vnd.jupyter.widget-view+json": {
       "model_id": "d335649a62a143c8bd70cd05e6b313f4",
       "version_major": 2,
       "version_minor": 0
      },
      "text/plain": [
       "Generating Visualizations for batch-1/1:   0%|          | 0/8 [00:00<?, ?it/s]"
      ]
     },
     "metadata": {},
     "output_type": "display_data"
    },
    {
     "name": "stdout",
     "output_type": "stream",
     "text": [
      "\n",
      "      Epoch    GPU_mem   box_loss   cls_loss   dfl_loss  Instances       Size\n"
     ]
    },
    {
     "name": "stderr",
     "output_type": "stream",
     "text": [
      "       8/50      5.28G     0.4985      0.387       1.14         12        960: 100%|██████████| 700/700 [04:59<00:00,  2\n",
      "                 Class     Images  Instances      Box(P          R      mAP50  mAP50-95): 100%|██████████| 150/150 [00:5"
     ]
    },
    {
     "name": "stdout",
     "output_type": "stream",
     "text": [
      "                   all       1200       1411      0.944      0.917      0.943      0.771\n"
     ]
    },
    {
     "name": "stderr",
     "output_type": "stream",
     "text": [
      "\n"
     ]
    },
    {
     "data": {
      "application/vnd.jupyter.widget-view+json": {
       "model_id": "ac04aab28bde41d0a13bc175af012604",
       "version_major": 2,
       "version_minor": 0
      },
      "text/plain": [
       "Generating Visualizations for batch-1/1:   0%|          | 0/8 [00:00<?, ?it/s]"
      ]
     },
     "metadata": {},
     "output_type": "display_data"
    },
    {
     "data": {
      "application/vnd.jupyter.widget-view+json": {
       "model_id": "51afbc7aaaa447f08901439b8dcda12a",
       "version_major": 2,
       "version_minor": 0
      },
      "text/plain": [
       "Generating Visualizations for batch-1/1:   0%|          | 0/8 [00:00<?, ?it/s]"
      ]
     },
     "metadata": {},
     "output_type": "display_data"
    },
    {
     "name": "stdout",
     "output_type": "stream",
     "text": [
      "\n",
      "      Epoch    GPU_mem   box_loss   cls_loss   dfl_loss  Instances       Size\n"
     ]
    },
    {
     "name": "stderr",
     "output_type": "stream",
     "text": [
      "       9/50       5.3G     0.5004      0.388      1.145          9        960: 100%|██████████| 700/700 [04:58<00:00,  2\n",
      "                 Class     Images  Instances      Box(P          R      mAP50  mAP50-95): 100%|██████████| 150/150 [00:2"
     ]
    },
    {
     "name": "stdout",
     "output_type": "stream",
     "text": [
      "                   all       1200       1411      0.973      0.901      0.949      0.777\n"
     ]
    },
    {
     "name": "stderr",
     "output_type": "stream",
     "text": [
      "\n"
     ]
    },
    {
     "data": {
      "application/vnd.jupyter.widget-view+json": {
       "model_id": "ac2e7fca0f8041baafe92a716399fa1a",
       "version_major": 2,
       "version_minor": 0
      },
      "text/plain": [
       "Generating Visualizations for batch-1/1:   0%|          | 0/8 [00:00<?, ?it/s]"
      ]
     },
     "metadata": {},
     "output_type": "display_data"
    },
    {
     "data": {
      "application/vnd.jupyter.widget-view+json": {
       "model_id": "9ab2e278728b465c9a2ca0268229540f",
       "version_major": 2,
       "version_minor": 0
      },
      "text/plain": [
       "Generating Visualizations for batch-1/1:   0%|          | 0/8 [00:00<?, ?it/s]"
      ]
     },
     "metadata": {},
     "output_type": "display_data"
    },
    {
     "name": "stdout",
     "output_type": "stream",
     "text": [
      "\n",
      "      Epoch    GPU_mem   box_loss   cls_loss   dfl_loss  Instances       Size\n"
     ]
    },
    {
     "name": "stderr",
     "output_type": "stream",
     "text": [
      "      10/50      5.28G     0.4858     0.3668      1.123         11        960: 100%|██████████| 700/700 [05:01<00:00,  2\n",
      "                 Class     Images  Instances      Box(P          R      mAP50  mAP50-95): 100%|██████████| 150/150 [00:2"
     ]
    },
    {
     "name": "stdout",
     "output_type": "stream",
     "text": [
      "                   all       1200       1411       0.97      0.895      0.949      0.782\n"
     ]
    },
    {
     "name": "stderr",
     "output_type": "stream",
     "text": [
      "\n"
     ]
    },
    {
     "data": {
      "application/vnd.jupyter.widget-view+json": {
       "model_id": "882b15756d3547d6af80b023fa26dc82",
       "version_major": 2,
       "version_minor": 0
      },
      "text/plain": [
       "Generating Visualizations for batch-1/1:   0%|          | 0/8 [00:00<?, ?it/s]"
      ]
     },
     "metadata": {},
     "output_type": "display_data"
    },
    {
     "data": {
      "application/vnd.jupyter.widget-view+json": {
       "model_id": "6d0175ba1027488982fa232763e42b34",
       "version_major": 2,
       "version_minor": 0
      },
      "text/plain": [
       "Generating Visualizations for batch-1/1:   0%|          | 0/8 [00:00<?, ?it/s]"
      ]
     },
     "metadata": {},
     "output_type": "display_data"
    },
    {
     "name": "stdout",
     "output_type": "stream",
     "text": [
      "\n",
      "      Epoch    GPU_mem   box_loss   cls_loss   dfl_loss  Instances       Size\n"
     ]
    },
    {
     "name": "stderr",
     "output_type": "stream",
     "text": [
      "      11/50      5.28G     0.4785     0.3563      1.126         10        960: 100%|██████████| 700/700 [04:45<00:00,  2\n",
      "                 Class     Images  Instances      Box(P          R      mAP50  mAP50-95): 100%|██████████| 150/150 [00:5"
     ]
    },
    {
     "name": "stdout",
     "output_type": "stream",
     "text": [
      "                   all       1200       1411      0.969      0.918      0.959        0.8\n"
     ]
    },
    {
     "name": "stderr",
     "output_type": "stream",
     "text": [
      "\n"
     ]
    },
    {
     "data": {
      "application/vnd.jupyter.widget-view+json": {
       "model_id": "7fa059436b174accb471b69f147a981b",
       "version_major": 2,
       "version_minor": 0
      },
      "text/plain": [
       "Generating Visualizations for batch-1/1:   0%|          | 0/8 [00:00<?, ?it/s]"
      ]
     },
     "metadata": {},
     "output_type": "display_data"
    },
    {
     "data": {
      "application/vnd.jupyter.widget-view+json": {
       "model_id": "48f8bf4d8e52418fb7bfa5ba3c09a761",
       "version_major": 2,
       "version_minor": 0
      },
      "text/plain": [
       "Generating Visualizations for batch-1/1:   0%|          | 0/8 [00:00<?, ?it/s]"
      ]
     },
     "metadata": {},
     "output_type": "display_data"
    },
    {
     "name": "stdout",
     "output_type": "stream",
     "text": [
      "\n",
      "      Epoch    GPU_mem   box_loss   cls_loss   dfl_loss  Instances       Size\n"
     ]
    },
    {
     "name": "stderr",
     "output_type": "stream",
     "text": [
      "      12/50      5.28G     0.4845     0.3614      1.128          8        960: 100%|██████████| 700/700 [04:36<00:00,  2\n",
      "                 Class     Images  Instances      Box(P          R      mAP50  mAP50-95): 100%|██████████| 150/150 [00:5"
     ]
    },
    {
     "name": "stdout",
     "output_type": "stream",
     "text": [
      "                   all       1200       1411      0.964       0.89      0.944      0.781\n"
     ]
    },
    {
     "name": "stderr",
     "output_type": "stream",
     "text": [
      "\n"
     ]
    },
    {
     "data": {
      "application/vnd.jupyter.widget-view+json": {
       "model_id": "7d912daf0bec4316b1dc317b1de642a7",
       "version_major": 2,
       "version_minor": 0
      },
      "text/plain": [
       "Generating Visualizations for batch-1/1:   0%|          | 0/8 [00:00<?, ?it/s]"
      ]
     },
     "metadata": {},
     "output_type": "display_data"
    },
    {
     "data": {
      "application/vnd.jupyter.widget-view+json": {
       "model_id": "498123a4a5d34b5aa20ef58f10cd98f8",
       "version_major": 2,
       "version_minor": 0
      },
      "text/plain": [
       "Generating Visualizations for batch-1/1:   0%|          | 0/8 [00:00<?, ?it/s]"
      ]
     },
     "metadata": {},
     "output_type": "display_data"
    },
    {
     "name": "stdout",
     "output_type": "stream",
     "text": [
      "\n",
      "      Epoch    GPU_mem   box_loss   cls_loss   dfl_loss  Instances       Size\n"
     ]
    },
    {
     "name": "stderr",
     "output_type": "stream",
     "text": [
      "      13/50      5.28G     0.4785     0.3627      1.121          9        960: 100%|██████████| 700/700 [04:20<00:00,  2\n",
      "                 Class     Images  Instances      Box(P          R      mAP50  mAP50-95): 100%|██████████| 150/150 [00:5"
     ]
    },
    {
     "name": "stdout",
     "output_type": "stream",
     "text": [
      "                   all       1200       1411      0.952      0.921      0.943       0.79\n"
     ]
    },
    {
     "name": "stderr",
     "output_type": "stream",
     "text": [
      "\n"
     ]
    },
    {
     "data": {
      "application/vnd.jupyter.widget-view+json": {
       "model_id": "da5899418a464d8c9d3d867ec9903422",
       "version_major": 2,
       "version_minor": 0
      },
      "text/plain": [
       "Generating Visualizations for batch-1/1:   0%|          | 0/8 [00:00<?, ?it/s]"
      ]
     },
     "metadata": {},
     "output_type": "display_data"
    },
    {
     "data": {
      "application/vnd.jupyter.widget-view+json": {
       "model_id": "5c18dd0dacaa47f29fd3d93c9f5b9299",
       "version_major": 2,
       "version_minor": 0
      },
      "text/plain": [
       "Generating Visualizations for batch-1/1:   0%|          | 0/8 [00:00<?, ?it/s]"
      ]
     },
     "metadata": {},
     "output_type": "display_data"
    },
    {
     "name": "stdout",
     "output_type": "stream",
     "text": [
      "\n",
      "      Epoch    GPU_mem   box_loss   cls_loss   dfl_loss  Instances       Size\n"
     ]
    },
    {
     "name": "stderr",
     "output_type": "stream",
     "text": [
      "      14/50      5.28G     0.4704     0.3552      1.117         18        960: 100%|██████████| 700/700 [04:49<00:00,  2\n",
      "                 Class     Images  Instances      Box(P          R      mAP50  mAP50-95): 100%|██████████| 150/150 [00:5"
     ]
    },
    {
     "name": "stdout",
     "output_type": "stream",
     "text": [
      "                   all       1200       1411      0.957      0.917      0.961      0.799\n"
     ]
    },
    {
     "name": "stderr",
     "output_type": "stream",
     "text": [
      "\n"
     ]
    },
    {
     "data": {
      "application/vnd.jupyter.widget-view+json": {
       "model_id": "965a3ae97f084466b3ba29c2a05c5773",
       "version_major": 2,
       "version_minor": 0
      },
      "text/plain": [
       "Generating Visualizations for batch-1/1:   0%|          | 0/8 [00:00<?, ?it/s]"
      ]
     },
     "metadata": {},
     "output_type": "display_data"
    },
    {
     "data": {
      "application/vnd.jupyter.widget-view+json": {
       "model_id": "6fd2151136b64482be144b8a92d60dbf",
       "version_major": 2,
       "version_minor": 0
      },
      "text/plain": [
       "Generating Visualizations for batch-1/1:   0%|          | 0/8 [00:00<?, ?it/s]"
      ]
     },
     "metadata": {},
     "output_type": "display_data"
    },
    {
     "name": "stdout",
     "output_type": "stream",
     "text": [
      "\n",
      "      Epoch    GPU_mem   box_loss   cls_loss   dfl_loss  Instances       Size\n"
     ]
    },
    {
     "name": "stderr",
     "output_type": "stream",
     "text": [
      "      15/50       5.3G     0.4652     0.3542      1.114         10        960: 100%|██████████| 700/700 [04:34<00:00,  2\n",
      "                 Class     Images  Instances      Box(P          R      mAP50  mAP50-95): 100%|██████████| 150/150 [00:4"
     ]
    },
    {
     "name": "stdout",
     "output_type": "stream",
     "text": [
      "                   all       1200       1411      0.918      0.921      0.969      0.797\n"
     ]
    },
    {
     "name": "stderr",
     "output_type": "stream",
     "text": [
      "\n"
     ]
    },
    {
     "data": {
      "application/vnd.jupyter.widget-view+json": {
       "model_id": "3bb7a25bb651487ca315b41ad6be875b",
       "version_major": 2,
       "version_minor": 0
      },
      "text/plain": [
       "Generating Visualizations for batch-1/1:   0%|          | 0/8 [00:00<?, ?it/s]"
      ]
     },
     "metadata": {},
     "output_type": "display_data"
    },
    {
     "data": {
      "application/vnd.jupyter.widget-view+json": {
       "model_id": "dc6e7e42a2994f0b9561fd9aaec5162f",
       "version_major": 2,
       "version_minor": 0
      },
      "text/plain": [
       "Generating Visualizations for batch-1/1:   0%|          | 0/8 [00:00<?, ?it/s]"
      ]
     },
     "metadata": {},
     "output_type": "display_data"
    },
    {
     "name": "stdout",
     "output_type": "stream",
     "text": [
      "\n",
      "      Epoch    GPU_mem   box_loss   cls_loss   dfl_loss  Instances       Size\n"
     ]
    },
    {
     "name": "stderr",
     "output_type": "stream",
     "text": [
      "      16/50      5.28G     0.4638     0.3493       1.11         11        960: 100%|██████████| 700/700 [04:55<00:00,  2\n",
      "                 Class     Images  Instances      Box(P          R      mAP50  mAP50-95): 100%|██████████| 150/150 [00:3"
     ]
    },
    {
     "name": "stdout",
     "output_type": "stream",
     "text": [
      "                   all       1200       1411      0.972      0.906      0.963      0.795\n"
     ]
    },
    {
     "name": "stderr",
     "output_type": "stream",
     "text": [
      "\n"
     ]
    },
    {
     "data": {
      "application/vnd.jupyter.widget-view+json": {
       "model_id": "48ac401f4dd4441b99f389bf72c6278d",
       "version_major": 2,
       "version_minor": 0
      },
      "text/plain": [
       "Generating Visualizations for batch-1/1:   0%|          | 0/8 [00:00<?, ?it/s]"
      ]
     },
     "metadata": {},
     "output_type": "display_data"
    },
    {
     "data": {
      "application/vnd.jupyter.widget-view+json": {
       "model_id": "458223b57e364bb6914989f6ca395c49",
       "version_major": 2,
       "version_minor": 0
      },
      "text/plain": [
       "Generating Visualizations for batch-1/1:   0%|          | 0/8 [00:00<?, ?it/s]"
      ]
     },
     "metadata": {},
     "output_type": "display_data"
    },
    {
     "name": "stdout",
     "output_type": "stream",
     "text": [
      "\n",
      "      Epoch    GPU_mem   box_loss   cls_loss   dfl_loss  Instances       Size\n"
     ]
    },
    {
     "name": "stderr",
     "output_type": "stream",
     "text": [
      "      17/50      5.28G     0.4466     0.3371      1.096         11        960: 100%|██████████| 700/700 [05:11<00:00,  2\n",
      "                 Class     Images  Instances      Box(P          R      mAP50  mAP50-95): 100%|██████████| 150/150 [00:3"
     ]
    },
    {
     "name": "stdout",
     "output_type": "stream",
     "text": [
      "                   all       1200       1411      0.974      0.911      0.963      0.797\n"
     ]
    },
    {
     "name": "stderr",
     "output_type": "stream",
     "text": [
      "\n"
     ]
    },
    {
     "data": {
      "application/vnd.jupyter.widget-view+json": {
       "model_id": "56642935990941ca92c128023ebe5e1c",
       "version_major": 2,
       "version_minor": 0
      },
      "text/plain": [
       "Generating Visualizations for batch-1/1:   0%|          | 0/8 [00:00<?, ?it/s]"
      ]
     },
     "metadata": {},
     "output_type": "display_data"
    },
    {
     "data": {
      "application/vnd.jupyter.widget-view+json": {
       "model_id": "831016f69f294de8ae9636fa6d56f32e",
       "version_major": 2,
       "version_minor": 0
      },
      "text/plain": [
       "Generating Visualizations for batch-1/1:   0%|          | 0/8 [00:00<?, ?it/s]"
      ]
     },
     "metadata": {},
     "output_type": "display_data"
    },
    {
     "name": "stdout",
     "output_type": "stream",
     "text": [
      "\n",
      "      Epoch    GPU_mem   box_loss   cls_loss   dfl_loss  Instances       Size\n"
     ]
    },
    {
     "name": "stderr",
     "output_type": "stream",
     "text": [
      "      18/50      5.28G     0.4578      0.352      1.106         17        960: 100%|██████████| 700/700 [04:37<00:00,  2\n",
      "                 Class     Images  Instances      Box(P          R      mAP50  mAP50-95):  86%|████████▌ | 129/150 [00:4"
     ]
    },
    {
     "name": "stdout",
     "output_type": "stream",
     "text": [
      "WARNING ⚠️ NMS time limit 2.400s exceeded\n"
     ]
    },
    {
     "name": "stderr",
     "output_type": "stream",
     "text": [
      "                 Class     Images  Instances      Box(P          R      mAP50  mAP50-95): 100%|██████████| 150/150 [00:5"
     ]
    },
    {
     "name": "stdout",
     "output_type": "stream",
     "text": [
      "                   all       1200       1411      0.942      0.927      0.974      0.803\n"
     ]
    },
    {
     "name": "stderr",
     "output_type": "stream",
     "text": [
      "\n"
     ]
    },
    {
     "data": {
      "application/vnd.jupyter.widget-view+json": {
       "model_id": "64d26be52f5d4ddc8dd7b16cdb15bc56",
       "version_major": 2,
       "version_minor": 0
      },
      "text/plain": [
       "Generating Visualizations for batch-1/1:   0%|          | 0/8 [00:00<?, ?it/s]"
      ]
     },
     "metadata": {},
     "output_type": "display_data"
    },
    {
     "data": {
      "application/vnd.jupyter.widget-view+json": {
       "model_id": "eab2ab85dd64403fa2ac0c36126aa5eb",
       "version_major": 2,
       "version_minor": 0
      },
      "text/plain": [
       "Generating Visualizations for batch-1/1:   0%|          | 0/8 [00:00<?, ?it/s]"
      ]
     },
     "metadata": {},
     "output_type": "display_data"
    },
    {
     "name": "stdout",
     "output_type": "stream",
     "text": [
      "\n",
      "      Epoch    GPU_mem   box_loss   cls_loss   dfl_loss  Instances       Size\n"
     ]
    },
    {
     "name": "stderr",
     "output_type": "stream",
     "text": [
      "      19/50      5.29G     0.4494     0.3279        1.1         11        960: 100%|██████████| 700/700 [04:53<00:00,  2\n",
      "                 Class     Images  Instances      Box(P          R      mAP50  mAP50-95): 100%|██████████| 150/150 [00:4"
     ]
    },
    {
     "name": "stdout",
     "output_type": "stream",
     "text": [
      "                   all       1200       1411       0.95       0.91      0.963      0.803\n"
     ]
    },
    {
     "name": "stderr",
     "output_type": "stream",
     "text": [
      "\n"
     ]
    },
    {
     "data": {
      "application/vnd.jupyter.widget-view+json": {
       "model_id": "1e7209ee5a1d42618690885ac2660e77",
       "version_major": 2,
       "version_minor": 0
      },
      "text/plain": [
       "Generating Visualizations for batch-1/1:   0%|          | 0/8 [00:00<?, ?it/s]"
      ]
     },
     "metadata": {},
     "output_type": "display_data"
    },
    {
     "data": {
      "application/vnd.jupyter.widget-view+json": {
       "model_id": "37c900e55b2142408e5c51e42a4fb6f0",
       "version_major": 2,
       "version_minor": 0
      },
      "text/plain": [
       "Generating Visualizations for batch-1/1:   0%|          | 0/8 [00:00<?, ?it/s]"
      ]
     },
     "metadata": {},
     "output_type": "display_data"
    },
    {
     "name": "stdout",
     "output_type": "stream",
     "text": [
      "\n",
      "      Epoch    GPU_mem   box_loss   cls_loss   dfl_loss  Instances       Size\n"
     ]
    },
    {
     "name": "stderr",
     "output_type": "stream",
     "text": [
      "      20/50       5.3G     0.4375      0.321      1.085         10        960: 100%|██████████| 700/700 [04:42<00:00,  2\n",
      "                 Class     Images  Instances      Box(P          R      mAP50  mAP50-95): 100%|██████████| 150/150 [00:4"
     ]
    },
    {
     "name": "stdout",
     "output_type": "stream",
     "text": [
      "                   all       1200       1411      0.979      0.914      0.961      0.809\n"
     ]
    },
    {
     "name": "stderr",
     "output_type": "stream",
     "text": [
      "\n"
     ]
    },
    {
     "data": {
      "application/vnd.jupyter.widget-view+json": {
       "model_id": "aee9d6e22b3440eaa6f8356a95a8c02a",
       "version_major": 2,
       "version_minor": 0
      },
      "text/plain": [
       "Generating Visualizations for batch-1/1:   0%|          | 0/8 [00:00<?, ?it/s]"
      ]
     },
     "metadata": {},
     "output_type": "display_data"
    },
    {
     "data": {
      "application/vnd.jupyter.widget-view+json": {
       "model_id": "139030013ba24e16b2d865a1d621d984",
       "version_major": 2,
       "version_minor": 0
      },
      "text/plain": [
       "Generating Visualizations for batch-1/1:   0%|          | 0/8 [00:00<?, ?it/s]"
      ]
     },
     "metadata": {},
     "output_type": "display_data"
    },
    {
     "name": "stdout",
     "output_type": "stream",
     "text": [
      "\n",
      "      Epoch    GPU_mem   box_loss   cls_loss   dfl_loss  Instances       Size\n"
     ]
    },
    {
     "name": "stderr",
     "output_type": "stream",
     "text": [
      "      21/50       5.3G     0.4485     0.3296      1.101          7        960: 100%|██████████| 700/700 [05:12<00:00,  2\n",
      "                 Class     Images  Instances      Box(P          R      mAP50  mAP50-95): 100%|██████████| 150/150 [00:5"
     ]
    },
    {
     "name": "stdout",
     "output_type": "stream",
     "text": [
      "                   all       1200       1411       0.96      0.913      0.955      0.782\n"
     ]
    },
    {
     "name": "stderr",
     "output_type": "stream",
     "text": [
      "\n"
     ]
    },
    {
     "data": {
      "application/vnd.jupyter.widget-view+json": {
       "model_id": "8d82758d20c9419c92d4a2198e2492e5",
       "version_major": 2,
       "version_minor": 0
      },
      "text/plain": [
       "Generating Visualizations for batch-1/1:   0%|          | 0/8 [00:00<?, ?it/s]"
      ]
     },
     "metadata": {},
     "output_type": "display_data"
    },
    {
     "data": {
      "application/vnd.jupyter.widget-view+json": {
       "model_id": "f4217f3951d34114ad475a5470b7ae35",
       "version_major": 2,
       "version_minor": 0
      },
      "text/plain": [
       "Generating Visualizations for batch-1/1:   0%|          | 0/8 [00:00<?, ?it/s]"
      ]
     },
     "metadata": {},
     "output_type": "display_data"
    },
    {
     "name": "stdout",
     "output_type": "stream",
     "text": [
      "\n",
      "      Epoch    GPU_mem   box_loss   cls_loss   dfl_loss  Instances       Size\n"
     ]
    },
    {
     "name": "stderr",
     "output_type": "stream",
     "text": [
      "      22/50       5.3G     0.4313     0.3175      1.085         13        960: 100%|██████████| 700/700 [04:32<00:00,  2\n",
      "                 Class     Images  Instances      Box(P          R      mAP50  mAP50-95): 100%|██████████| 150/150 [00:3"
     ]
    },
    {
     "name": "stdout",
     "output_type": "stream",
     "text": [
      "                   all       1200       1411      0.983       0.92      0.966      0.804\n"
     ]
    },
    {
     "name": "stderr",
     "output_type": "stream",
     "text": [
      "\n"
     ]
    },
    {
     "data": {
      "application/vnd.jupyter.widget-view+json": {
       "model_id": "4dfe168c223f4853a04693659102c55a",
       "version_major": 2,
       "version_minor": 0
      },
      "text/plain": [
       "Generating Visualizations for batch-1/1:   0%|          | 0/8 [00:00<?, ?it/s]"
      ]
     },
     "metadata": {},
     "output_type": "display_data"
    },
    {
     "data": {
      "application/vnd.jupyter.widget-view+json": {
       "model_id": "8a990b105c304b5385d11d1774432e9c",
       "version_major": 2,
       "version_minor": 0
      },
      "text/plain": [
       "Generating Visualizations for batch-1/1:   0%|          | 0/8 [00:00<?, ?it/s]"
      ]
     },
     "metadata": {},
     "output_type": "display_data"
    },
    {
     "name": "stdout",
     "output_type": "stream",
     "text": [
      "\n",
      "      Epoch    GPU_mem   box_loss   cls_loss   dfl_loss  Instances       Size\n"
     ]
    },
    {
     "name": "stderr",
     "output_type": "stream",
     "text": [
      "      23/50      5.28G     0.4327     0.3211      1.087         14        960: 100%|██████████| 700/700 [04:30<00:00,  2\n",
      "                 Class     Images  Instances      Box(P          R      mAP50  mAP50-95): 100%|██████████| 150/150 [01:0"
     ]
    },
    {
     "name": "stdout",
     "output_type": "stream",
     "text": [
      "                   all       1200       1411       0.96      0.928      0.977      0.825\n"
     ]
    },
    {
     "name": "stderr",
     "output_type": "stream",
     "text": [
      "\n"
     ]
    },
    {
     "data": {
      "application/vnd.jupyter.widget-view+json": {
       "model_id": "ea6c2842411047d0b65513fbdf62ac85",
       "version_major": 2,
       "version_minor": 0
      },
      "text/plain": [
       "Generating Visualizations for batch-1/1:   0%|          | 0/8 [00:00<?, ?it/s]"
      ]
     },
     "metadata": {},
     "output_type": "display_data"
    },
    {
     "data": {
      "application/vnd.jupyter.widget-view+json": {
       "model_id": "2abe09ea5e004fb5a694c52d6f05cbd4",
       "version_major": 2,
       "version_minor": 0
      },
      "text/plain": [
       "Generating Visualizations for batch-1/1:   0%|          | 0/8 [00:00<?, ?it/s]"
      ]
     },
     "metadata": {},
     "output_type": "display_data"
    },
    {
     "name": "stdout",
     "output_type": "stream",
     "text": [
      "\n",
      "      Epoch    GPU_mem   box_loss   cls_loss   dfl_loss  Instances       Size\n"
     ]
    },
    {
     "name": "stderr",
     "output_type": "stream",
     "text": [
      "      24/50      5.28G     0.4327     0.3128      1.088         16        960: 100%|██████████| 700/700 [04:00<00:00,  2\n",
      "                 Class     Images  Instances      Box(P          R      mAP50  mAP50-95): 100%|██████████| 150/150 [00:5"
     ]
    },
    {
     "name": "stdout",
     "output_type": "stream",
     "text": [
      "                   all       1200       1411      0.958      0.924      0.975      0.809\n"
     ]
    },
    {
     "name": "stderr",
     "output_type": "stream",
     "text": [
      "\n"
     ]
    },
    {
     "data": {
      "application/vnd.jupyter.widget-view+json": {
       "model_id": "5f810b8820a942fca662a2b402316744",
       "version_major": 2,
       "version_minor": 0
      },
      "text/plain": [
       "Generating Visualizations for batch-1/1:   0%|          | 0/8 [00:00<?, ?it/s]"
      ]
     },
     "metadata": {},
     "output_type": "display_data"
    },
    {
     "data": {
      "application/vnd.jupyter.widget-view+json": {
       "model_id": "6d13e09059834895a47ed216d8276ea6",
       "version_major": 2,
       "version_minor": 0
      },
      "text/plain": [
       "Generating Visualizations for batch-1/1:   0%|          | 0/8 [00:00<?, ?it/s]"
      ]
     },
     "metadata": {},
     "output_type": "display_data"
    },
    {
     "name": "stdout",
     "output_type": "stream",
     "text": [
      "\n",
      "      Epoch    GPU_mem   box_loss   cls_loss   dfl_loss  Instances       Size\n"
     ]
    },
    {
     "name": "stderr",
     "output_type": "stream",
     "text": [
      "      25/50      5.29G      0.436     0.3169      1.087         15        960: 100%|██████████| 700/700 [04:58<00:00,  2\n",
      "                 Class     Images  Instances      Box(P          R      mAP50  mAP50-95): 100%|██████████| 150/150 [01:0"
     ]
    },
    {
     "name": "stdout",
     "output_type": "stream",
     "text": [
      "                   all       1200       1411      0.977      0.928       0.98      0.812\n"
     ]
    },
    {
     "name": "stderr",
     "output_type": "stream",
     "text": [
      "\n"
     ]
    },
    {
     "data": {
      "application/vnd.jupyter.widget-view+json": {
       "model_id": "033fd4c2c01f42978557bef527eafd4d",
       "version_major": 2,
       "version_minor": 0
      },
      "text/plain": [
       "Generating Visualizations for batch-1/1:   0%|          | 0/8 [00:00<?, ?it/s]"
      ]
     },
     "metadata": {},
     "output_type": "display_data"
    },
    {
     "data": {
      "application/vnd.jupyter.widget-view+json": {
       "model_id": "4d47f9902baa42cd8873b7e6f327f9ca",
       "version_major": 2,
       "version_minor": 0
      },
      "text/plain": [
       "Generating Visualizations for batch-1/1:   0%|          | 0/8 [00:00<?, ?it/s]"
      ]
     },
     "metadata": {},
     "output_type": "display_data"
    },
    {
     "name": "stdout",
     "output_type": "stream",
     "text": [
      "\n",
      "      Epoch    GPU_mem   box_loss   cls_loss   dfl_loss  Instances       Size\n"
     ]
    },
    {
     "name": "stderr",
     "output_type": "stream",
     "text": [
      "      26/50      5.28G     0.4215     0.3119      1.085         17        960: 100%|██████████| 700/700 [04:52<00:00,  2\n",
      "                 Class     Images  Instances      Box(P          R      mAP50  mAP50-95): 100%|██████████| 150/150 [01:0"
     ]
    },
    {
     "name": "stdout",
     "output_type": "stream",
     "text": [
      "                   all       1200       1411      0.965      0.941      0.973      0.815\n"
     ]
    },
    {
     "name": "stderr",
     "output_type": "stream",
     "text": [
      "\n"
     ]
    },
    {
     "data": {
      "application/vnd.jupyter.widget-view+json": {
       "model_id": "cd9ac0e3506f40e3a5735ee60dcf06a8",
       "version_major": 2,
       "version_minor": 0
      },
      "text/plain": [
       "Generating Visualizations for batch-1/1:   0%|          | 0/8 [00:00<?, ?it/s]"
      ]
     },
     "metadata": {},
     "output_type": "display_data"
    },
    {
     "data": {
      "application/vnd.jupyter.widget-view+json": {
       "model_id": "281ee579b238407ebeaaf82c93689620",
       "version_major": 2,
       "version_minor": 0
      },
      "text/plain": [
       "Generating Visualizations for batch-1/1:   0%|          | 0/8 [00:00<?, ?it/s]"
      ]
     },
     "metadata": {},
     "output_type": "display_data"
    },
    {
     "name": "stdout",
     "output_type": "stream",
     "text": [
      "\n",
      "      Epoch    GPU_mem   box_loss   cls_loss   dfl_loss  Instances       Size\n"
     ]
    },
    {
     "name": "stderr",
     "output_type": "stream",
     "text": [
      "      27/50      5.29G     0.4137        0.3      1.071         10        960: 100%|██████████| 700/700 [05:08<00:00,  2\n",
      "                 Class     Images  Instances      Box(P          R      mAP50  mAP50-95): 100%|██████████| 150/150 [00:3"
     ]
    },
    {
     "name": "stdout",
     "output_type": "stream",
     "text": [
      "                   all       1200       1411      0.969      0.933      0.979      0.827\n"
     ]
    },
    {
     "name": "stderr",
     "output_type": "stream",
     "text": [
      "\n"
     ]
    },
    {
     "data": {
      "application/vnd.jupyter.widget-view+json": {
       "model_id": "8f18a2c735eb40efbc6923a58e2887e4",
       "version_major": 2,
       "version_minor": 0
      },
      "text/plain": [
       "Generating Visualizations for batch-1/1:   0%|          | 0/8 [00:00<?, ?it/s]"
      ]
     },
     "metadata": {},
     "output_type": "display_data"
    },
    {
     "data": {
      "application/vnd.jupyter.widget-view+json": {
       "model_id": "10d9c792ee6b42f3940355bbf74054ac",
       "version_major": 2,
       "version_minor": 0
      },
      "text/plain": [
       "Generating Visualizations for batch-1/1:   0%|          | 0/8 [00:00<?, ?it/s]"
      ]
     },
     "metadata": {},
     "output_type": "display_data"
    },
    {
     "name": "stdout",
     "output_type": "stream",
     "text": [
      "\n",
      "      Epoch    GPU_mem   box_loss   cls_loss   dfl_loss  Instances       Size\n"
     ]
    },
    {
     "name": "stderr",
     "output_type": "stream",
     "text": [
      "      28/50       5.3G     0.4133     0.3031       1.07         14        960: 100%|██████████| 700/700 [05:17<00:00,  2\n",
      "                 Class     Images  Instances      Box(P          R      mAP50  mAP50-95): 100%|██████████| 150/150 [01:1"
     ]
    },
    {
     "name": "stdout",
     "output_type": "stream",
     "text": [
      "                   all       1200       1411      0.961      0.928      0.964      0.807\n"
     ]
    },
    {
     "name": "stderr",
     "output_type": "stream",
     "text": [
      "\n"
     ]
    },
    {
     "data": {
      "application/vnd.jupyter.widget-view+json": {
       "model_id": "29dd9146c41e4bec87fcf6423e6bab4f",
       "version_major": 2,
       "version_minor": 0
      },
      "text/plain": [
       "Generating Visualizations for batch-1/1:   0%|          | 0/8 [00:00<?, ?it/s]"
      ]
     },
     "metadata": {},
     "output_type": "display_data"
    },
    {
     "data": {
      "application/vnd.jupyter.widget-view+json": {
       "model_id": "fe08c1987bab41bdb1876dd330d93fc5",
       "version_major": 2,
       "version_minor": 0
      },
      "text/plain": [
       "Generating Visualizations for batch-1/1:   0%|          | 0/8 [00:00<?, ?it/s]"
      ]
     },
     "metadata": {},
     "output_type": "display_data"
    },
    {
     "name": "stdout",
     "output_type": "stream",
     "text": [
      "\n",
      "      Epoch    GPU_mem   box_loss   cls_loss   dfl_loss  Instances       Size\n"
     ]
    },
    {
     "name": "stderr",
     "output_type": "stream",
     "text": [
      "      29/50      5.27G     0.4094     0.2917      1.072         10        960: 100%|██████████| 700/700 [04:30<00:00,  2\n",
      "                 Class     Images  Instances      Box(P          R      mAP50  mAP50-95): 100%|██████████| 150/150 [00:4"
     ]
    },
    {
     "name": "stdout",
     "output_type": "stream",
     "text": [
      "                   all       1200       1411      0.977      0.925      0.975      0.819\n"
     ]
    },
    {
     "name": "stderr",
     "output_type": "stream",
     "text": [
      "\n"
     ]
    },
    {
     "data": {
      "application/vnd.jupyter.widget-view+json": {
       "model_id": "1737ae175cef48ec8d3e5c33efad9e14",
       "version_major": 2,
       "version_minor": 0
      },
      "text/plain": [
       "Generating Visualizations for batch-1/1:   0%|          | 0/8 [00:00<?, ?it/s]"
      ]
     },
     "metadata": {},
     "output_type": "display_data"
    },
    {
     "data": {
      "application/vnd.jupyter.widget-view+json": {
       "model_id": "1597c77e6c024c269292fe41f5f94999",
       "version_major": 2,
       "version_minor": 0
      },
      "text/plain": [
       "Generating Visualizations for batch-1/1:   0%|          | 0/8 [00:00<?, ?it/s]"
      ]
     },
     "metadata": {},
     "output_type": "display_data"
    },
    {
     "name": "stdout",
     "output_type": "stream",
     "text": [
      "\n",
      "      Epoch    GPU_mem   box_loss   cls_loss   dfl_loss  Instances       Size\n"
     ]
    },
    {
     "name": "stderr",
     "output_type": "stream",
     "text": [
      "      30/50      5.28G      0.407     0.2917      1.061         10        960: 100%|██████████| 700/700 [05:19<00:00,  2\n",
      "                 Class     Images  Instances      Box(P          R      mAP50  mAP50-95): 100%|██████████| 150/150 [01:0"
     ]
    },
    {
     "name": "stdout",
     "output_type": "stream",
     "text": [
      "                   all       1200       1411       0.95      0.927      0.971      0.814\n"
     ]
    },
    {
     "name": "stderr",
     "output_type": "stream",
     "text": [
      "\n"
     ]
    },
    {
     "data": {
      "application/vnd.jupyter.widget-view+json": {
       "model_id": "e103fee76c424fda8251ae9597c43988",
       "version_major": 2,
       "version_minor": 0
      },
      "text/plain": [
       "Generating Visualizations for batch-1/1:   0%|          | 0/8 [00:00<?, ?it/s]"
      ]
     },
     "metadata": {},
     "output_type": "display_data"
    },
    {
     "data": {
      "application/vnd.jupyter.widget-view+json": {
       "model_id": "8842aa474a924fcb8ab6e682a6db145e",
       "version_major": 2,
       "version_minor": 0
      },
      "text/plain": [
       "Generating Visualizations for batch-1/1:   0%|          | 0/8 [00:00<?, ?it/s]"
      ]
     },
     "metadata": {},
     "output_type": "display_data"
    },
    {
     "name": "stdout",
     "output_type": "stream",
     "text": [
      "\n",
      "      Epoch    GPU_mem   box_loss   cls_loss   dfl_loss  Instances       Size\n"
     ]
    },
    {
     "name": "stderr",
     "output_type": "stream",
     "text": [
      "      31/50      5.28G     0.4006     0.2932      1.061          8        960: 100%|██████████| 700/700 [04:08<00:00,  2\n",
      "                 Class     Images  Instances      Box(P          R      mAP50  mAP50-95): 100%|██████████| 150/150 [00:3"
     ]
    },
    {
     "name": "stdout",
     "output_type": "stream",
     "text": [
      "                   all       1200       1411      0.981      0.922      0.975      0.819\n"
     ]
    },
    {
     "name": "stderr",
     "output_type": "stream",
     "text": [
      "\n"
     ]
    },
    {
     "data": {
      "application/vnd.jupyter.widget-view+json": {
       "model_id": "e923ed4928944b61b54f9aeb44af4f23",
       "version_major": 2,
       "version_minor": 0
      },
      "text/plain": [
       "Generating Visualizations for batch-1/1:   0%|          | 0/8 [00:00<?, ?it/s]"
      ]
     },
     "metadata": {},
     "output_type": "display_data"
    },
    {
     "data": {
      "application/vnd.jupyter.widget-view+json": {
       "model_id": "e0229de532b949b38094a2a5dbd16628",
       "version_major": 2,
       "version_minor": 0
      },
      "text/plain": [
       "Generating Visualizations for batch-1/1:   0%|          | 0/8 [00:00<?, ?it/s]"
      ]
     },
     "metadata": {},
     "output_type": "display_data"
    },
    {
     "name": "stdout",
     "output_type": "stream",
     "text": [
      "\n",
      "      Epoch    GPU_mem   box_loss   cls_loss   dfl_loss  Instances       Size\n"
     ]
    },
    {
     "name": "stderr",
     "output_type": "stream",
     "text": [
      "      32/50      5.29G     0.4009     0.2946      1.064          8        960: 100%|██████████| 700/700 [05:58<00:00,  1\n",
      "                 Class     Images  Instances      Box(P          R      mAP50  mAP50-95): 100%|██████████| 150/150 [00:5"
     ]
    },
    {
     "name": "stdout",
     "output_type": "stream",
     "text": [
      "                   all       1200       1411      0.979      0.924      0.976      0.821\n"
     ]
    },
    {
     "name": "stderr",
     "output_type": "stream",
     "text": [
      "\n"
     ]
    },
    {
     "data": {
      "application/vnd.jupyter.widget-view+json": {
       "model_id": "55f27ccad05449ebbf9baf00739a42d5",
       "version_major": 2,
       "version_minor": 0
      },
      "text/plain": [
       "Generating Visualizations for batch-1/1:   0%|          | 0/8 [00:00<?, ?it/s]"
      ]
     },
     "metadata": {},
     "output_type": "display_data"
    },
    {
     "data": {
      "application/vnd.jupyter.widget-view+json": {
       "model_id": "44a783b3166242ed8888f12d72e76b70",
       "version_major": 2,
       "version_minor": 0
      },
      "text/plain": [
       "Generating Visualizations for batch-1/1:   0%|          | 0/8 [00:00<?, ?it/s]"
      ]
     },
     "metadata": {},
     "output_type": "display_data"
    },
    {
     "name": "stdout",
     "output_type": "stream",
     "text": [
      "\n",
      "      Epoch    GPU_mem   box_loss   cls_loss   dfl_loss  Instances       Size\n"
     ]
    },
    {
     "name": "stderr",
     "output_type": "stream",
     "text": [
      "      33/50       5.3G     0.3908     0.2852      1.056         21        960: 100%|██████████| 700/700 [06:21<00:00,  1\n",
      "                 Class     Images  Instances      Box(P          R      mAP50  mAP50-95): 100%|██████████| 150/150 [01:0"
     ]
    },
    {
     "name": "stdout",
     "output_type": "stream",
     "text": [
      "                   all       1200       1411      0.973      0.912      0.973      0.824\n"
     ]
    },
    {
     "name": "stderr",
     "output_type": "stream",
     "text": [
      "\n"
     ]
    },
    {
     "data": {
      "application/vnd.jupyter.widget-view+json": {
       "model_id": "32f11622c00146af8eca3cc7b4a16c9d",
       "version_major": 2,
       "version_minor": 0
      },
      "text/plain": [
       "Generating Visualizations for batch-1/1:   0%|          | 0/8 [00:00<?, ?it/s]"
      ]
     },
     "metadata": {},
     "output_type": "display_data"
    },
    {
     "data": {
      "application/vnd.jupyter.widget-view+json": {
       "model_id": "96ba3609f2f8480aa002d052a6744b18",
       "version_major": 2,
       "version_minor": 0
      },
      "text/plain": [
       "Generating Visualizations for batch-1/1:   0%|          | 0/8 [00:00<?, ?it/s]"
      ]
     },
     "metadata": {},
     "output_type": "display_data"
    },
    {
     "name": "stdout",
     "output_type": "stream",
     "text": [
      "\n",
      "      Epoch    GPU_mem   box_loss   cls_loss   dfl_loss  Instances       Size\n"
     ]
    },
    {
     "name": "stderr",
     "output_type": "stream",
     "text": [
      "      34/50      5.28G     0.3924     0.2831      1.053         11        960: 100%|██████████| 700/700 [05:23<00:00,  2\n",
      "                 Class     Images  Instances      Box(P          R      mAP50  mAP50-95): 100%|██████████| 150/150 [00:4"
     ]
    },
    {
     "name": "stdout",
     "output_type": "stream",
     "text": [
      "                   all       1200       1411       0.98      0.928      0.973      0.827\n"
     ]
    },
    {
     "name": "stderr",
     "output_type": "stream",
     "text": [
      "\n"
     ]
    },
    {
     "data": {
      "application/vnd.jupyter.widget-view+json": {
       "model_id": "40c58cf61bd64f6783e03413d7751a50",
       "version_major": 2,
       "version_minor": 0
      },
      "text/plain": [
       "Generating Visualizations for batch-1/1:   0%|          | 0/8 [00:00<?, ?it/s]"
      ]
     },
     "metadata": {},
     "output_type": "display_data"
    },
    {
     "data": {
      "application/vnd.jupyter.widget-view+json": {
       "model_id": "803490ac3e104750aff324ce40fa856a",
       "version_major": 2,
       "version_minor": 0
      },
      "text/plain": [
       "Generating Visualizations for batch-1/1:   0%|          | 0/8 [00:00<?, ?it/s]"
      ]
     },
     "metadata": {},
     "output_type": "display_data"
    },
    {
     "name": "stdout",
     "output_type": "stream",
     "text": [
      "\n",
      "      Epoch    GPU_mem   box_loss   cls_loss   dfl_loss  Instances       Size\n"
     ]
    },
    {
     "name": "stderr",
     "output_type": "stream",
     "text": [
      "      35/50      5.29G     0.3978     0.2847       1.06         18        960: 100%|██████████| 700/700 [04:47<00:00,  2\n",
      "                 Class     Images  Instances      Box(P          R      mAP50  mAP50-95): 100%|██████████| 150/150 [00:4"
     ]
    },
    {
     "name": "stdout",
     "output_type": "stream",
     "text": [
      "                   all       1200       1411      0.965      0.925      0.973      0.812\n"
     ]
    },
    {
     "name": "stderr",
     "output_type": "stream",
     "text": [
      "\n"
     ]
    },
    {
     "data": {
      "application/vnd.jupyter.widget-view+json": {
       "model_id": "79c0081952d5446bb2cb1186593df025",
       "version_major": 2,
       "version_minor": 0
      },
      "text/plain": [
       "Generating Visualizations for batch-1/1:   0%|          | 0/8 [00:00<?, ?it/s]"
      ]
     },
     "metadata": {},
     "output_type": "display_data"
    },
    {
     "data": {
      "application/vnd.jupyter.widget-view+json": {
       "model_id": "4628d9b990bb4c809ddbad49e6dbf42c",
       "version_major": 2,
       "version_minor": 0
      },
      "text/plain": [
       "Generating Visualizations for batch-1/1:   0%|          | 0/8 [00:00<?, ?it/s]"
      ]
     },
     "metadata": {},
     "output_type": "display_data"
    },
    {
     "name": "stdout",
     "output_type": "stream",
     "text": [
      "\n",
      "      Epoch    GPU_mem   box_loss   cls_loss   dfl_loss  Instances       Size\n"
     ]
    },
    {
     "name": "stderr",
     "output_type": "stream",
     "text": [
      "      36/50       5.3G     0.3855     0.2789      1.043         10        960: 100%|██████████| 700/700 [04:59<00:00,  2\n",
      "                 Class     Images  Instances      Box(P          R      mAP50  mAP50-95): 100%|██████████| 150/150 [01:0"
     ]
    },
    {
     "name": "stdout",
     "output_type": "stream",
     "text": [
      "                   all       1200       1411      0.939      0.934      0.964      0.821\n"
     ]
    },
    {
     "name": "stderr",
     "output_type": "stream",
     "text": [
      "\n"
     ]
    },
    {
     "data": {
      "application/vnd.jupyter.widget-view+json": {
       "model_id": "6c288ae3969841df8588390aa9d4f448",
       "version_major": 2,
       "version_minor": 0
      },
      "text/plain": [
       "Generating Visualizations for batch-1/1:   0%|          | 0/8 [00:00<?, ?it/s]"
      ]
     },
     "metadata": {},
     "output_type": "display_data"
    },
    {
     "data": {
      "application/vnd.jupyter.widget-view+json": {
       "model_id": "c2c5f1b196a14aa8bd8591a19d59aace",
       "version_major": 2,
       "version_minor": 0
      },
      "text/plain": [
       "Generating Visualizations for batch-1/1:   0%|          | 0/8 [00:00<?, ?it/s]"
      ]
     },
     "metadata": {},
     "output_type": "display_data"
    },
    {
     "name": "stdout",
     "output_type": "stream",
     "text": [
      "\n",
      "      Epoch    GPU_mem   box_loss   cls_loss   dfl_loss  Instances       Size\n"
     ]
    },
    {
     "name": "stderr",
     "output_type": "stream",
     "text": [
      "      37/50      5.29G     0.3854     0.2781       1.05         13        960: 100%|██████████| 700/700 [04:55<00:00,  2\n",
      "                 Class     Images  Instances      Box(P          R      mAP50  mAP50-95): 100%|██████████| 150/150 [00:4"
     ]
    },
    {
     "name": "stdout",
     "output_type": "stream",
     "text": [
      "                   all       1200       1411      0.968      0.935      0.978      0.829\n"
     ]
    },
    {
     "name": "stderr",
     "output_type": "stream",
     "text": [
      "\n"
     ]
    },
    {
     "data": {
      "application/vnd.jupyter.widget-view+json": {
       "model_id": "d9dece96772543f1bebfd32fc447ecfb",
       "version_major": 2,
       "version_minor": 0
      },
      "text/plain": [
       "Generating Visualizations for batch-1/1:   0%|          | 0/8 [00:00<?, ?it/s]"
      ]
     },
     "metadata": {},
     "output_type": "display_data"
    },
    {
     "data": {
      "application/vnd.jupyter.widget-view+json": {
       "model_id": "64059778e47a437fa56b51c1413ac019",
       "version_major": 2,
       "version_minor": 0
      },
      "text/plain": [
       "Generating Visualizations for batch-1/1:   0%|          | 0/8 [00:00<?, ?it/s]"
      ]
     },
     "metadata": {},
     "output_type": "display_data"
    },
    {
     "name": "stdout",
     "output_type": "stream",
     "text": [
      "\n",
      "      Epoch    GPU_mem   box_loss   cls_loss   dfl_loss  Instances       Size\n"
     ]
    },
    {
     "name": "stderr",
     "output_type": "stream",
     "text": [
      "      38/50       5.3G     0.3724     0.2671      1.042         14        960: 100%|██████████| 700/700 [07:52<00:00,  1\n",
      "                 Class     Images  Instances      Box(P          R      mAP50  mAP50-95): 100%|██████████| 150/150 [00:4"
     ]
    },
    {
     "name": "stdout",
     "output_type": "stream",
     "text": [
      "                   all       1200       1411      0.945      0.973      0.978      0.825\n"
     ]
    },
    {
     "name": "stderr",
     "output_type": "stream",
     "text": [
      "\n"
     ]
    },
    {
     "data": {
      "application/vnd.jupyter.widget-view+json": {
       "model_id": "00849e5e08cc4a018483ad547aa4efbe",
       "version_major": 2,
       "version_minor": 0
      },
      "text/plain": [
       "Generating Visualizations for batch-1/1:   0%|          | 0/8 [00:00<?, ?it/s]"
      ]
     },
     "metadata": {},
     "output_type": "display_data"
    },
    {
     "data": {
      "application/vnd.jupyter.widget-view+json": {
       "model_id": "06de1b0007a34e7495c0518edf755030",
       "version_major": 2,
       "version_minor": 0
      },
      "text/plain": [
       "Generating Visualizations for batch-1/1:   0%|          | 0/8 [00:00<?, ?it/s]"
      ]
     },
     "metadata": {},
     "output_type": "display_data"
    },
    {
     "name": "stdout",
     "output_type": "stream",
     "text": [
      "\n",
      "      Epoch    GPU_mem   box_loss   cls_loss   dfl_loss  Instances       Size\n"
     ]
    },
    {
     "name": "stderr",
     "output_type": "stream",
     "text": [
      "      39/50       5.3G     0.3818     0.2734      1.046         10        960: 100%|██████████| 700/700 [04:39<00:00,  2\n",
      "                 Class     Images  Instances      Box(P          R      mAP50  mAP50-95):  85%|████████▍ | 127/150 [00:5"
     ]
    },
    {
     "name": "stdout",
     "output_type": "stream",
     "text": [
      "WARNING ⚠️ NMS time limit 2.400s exceeded\n"
     ]
    },
    {
     "name": "stderr",
     "output_type": "stream",
     "text": [
      "                 Class     Images  Instances      Box(P          R      mAP50  mAP50-95): 100%|██████████| 150/150 [01:0"
     ]
    },
    {
     "name": "stdout",
     "output_type": "stream",
     "text": [
      "                   all       1200       1411      0.975      0.953      0.979      0.824\n"
     ]
    },
    {
     "name": "stderr",
     "output_type": "stream",
     "text": [
      "\n"
     ]
    },
    {
     "data": {
      "application/vnd.jupyter.widget-view+json": {
       "model_id": "7a14a83015c24cf09b916cfe5f4fc43b",
       "version_major": 2,
       "version_minor": 0
      },
      "text/plain": [
       "Generating Visualizations for batch-1/1:   0%|          | 0/8 [00:00<?, ?it/s]"
      ]
     },
     "metadata": {},
     "output_type": "display_data"
    },
    {
     "data": {
      "application/vnd.jupyter.widget-view+json": {
       "model_id": "caa374f90285438d9b1cb94165765408",
       "version_major": 2,
       "version_minor": 0
      },
      "text/plain": [
       "Generating Visualizations for batch-1/1:   0%|          | 0/8 [00:00<?, ?it/s]"
      ]
     },
     "metadata": {},
     "output_type": "display_data"
    },
    {
     "name": "stdout",
     "output_type": "stream",
     "text": [
      "\n",
      "      Epoch    GPU_mem   box_loss   cls_loss   dfl_loss  Instances       Size\n"
     ]
    },
    {
     "name": "stderr",
     "output_type": "stream",
     "text": [
      "      40/50      5.27G     0.3662     0.2656      1.033          8        960: 100%|██████████| 700/700 [04:18<00:00,  2\n",
      "                 Class     Images  Instances      Box(P          R      mAP50  mAP50-95): 100%|██████████| 150/150 [01:0"
     ]
    },
    {
     "name": "stdout",
     "output_type": "stream",
     "text": [
      "                   all       1200       1411      0.982       0.94       0.98      0.832\n"
     ]
    },
    {
     "name": "stderr",
     "output_type": "stream",
     "text": [
      "\n"
     ]
    },
    {
     "data": {
      "application/vnd.jupyter.widget-view+json": {
       "model_id": "04ce423be2f14e1482eb695d4d2eb860",
       "version_major": 2,
       "version_minor": 0
      },
      "text/plain": [
       "Generating Visualizations for batch-1/1:   0%|          | 0/8 [00:00<?, ?it/s]"
      ]
     },
     "metadata": {},
     "output_type": "display_data"
    },
    {
     "data": {
      "application/vnd.jupyter.widget-view+json": {
       "model_id": "39e4cafc3de64a7f8b73da279cf3a841",
       "version_major": 2,
       "version_minor": 0
      },
      "text/plain": [
       "Generating Visualizations for batch-1/1:   0%|          | 0/8 [00:00<?, ?it/s]"
      ]
     },
     "metadata": {},
     "output_type": "display_data"
    },
    {
     "name": "stdout",
     "output_type": "stream",
     "text": [
      "\n",
      "      Epoch    GPU_mem   box_loss   cls_loss   dfl_loss  Instances       Size\n"
     ]
    },
    {
     "name": "stderr",
     "output_type": "stream",
     "text": [
      "      41/50      5.28G     0.3636     0.2609      1.031         15        960: 100%|██████████| 700/700 [04:08<00:00,  2\n",
      "                 Class     Images  Instances      Box(P          R      mAP50  mAP50-95): 100%|██████████| 150/150 [01:1"
     ]
    },
    {
     "name": "stdout",
     "output_type": "stream",
     "text": [
      "                   all       1200       1411      0.982      0.942      0.981      0.837\n"
     ]
    },
    {
     "name": "stderr",
     "output_type": "stream",
     "text": [
      "\n"
     ]
    },
    {
     "data": {
      "application/vnd.jupyter.widget-view+json": {
       "model_id": "302660209212407481ca03c0f19d3f7d",
       "version_major": 2,
       "version_minor": 0
      },
      "text/plain": [
       "Generating Visualizations for batch-1/1:   0%|          | 0/8 [00:00<?, ?it/s]"
      ]
     },
     "metadata": {},
     "output_type": "display_data"
    },
    {
     "data": {
      "application/vnd.jupyter.widget-view+json": {
       "model_id": "56088b220e0d481887be4ae28b30b919",
       "version_major": 2,
       "version_minor": 0
      },
      "text/plain": [
       "Generating Visualizations for batch-1/1:   0%|          | 0/8 [00:00<?, ?it/s]"
      ]
     },
     "metadata": {},
     "output_type": "display_data"
    },
    {
     "name": "stdout",
     "output_type": "stream",
     "text": [
      "\n",
      "      Epoch    GPU_mem   box_loss   cls_loss   dfl_loss  Instances       Size\n"
     ]
    },
    {
     "name": "stderr",
     "output_type": "stream",
     "text": [
      "      42/50       5.3G     0.3752     0.2659      1.042         15        960: 100%|██████████| 700/700 [04:57<00:00,  2\n",
      "                 Class     Images  Instances      Box(P          R      mAP50  mAP50-95): 100%|██████████| 150/150 [00:2"
     ]
    },
    {
     "name": "stdout",
     "output_type": "stream",
     "text": [
      "                   all       1200       1411      0.981      0.948       0.98      0.834\n"
     ]
    },
    {
     "name": "stderr",
     "output_type": "stream",
     "text": [
      "\n"
     ]
    },
    {
     "data": {
      "application/vnd.jupyter.widget-view+json": {
       "model_id": "3cff1cd1c5aa42c8bb0cef833e2b45f3",
       "version_major": 2,
       "version_minor": 0
      },
      "text/plain": [
       "Generating Visualizations for batch-1/1:   0%|          | 0/8 [00:00<?, ?it/s]"
      ]
     },
     "metadata": {},
     "output_type": "display_data"
    },
    {
     "data": {
      "application/vnd.jupyter.widget-view+json": {
       "model_id": "89d87fd1595e4008a3ea23e49236b797",
       "version_major": 2,
       "version_minor": 0
      },
      "text/plain": [
       "Generating Visualizations for batch-1/1:   0%|          | 0/8 [00:00<?, ?it/s]"
      ]
     },
     "metadata": {},
     "output_type": "display_data"
    },
    {
     "name": "stdout",
     "output_type": "stream",
     "text": [
      "\n",
      "      Epoch    GPU_mem   box_loss   cls_loss   dfl_loss  Instances       Size\n"
     ]
    },
    {
     "name": "stderr",
     "output_type": "stream",
     "text": [
      "      43/50       5.3G     0.3692     0.2611      1.039          6        960: 100%|██████████| 700/700 [05:05<00:00,  2\n",
      "                 Class     Images  Instances      Box(P          R      mAP50  mAP50-95): 100%|██████████| 150/150 [01:1"
     ]
    },
    {
     "name": "stdout",
     "output_type": "stream",
     "text": [
      "                   all       1200       1411      0.972      0.949       0.98      0.831\n"
     ]
    },
    {
     "name": "stderr",
     "output_type": "stream",
     "text": [
      "\n"
     ]
    },
    {
     "data": {
      "application/vnd.jupyter.widget-view+json": {
       "model_id": "042abc040733474ea1fe4443981b5e15",
       "version_major": 2,
       "version_minor": 0
      },
      "text/plain": [
       "Generating Visualizations for batch-1/1:   0%|          | 0/8 [00:00<?, ?it/s]"
      ]
     },
     "metadata": {},
     "output_type": "display_data"
    },
    {
     "data": {
      "application/vnd.jupyter.widget-view+json": {
       "model_id": "fd5d5ec5ab8c4a37b91e8d9f25f80586",
       "version_major": 2,
       "version_minor": 0
      },
      "text/plain": [
       "Generating Visualizations for batch-1/1:   0%|          | 0/8 [00:00<?, ?it/s]"
      ]
     },
     "metadata": {},
     "output_type": "display_data"
    },
    {
     "name": "stdout",
     "output_type": "stream",
     "text": [
      "\n",
      "      Epoch    GPU_mem   box_loss   cls_loss   dfl_loss  Instances       Size\n"
     ]
    },
    {
     "name": "stderr",
     "output_type": "stream",
     "text": [
      "      44/50      5.27G     0.3616     0.2569      1.025         15        960: 100%|██████████| 700/700 [06:41<00:00,  1\n",
      "                 Class     Images  Instances      Box(P          R      mAP50  mAP50-95): 100%|██████████| 150/150 [00:2"
     ]
    },
    {
     "name": "stdout",
     "output_type": "stream",
     "text": [
      "                   all       1200       1411      0.972      0.949      0.983      0.838\n"
     ]
    },
    {
     "name": "stderr",
     "output_type": "stream",
     "text": [
      "\n"
     ]
    },
    {
     "data": {
      "application/vnd.jupyter.widget-view+json": {
       "model_id": "62950d12561d4e05b89c84e000fbf719",
       "version_major": 2,
       "version_minor": 0
      },
      "text/plain": [
       "Generating Visualizations for batch-1/1:   0%|          | 0/8 [00:00<?, ?it/s]"
      ]
     },
     "metadata": {},
     "output_type": "display_data"
    },
    {
     "data": {
      "application/vnd.jupyter.widget-view+json": {
       "model_id": "af427317b8894da1a20404af5dcebb98",
       "version_major": 2,
       "version_minor": 0
      },
      "text/plain": [
       "Generating Visualizations for batch-1/1:   0%|          | 0/8 [00:00<?, ?it/s]"
      ]
     },
     "metadata": {},
     "output_type": "display_data"
    },
    {
     "name": "stdout",
     "output_type": "stream",
     "text": [
      "\n",
      "      Epoch    GPU_mem   box_loss   cls_loss   dfl_loss  Instances       Size\n"
     ]
    },
    {
     "name": "stderr",
     "output_type": "stream",
     "text": [
      "      45/50      5.29G     0.3576     0.2562      1.029          9        960: 100%|██████████| 700/700 [05:04<00:00,  2\n",
      "                 Class     Images  Instances      Box(P          R      mAP50  mAP50-95): 100%|██████████| 150/150 [01:0"
     ]
    },
    {
     "name": "stdout",
     "output_type": "stream",
     "text": [
      "                   all       1200       1411      0.951       0.97      0.984      0.836\n"
     ]
    },
    {
     "name": "stderr",
     "output_type": "stream",
     "text": [
      "\n"
     ]
    },
    {
     "data": {
      "application/vnd.jupyter.widget-view+json": {
       "model_id": "1e90587bfa2141bd9498cdf553f134c4",
       "version_major": 2,
       "version_minor": 0
      },
      "text/plain": [
       "Generating Visualizations for batch-1/1:   0%|          | 0/8 [00:00<?, ?it/s]"
      ]
     },
     "metadata": {},
     "output_type": "display_data"
    },
    {
     "data": {
      "application/vnd.jupyter.widget-view+json": {
       "model_id": "5f6095fcc4c144d5b313652e7804e1c8",
       "version_major": 2,
       "version_minor": 0
      },
      "text/plain": [
       "Generating Visualizations for batch-1/1:   0%|          | 0/8 [00:00<?, ?it/s]"
      ]
     },
     "metadata": {},
     "output_type": "display_data"
    },
    {
     "name": "stdout",
     "output_type": "stream",
     "text": [
      "\n",
      "      Epoch    GPU_mem   box_loss   cls_loss   dfl_loss  Instances       Size\n"
     ]
    },
    {
     "name": "stderr",
     "output_type": "stream",
     "text": [
      "      46/50       5.3G     0.3548     0.2517      1.028         15        960: 100%|██████████| 700/700 [08:04<00:00,  1\n",
      "                 Class     Images  Instances      Box(P          R      mAP50  mAP50-95): 100%|██████████| 150/150 [00:4"
     ]
    },
    {
     "name": "stdout",
     "output_type": "stream",
     "text": [
      "                   all       1200       1411      0.981      0.943      0.983      0.835\n"
     ]
    },
    {
     "name": "stderr",
     "output_type": "stream",
     "text": [
      "\n"
     ]
    },
    {
     "data": {
      "application/vnd.jupyter.widget-view+json": {
       "model_id": "79be1a666d8647fd8943d18aa634e073",
       "version_major": 2,
       "version_minor": 0
      },
      "text/plain": [
       "Generating Visualizations for batch-1/1:   0%|          | 0/8 [00:00<?, ?it/s]"
      ]
     },
     "metadata": {},
     "output_type": "display_data"
    },
    {
     "data": {
      "application/vnd.jupyter.widget-view+json": {
       "model_id": "c5c1e3c87aed4a3dada0aa5b8cb12f90",
       "version_major": 2,
       "version_minor": 0
      },
      "text/plain": [
       "Generating Visualizations for batch-1/1:   0%|          | 0/8 [00:00<?, ?it/s]"
      ]
     },
     "metadata": {},
     "output_type": "display_data"
    },
    {
     "name": "stdout",
     "output_type": "stream",
     "text": [
      "\n",
      "      Epoch    GPU_mem   box_loss   cls_loss   dfl_loss  Instances       Size\n"
     ]
    },
    {
     "name": "stderr",
     "output_type": "stream",
     "text": [
      "      47/50      5.29G     0.3595      0.252      1.028         12        960: 100%|██████████| 700/700 [07:53<00:00,  1\n",
      "                 Class     Images  Instances      Box(P          R      mAP50  mAP50-95): 100%|██████████| 150/150 [00:4"
     ]
    },
    {
     "name": "stdout",
     "output_type": "stream",
     "text": [
      "                   all       1200       1411      0.972      0.954      0.984      0.839\n"
     ]
    },
    {
     "name": "stderr",
     "output_type": "stream",
     "text": [
      "\n"
     ]
    },
    {
     "data": {
      "application/vnd.jupyter.widget-view+json": {
       "model_id": "140a8d8337c7449993ae61c5d571d0a6",
       "version_major": 2,
       "version_minor": 0
      },
      "text/plain": [
       "Generating Visualizations for batch-1/1:   0%|          | 0/8 [00:00<?, ?it/s]"
      ]
     },
     "metadata": {},
     "output_type": "display_data"
    },
    {
     "data": {
      "application/vnd.jupyter.widget-view+json": {
       "model_id": "cf375c118170436b83016842ceccf3c0",
       "version_major": 2,
       "version_minor": 0
      },
      "text/plain": [
       "Generating Visualizations for batch-1/1:   0%|          | 0/8 [00:00<?, ?it/s]"
      ]
     },
     "metadata": {},
     "output_type": "display_data"
    },
    {
     "name": "stdout",
     "output_type": "stream",
     "text": [
      "\n",
      "      Epoch    GPU_mem   box_loss   cls_loss   dfl_loss  Instances       Size\n"
     ]
    },
    {
     "name": "stderr",
     "output_type": "stream",
     "text": [
      "      48/50       5.3G     0.3613      0.253      1.032         11        960: 100%|██████████| 700/700 [04:19<00:00,  2\n",
      "                 Class     Images  Instances      Box(P          R      mAP50  mAP50-95): 100%|██████████| 150/150 [01:0"
     ]
    },
    {
     "name": "stdout",
     "output_type": "stream",
     "text": [
      "                   all       1200       1411      0.962      0.965      0.983       0.84\n"
     ]
    },
    {
     "name": "stderr",
     "output_type": "stream",
     "text": [
      "\n"
     ]
    },
    {
     "data": {
      "application/vnd.jupyter.widget-view+json": {
       "model_id": "4675ebd80d2f4008ad4cd531475f47ca",
       "version_major": 2,
       "version_minor": 0
      },
      "text/plain": [
       "Generating Visualizations for batch-1/1:   0%|          | 0/8 [00:00<?, ?it/s]"
      ]
     },
     "metadata": {},
     "output_type": "display_data"
    },
    {
     "data": {
      "application/vnd.jupyter.widget-view+json": {
       "model_id": "1031bc80bb32442ca978d2c364df72e0",
       "version_major": 2,
       "version_minor": 0
      },
      "text/plain": [
       "Generating Visualizations for batch-1/1:   0%|          | 0/8 [00:00<?, ?it/s]"
      ]
     },
     "metadata": {},
     "output_type": "display_data"
    },
    {
     "name": "stdout",
     "output_type": "stream",
     "text": [
      "\n",
      "      Epoch    GPU_mem   box_loss   cls_loss   dfl_loss  Instances       Size\n"
     ]
    },
    {
     "name": "stderr",
     "output_type": "stream",
     "text": [
      "      49/50      5.28G     0.3504     0.2491       1.02         17        960: 100%|██████████| 700/700 [05:20<00:00,  2\n",
      "                 Class     Images  Instances      Box(P          R      mAP50  mAP50-95): 100%|██████████| 150/150 [00:4"
     ]
    },
    {
     "name": "stdout",
     "output_type": "stream",
     "text": [
      "                   all       1200       1411      0.969      0.944      0.984      0.841\n"
     ]
    },
    {
     "name": "stderr",
     "output_type": "stream",
     "text": [
      "\n"
     ]
    },
    {
     "data": {
      "application/vnd.jupyter.widget-view+json": {
       "model_id": "a2b380a188e64dd38f5f427eb3422ab6",
       "version_major": 2,
       "version_minor": 0
      },
      "text/plain": [
       "Generating Visualizations for batch-1/1:   0%|          | 0/8 [00:00<?, ?it/s]"
      ]
     },
     "metadata": {},
     "output_type": "display_data"
    },
    {
     "data": {
      "application/vnd.jupyter.widget-view+json": {
       "model_id": "05f3dad4f6b24411bf4d559ec279c1b3",
       "version_major": 2,
       "version_minor": 0
      },
      "text/plain": [
       "Generating Visualizations for batch-1/1:   0%|          | 0/8 [00:00<?, ?it/s]"
      ]
     },
     "metadata": {},
     "output_type": "display_data"
    },
    {
     "name": "stdout",
     "output_type": "stream",
     "text": [
      "\n",
      "      Epoch    GPU_mem   box_loss   cls_loss   dfl_loss  Instances       Size\n"
     ]
    },
    {
     "name": "stderr",
     "output_type": "stream",
     "text": [
      "      50/50       5.3G     0.3484     0.2467      1.022         10        960: 100%|██████████| 700/700 [08:40<00:00,  1\n",
      "                 Class     Images  Instances      Box(P          R      mAP50  mAP50-95): 100%|██████████| 150/150 [00:4"
     ]
    },
    {
     "name": "stdout",
     "output_type": "stream",
     "text": [
      "                   all       1200       1411       0.97      0.946      0.984      0.838\n"
     ]
    },
    {
     "name": "stderr",
     "output_type": "stream",
     "text": [
      "\n"
     ]
    },
    {
     "data": {
      "application/vnd.jupyter.widget-view+json": {
       "model_id": "4cd92b38058941b7b26e61810d702fe1",
       "version_major": 2,
       "version_minor": 0
      },
      "text/plain": [
       "Generating Visualizations for batch-1/1:   0%|          | 0/8 [00:00<?, ?it/s]"
      ]
     },
     "metadata": {},
     "output_type": "display_data"
    },
    {
     "data": {
      "application/vnd.jupyter.widget-view+json": {
       "model_id": "332b35ad09c04ddb846094b75aab326a",
       "version_major": 2,
       "version_minor": 0
      },
      "text/plain": [
       "Generating Visualizations for batch-1/1:   0%|          | 0/8 [00:00<?, ?it/s]"
      ]
     },
     "metadata": {},
     "output_type": "display_data"
    },
    {
     "name": "stdout",
     "output_type": "stream",
     "text": [
      "\n",
      "50 epochs completed in 5.135 hours.\n",
      "Optimizer stripped from runs/detect/train4/weights/last.pt, 40.5MB\n",
      "Optimizer stripped from runs/detect/train4/weights/best.pt, 40.5MB\n",
      "\n",
      "Validating runs/detect/train4/weights/best.pt...\n",
      "Ultralytics 8.3.72 🚀 Python-3.12.8 torch-2.5.1 CUDA:0 (NVIDIA GeForce RTX 4050 Laptop GPU, 6140MiB)\n",
      "YOLO11m summary (fused): 303 layers, 20,032,345 parameters, 0 gradients, 67.7 GFLOPs\n"
     ]
    },
    {
     "name": "stderr",
     "output_type": "stream",
     "text": [
      "                 Class     Images  Instances      Box(P          R      mAP50  mAP50-95): 100%|██████████| 150/150 [00:2\n"
     ]
    },
    {
     "name": "stdout",
     "output_type": "stream",
     "text": [
      "                   all       1200       1411      0.969      0.944      0.984       0.84\n",
      "                Cattle         35         35      0.963      0.914       0.98      0.796\n",
      "                   Dog       1199       1200      0.998      0.991      0.995      0.957\n",
      "              Humanoid        171        176      0.945      0.926      0.978      0.767\n"
     ]
    },
    {
     "data": {
      "application/vnd.jupyter.widget-view+json": {
       "model_id": "c1eaec0a9c84454aa46da9a8750e474d",
       "version_major": 2,
       "version_minor": 0
      },
      "text/plain": [
       "Generating Visualizations for batch-1/1:   0%|          | 0/8 [00:00<?, ?it/s]"
      ]
     },
     "metadata": {},
     "output_type": "display_data"
    },
    {
     "name": "stdout",
     "output_type": "stream",
     "text": [
      "Speed: 0.3ms preprocess, 14.7ms inference, 0.0ms loss, 0.8ms postprocess per image\n",
      "Results saved to \u001b[1mruns/detect/train4\u001b[0m\n"
     ]
    },
    {
     "data": {
      "text/html": [],
      "text/plain": [
       "<IPython.core.display.HTML object>"
      ]
     },
     "metadata": {},
     "output_type": "display_data"
    },
    {
     "data": {
      "text/html": [
       "<br>    <style><br>        .wandb-row {<br>            display: flex;<br>            flex-direction: row;<br>            flex-wrap: wrap;<br>            justify-content: flex-start;<br>            width: 100%;<br>        }<br>        .wandb-col {<br>            display: flex;<br>            flex-direction: column;<br>            flex-basis: 100%;<br>            flex: 1;<br>            padding: 10px;<br>        }<br>    </style><br><div class=\"wandb-row\"><div class=\"wandb-col\"><h3>Run history:</h3><br/><table class=\"wandb\"><tr><td>lr/pg0</td><td>▃▆███▇▇▇▇▇▇▆▆▆▆▅▅▅▅▅▅▄▄▄▄▄▃▃▃▃▃▂▂▂▂▂▂▁▁▁</td></tr><tr><td>lr/pg1</td><td>▃▆███▇▇▇▇▇▆▆▆▆▆▅▅▅▅▅▅▄▄▄▄▄▃▃▃▃▃▂▂▂▂▂▂▁▁▁</td></tr><tr><td>lr/pg2</td><td>▃▆███▇▇▇▇▇▆▆▆▆▆▅▅▅▅▅▅▄▄▄▄▄▄▃▃▃▃▃▂▂▂▂▂▁▁▁</td></tr><tr><td>metrics/mAP50(B)</td><td>▁▁▃▃▃▄▂▃▃▄▂▄▆▅▆▄▄▅▇▇▇▅▇▆▇▆▆▆▅▇▇▇█▇▇█████</td></tr><tr><td>metrics/mAP50-95(B)</td><td>▂▂▂▁▂▂▃▃▅▄▄▄▄▅▅▃▅▇▅▆▇▅▆▆▆▇▇▆▆▇▇▇█▇▇█████</td></tr><tr><td>metrics/precision(B)</td><td>▄▇▇▇▆▂▄▇▇▆▅▅▁▇▇▄█▅█▅▇▆▇▆▇███▆▃▄▇███▇▅█▇▆</td></tr><tr><td>metrics/recall(B)</td><td>▂▃▁▄▁▄▄▃▂▄▄▄▄▃▃▃▄▄▄▅▅▆▅▅▅▄▅▅▅▅▇▆▆▆▆█▆▇█▆</td></tr><tr><td>model/GFLOPs</td><td>▁</td></tr><tr><td>model/parameters</td><td>▁</td></tr><tr><td>model/speed_PyTorch(ms)</td><td>▁</td></tr><tr><td>train/box_loss</td><td>█▆▆▆▆▆▆▆▅▅▅▅▅▅▄▄▄▄▄▄▄▃▃▃▃▃▂▂▃▂▂▂▂▁▂▁▁▁▁▁</td></tr><tr><td>train/cls_loss</td><td>█▃▂▂▂▂▂▂▂▂▂▂▂▂▂▂▂▂▂▂▁▁▁▁▁▁▁▁▁▁▁▁▁▁▁▁▁▁▁▁</td></tr><tr><td>train/dfl_loss</td><td>█▆▅▆▆▅▅▄▄▅▄▄▄▃▄▃▄▃▃▃▃▃▃▃▂▂▂▂▂▂▂▂▁▁▂▁▁▁▁▁</td></tr><tr><td>val/box_loss</td><td>█▇█▇▆▆▅▅▅▅▄▄▅▄▃▄▅▃▂▃▃▃▂▃▃▂▂▂▂▂▂▁▁▂▁▁▁▁▁▁</td></tr><tr><td>val/cls_loss</td><td>█▆▅▄▄▄▄▄▃▄▃▃▃▃▃▃▂▂▂▂▂▂▂▂▂▂▁▂▂▂▁▁▁▁▁▁▁▁▁▁</td></tr><tr><td>val/dfl_loss</td><td>█▇▇▆▅▆▅▅▄▅▄▄▄▄▃▃▄▃▃▃▃▂▂▃▂▂▂▂▂▂▂▁▁▁▁▁▁▁▁▁</td></tr></table><br/></div><div class=\"wandb-col\"><h3>Run summary:</h3><br/><table class=\"wandb\"><tr><td>lr/pg0</td><td>4e-05</td></tr><tr><td>lr/pg1</td><td>4e-05</td></tr><tr><td>lr/pg2</td><td>4e-05</td></tr><tr><td>metrics/mAP50(B)</td><td>0.98415</td></tr><tr><td>metrics/mAP50-95(B)</td><td>0.84013</td></tr><tr><td>metrics/precision(B)</td><td>0.96879</td></tr><tr><td>metrics/recall(B)</td><td>0.9439</td></tr><tr><td>model/GFLOPs</td><td>68.197</td></tr><tr><td>model/parameters</td><td>20055321</td></tr><tr><td>model/speed_PyTorch(ms)</td><td>16.4</td></tr><tr><td>train/box_loss</td><td>0.34845</td></tr><tr><td>train/cls_loss</td><td>0.24674</td></tr><tr><td>train/dfl_loss</td><td>1.02158</td></tr><tr><td>val/box_loss</td><td>0.4085</td></tr><tr><td>val/cls_loss</td><td>0.23333</td></tr><tr><td>val/dfl_loss</td><td>0.84452</td></tr></table><br/></div></div>"
      ],
      "text/plain": [
       "<IPython.core.display.HTML object>"
      ]
     },
     "metadata": {},
     "output_type": "display_data"
    },
    {
     "data": {
      "text/html": [
       " View run <strong style=\"color:#cdcd00\">devout-salad-5</strong> at: <a href='https://wandb.ai/designermadsen/spectre/runs/jwpvxnp4' target=\"_blank\">https://wandb.ai/designermadsen/spectre/runs/jwpvxnp4</a><br> View project at: <a href='https://wandb.ai/designermadsen/spectre' target=\"_blank\">https://wandb.ai/designermadsen/spectre</a><br>Synced 4 W&B file(s), 23 media file(s), 424 artifact file(s) and 0 other file(s)"
      ],
      "text/plain": [
       "<IPython.core.display.HTML object>"
      ]
     },
     "metadata": {},
     "output_type": "display_data"
    },
    {
     "data": {
      "text/html": [
       "Find logs at: <code>/tmp/wandb/run-20250206_171159-jwpvxnp4/logs</code>"
      ],
      "text/plain": [
       "<IPython.core.display.HTML object>"
      ]
     },
     "metadata": {},
     "output_type": "display_data"
    }
   ],
   "source": [
    "if not IS_TO_RESUME:\n",
    "    generateSeed()\n",
    "\n",
    "for idx in range(\n",
    "    NUMBER_OF_TIMES_TO_ITERATE_TRAINING\n",
    "):\n",
    "    training_results =                          \\\n",
    "        model.train(\n",
    "            data         = DATASET_LOCATION, \n",
    "            epochs       = EPOCHS,\n",
    "            batch        = BATCH, \n",
    "            imgsz        = IMAGE_DIMENSIONS,\n",
    "            device       = DEVICES_TO_USE,\n",
    "            plots        = True,\n",
    "            patience     = PATIENCE,\n",
    "            close_mosaic = MOSAIC_END_AT,\n",
    "            seed         = getSeed(),\n",
    "            multi_scale  = False,\n",
    "            resume       = IS_TO_RESUME,\n",
    "            save         = True\n",
    "    )\n",
    "    \n",
    "    if not (\n",
    "        int( \n",
    "            NUMBER_OF_TIMES_TO_ITERATE_TRAINING \n",
    "            - \n",
    "            1 \n",
    "        )\n",
    "        == \n",
    "        idx\n",
    "    ):\n",
    "        increment_of_model()\n",
    "\n",
    "        model.load(\n",
    "            generate_weight_location()\n",
    "        )\n"
   ]
  },
  {
   "cell_type": "code",
   "execution_count": 15,
   "id": "70bb5e8e",
   "metadata": {},
   "outputs": [],
   "source": [
    "if FINISH_WHEN_DONE:\n",
    "    wandb.finish()"
   ]
  }
 ],
 "metadata": {
  "kernelspec": {
   "display_name": "Python 3 (ipykernel)",
   "language": "python",
   "name": "python3"
  },
  "language_info": {
   "codemirror_mode": {
    "name": "ipython",
    "version": 3
   },
   "file_extension": ".py",
   "mimetype": "text/x-python",
   "name": "python",
   "nbconvert_exporter": "python",
   "pygments_lexer": "ipython3",
   "version": "3.12.8"
  }
 },
 "nbformat": 4,
 "nbformat_minor": 5
}
