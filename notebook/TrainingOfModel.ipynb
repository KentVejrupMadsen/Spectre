{
 "cells": [
  {
   "cell_type": "code",
   "execution_count": 1,
   "id": "87e50c39",
   "metadata": {},
   "outputs": [],
   "source": [
    "from ultralytics    \\\n",
    "    import YOLO\n",
    "\n",
    "from math           \\\n",
    "    import (\n",
    "        floor\n",
    ")\n",
    "\n",
    "from random         \\\n",
    "    import SystemRandom\n",
    "\n",
    "from os.path        \\\n",
    "    import (\n",
    "        join\n",
    ")"
   ]
  },
  {
   "cell_type": "code",
   "execution_count": 2,
   "id": "ab776ed1",
   "metadata": {},
   "outputs": [],
   "source": [
    "ZERO: int = 0\n",
    "ONE: int = 1"
   ]
  },
  {
   "cell_type": "code",
   "execution_count": 3,
   "id": "d7121503",
   "metadata": {},
   "outputs": [],
   "source": [
    "EPOCHS: int = 50\n",
    "BATCH: int  = 9\n",
    "PATIENCE: int = 10\n",
    "\n",
    "IMAGE_WIDTH_SIZE: int = 640\n",
    "IMAGE_HEIGHT_SIZE: int = 640\n",
    "\n",
    "IMAGE_DIMENSIONS: tuple = (\n",
    "    IMAGE_HEIGHT_SIZE, \n",
    "    IMAGE_WIDTH_SIZE\n",
    ")\n",
    "\n",
    "SEED = None\n",
    "\n",
    "IS_TO_RESUME: bool = False\n",
    "\n",
    "MOSAIC_END_AT: int = -ONE\n",
    "\n",
    "NUMBER_OF_TIMES_TO_ITERATE_TRAINING: int = 1\n",
    "\n",
    "DEVICES_TO_USE: list = [\n",
    "    ZERO\n",
    "]"
   ]
  },
  {
   "cell_type": "code",
   "execution_count": 4,
   "id": "19dc3cf4",
   "metadata": {},
   "outputs": [],
   "source": [
    "MODEL_WEIGHT_LOCATION: str | None = None\n",
    "MODEL_ITERATION_VERSION: int = 52"
   ]
  },
  {
   "cell_type": "code",
   "execution_count": 5,
   "id": "fa87a1d5",
   "metadata": {},
   "outputs": [],
   "source": [
    "def get_weight_location() -> str:\n",
    "    global MODEL_WEIGHT_LOCATION\n",
    "    return MODEL_WEIGHT_LOCATION\n",
    "\n",
    "def set_weight_location(\n",
    "    value:str\n",
    ") -> None:\n",
    "    global MODEL_WEIGHT_LOCATION\n",
    "    MODEL_WEIGHT_LOCATION = value\n",
    "\n",
    "def get_current_model_iteration() -> int:\n",
    "    global MODEL_ITERATION_VERSION\n",
    "    return MODEL_ITERATION_VERSION\n",
    "\n",
    "def set_current_model_iteration(\n",
    "    value: int\n",
    ") -> None:\n",
    "    global MODEL_ITERATION_VERSION\n",
    "    MODEL_ITERATION_VERSION = value\n",
    "\n",
    "def increment_of_model() -> None:\n",
    "    global ONE\n",
    "\n",
    "    set_current_model_iteration(\n",
    "        get_current_model_iteration() + ONE\n",
    "    )\n",
    "\n",
    "def generate_weight_location() -> str:\n",
    "    weight_path = join(\n",
    "        str(\n",
    "            './runs/detect/train' \n",
    "            + \n",
    "            str(\n",
    "                get_current_model_iteration()\n",
    "            )\n",
    "        ),\n",
    "        'weights/best.pt'\n",
    "    )\n",
    "\n",
    "    set_weight_location(\n",
    "        weight_path\n",
    "    )\n",
    "\n",
    "    return get_weight_location()"
   ]
  },
  {
   "cell_type": "code",
   "execution_count": 6,
   "id": "dbc9ce59",
   "metadata": {},
   "outputs": [],
   "source": [
    "HOME_LOCATION: str = '/home/ai'\n",
    "DATASET_LOCATION:   str = join(\n",
    "    HOME_LOCATION,\n",
    "    'dataset.yaml'\n",
    ")\n",
    "\n",
    "YOLO_MODEL_VERSION: str = 'yolo11m.pt'\n",
    "\n",
    "\n",
    "MODEL_WEIGHT_LOCATION = generate_weight_location()"
   ]
  },
  {
   "cell_type": "code",
   "execution_count": 7,
   "id": "ed3f38b3",
   "metadata": {},
   "outputs": [],
   "source": [
    "generator = None\n",
    "model = None"
   ]
  },
  {
   "cell_type": "code",
   "execution_count": 8,
   "id": "eb3f6064-6b33-4a92-b3ee-4984acb65460",
   "metadata": {},
   "outputs": [
    {
     "name": "stdout",
     "output_type": "stream",
     "text": [
      "Transferred 643/649 items from pretrained weights\n"
     ]
    }
   ],
   "source": [
    "model = YOLO(\n",
    "    YOLO_MODEL_VERSION\n",
    ")\n",
    "\n",
    "if not (\n",
    "    MODEL_WEIGHT_LOCATION is None\n",
    "):\n",
    "    model.load(\n",
    "        get_weight_location()\n",
    "    )"
   ]
  },
  {
   "cell_type": "code",
   "execution_count": 9,
   "id": "4cfc4328",
   "metadata": {},
   "outputs": [],
   "source": [
    "def getSeed() -> int:\n",
    "    global SEED\n",
    "    \n",
    "    if isSeedNone():\n",
    "        return generateSeed()\n",
    "\n",
    "    return SEED\n",
    "\n",
    "def  setSeed(\n",
    "    value: int\n",
    ") -> None:\n",
    "    global SEED\n",
    "    SEED = value\n",
    "\n",
    "\n",
    "def generateGenerator() -> None:\n",
    "    global generator\n",
    "\n",
    "    if generator is None:\n",
    "        generator = SystemRandom()\n",
    "\n",
    "def isSeedNone() -> bool:\n",
    "    global SEED\n",
    "    return SEED is None\n",
    "\n",
    "def generateSeed() -> None:\n",
    "    global          \\\n",
    "        SEED,       \\\n",
    "        generator,  \\\n",
    "        ZERO\n",
    "    \n",
    "    generateGenerator()\n",
    "\n",
    "    setSeed(\n",
    "        generator.randint(\n",
    "            ZERO, \n",
    "            2147483647\n",
    "        )\n",
    "    )\n",
    "\n",
    "    return SEED"
   ]
  },
  {
   "cell_type": "code",
   "execution_count": 10,
   "id": "7d4937bf",
   "metadata": {},
   "outputs": [
    {
     "name": "stdout",
     "output_type": "stream",
     "text": [
      "New https://pypi.org/project/ultralytics/8.3.71 available 😃 Update with 'pip install -U ultralytics'\n",
      "Ultralytics 8.3.70 🚀 Python-3.12.8 torch-2.5.1 CUDA:0 (NVIDIA GeForce RTX 4050 Laptop GPU, 6140MiB)\n",
      "\u001b[34m\u001b[1mengine/trainer: \u001b[0mtask=detect, mode=train, model=yolo11m.pt, data=/home/ai/dataset.yaml, epochs=50, time=None, patience=10, batch=9, imgsz=(640, 640), save=True, save_period=-1, cache=False, device=[0], workers=8, project=None, name=train6, exist_ok=False, pretrained=./runs/detect/train52/weights/best.pt, optimizer=auto, verbose=True, seed=584374374, deterministic=True, single_cls=False, rect=False, cos_lr=False, close_mosaic=-1, resume=False, amp=True, fraction=1.0, profile=False, freeze=None, multi_scale=False, overlap_mask=True, mask_ratio=4, dropout=0.0, val=True, split=val, save_json=False, save_hybrid=False, conf=None, iou=0.7, max_det=300, half=False, dnn=False, plots=True, source=None, vid_stride=1, stream_buffer=False, visualize=False, augment=False, agnostic_nms=False, classes=None, retina_masks=False, embed=None, show=False, save_frames=False, save_txt=False, save_conf=False, save_crop=False, show_labels=True, show_conf=True, show_boxes=True, line_width=None, format=torchscript, keras=False, optimize=False, int8=False, dynamic=False, simplify=True, opset=None, workspace=None, nms=False, lr0=0.01, lrf=0.01, momentum=0.937, weight_decay=0.0005, warmup_epochs=3.0, warmup_momentum=0.8, warmup_bias_lr=0.1, box=7.5, cls=0.5, dfl=1.5, pose=12.0, kobj=1.0, nbs=64, hsv_h=0.015, hsv_s=0.7, hsv_v=0.4, degrees=0.0, translate=0.1, scale=0.5, shear=0.0, perspective=0.0, flipud=0.0, fliplr=0.5, bgr=0.0, mosaic=1.0, mixup=0.0, copy_paste=0.0, copy_paste_mode=flip, auto_augment=randaugment, erasing=0.4, crop_fraction=1.0, cfg=None, tracker=botsort.yaml, save_dir=runs/detect/train6\n",
      "Overriding model.yaml nc=80 with nc=3\n",
      "\n",
      "                   from  n    params  module                                       arguments                     \n",
      "  0                  -1  1      1856  ultralytics.nn.modules.conv.Conv             [3, 64, 3, 2]                 \n",
      "  1                  -1  1     73984  ultralytics.nn.modules.conv.Conv             [64, 128, 3, 2]               \n",
      "  2                  -1  1    111872  ultralytics.nn.modules.block.C3k2            [128, 256, 1, True, 0.25]     \n",
      "  3                  -1  1    590336  ultralytics.nn.modules.conv.Conv             [256, 256, 3, 2]              \n",
      "  4                  -1  1    444928  ultralytics.nn.modules.block.C3k2            [256, 512, 1, True, 0.25]     \n",
      "  5                  -1  1   2360320  ultralytics.nn.modules.conv.Conv             [512, 512, 3, 2]              \n",
      "  6                  -1  1   1380352  ultralytics.nn.modules.block.C3k2            [512, 512, 1, True]           \n",
      "  7                  -1  1   2360320  ultralytics.nn.modules.conv.Conv             [512, 512, 3, 2]              \n",
      "  8                  -1  1   1380352  ultralytics.nn.modules.block.C3k2            [512, 512, 1, True]           \n",
      "  9                  -1  1    656896  ultralytics.nn.modules.block.SPPF            [512, 512, 5]                 \n",
      " 10                  -1  1    990976  ultralytics.nn.modules.block.C2PSA           [512, 512, 1]                 \n",
      " 11                  -1  1         0  torch.nn.modules.upsampling.Upsample         [None, 2, 'nearest']          \n",
      " 12             [-1, 6]  1         0  ultralytics.nn.modules.conv.Concat           [1]                           \n",
      " 13                  -1  1   1642496  ultralytics.nn.modules.block.C3k2            [1024, 512, 1, True]          \n",
      " 14                  -1  1         0  torch.nn.modules.upsampling.Upsample         [None, 2, 'nearest']          \n",
      " 15             [-1, 4]  1         0  ultralytics.nn.modules.conv.Concat           [1]                           \n",
      " 16                  -1  1    542720  ultralytics.nn.modules.block.C3k2            [1024, 256, 1, True]          \n",
      " 17                  -1  1    590336  ultralytics.nn.modules.conv.Conv             [256, 256, 3, 2]              \n",
      " 18            [-1, 13]  1         0  ultralytics.nn.modules.conv.Concat           [1]                           \n",
      " 19                  -1  1   1511424  ultralytics.nn.modules.block.C3k2            [768, 512, 1, True]           \n",
      " 20                  -1  1   2360320  ultralytics.nn.modules.conv.Conv             [512, 512, 3, 2]              \n",
      " 21            [-1, 10]  1         0  ultralytics.nn.modules.conv.Concat           [1]                           \n",
      " 22                  -1  1   1642496  ultralytics.nn.modules.block.C3k2            [1024, 512, 1, True]          \n",
      " 23        [16, 19, 22]  1   1413337  ultralytics.nn.modules.head.Detect           [3, [256, 512, 512]]          \n",
      "YOLO11m summary: 409 layers, 20,055,321 parameters, 20,055,305 gradients, 68.2 GFLOPs\n",
      "\n",
      "Transferred 643/649 items from pretrained weights\n",
      "\u001b[34m\u001b[1mTensorBoard: \u001b[0mStart with 'tensorboard --logdir runs/detect/train6', view at http://localhost:6006/\n",
      "Freezing layer 'model.23.dfl.conv.weight'\n",
      "\u001b[34m\u001b[1mAMP: \u001b[0mrunning Automatic Mixed Precision (AMP) checks...\n",
      "\u001b[34m\u001b[1mAMP: \u001b[0mchecks passed ✅\n",
      "WARNING ⚠️ updating to 'imgsz=640'. 'train' and 'val' imgsz must be an integer, while 'predict' and 'export' imgsz may be a [h, w] list or an integer, i.e. 'yolo export imgsz=640,480' or 'yolo export imgsz=640'\n"
     ]
    },
    {
     "name": "stderr",
     "output_type": "stream",
     "text": [
      "\u001b[34m\u001b[1mtrain: \u001b[0mScanning /opt/tmod-dataset/training/labels.cache... 2667 images, 0 backgrounds, 0 corrupt: 100%|██████████| 2667/\u001b[0m\n",
      "\u001b[34m\u001b[1mval: \u001b[0mScanning /opt/tmod-dataset/validation/labels.cache... 1143 images, 0 backgrounds, 0 corrupt: 100%|██████████| 1143/\u001b[0m\n"
     ]
    },
    {
     "name": "stdout",
     "output_type": "stream",
     "text": [
      "Plotting labels to runs/detect/train6/labels.jpg... \n",
      "\u001b[34m\u001b[1moptimizer:\u001b[0m 'optimizer=auto' found, ignoring 'lr0=0.01' and 'momentum=0.937' and determining best 'optimizer', 'lr0' and 'momentum' automatically... \n",
      "\u001b[34m\u001b[1moptimizer:\u001b[0m AdamW(lr=0.001429, momentum=0.9) with parameter groups 106 weight(decay=0.0), 113 weight(decay=0.0004921875), 112 bias(decay=0.0)\n",
      "\u001b[34m\u001b[1mTensorBoard: \u001b[0mmodel graph visualization added ✅\n",
      "Image sizes 640 train, 640 val\n",
      "Using 8 dataloader workers\n",
      "Logging results to \u001b[1mruns/detect/train6\u001b[0m\n",
      "Starting training for 50 epochs...\n",
      "\n",
      "      Epoch    GPU_mem   box_loss   cls_loss   dfl_loss  Instances       Size\n"
     ]
    },
    {
     "name": "stderr",
     "output_type": "stream",
     "text": [
      "       1/50      5.21G      0.357     0.7572     0.9563         10        640: 100%|██████████| 297/297 [01:35<00:00,  3\n",
      "                 Class     Images  Instances      Box(P          R      mAP50  mAP50-95): 100%|██████████| 64/64 [00:11<"
     ]
    },
    {
     "name": "stdout",
     "output_type": "stream",
     "text": [
      "                   all       1143       1370      0.948      0.947      0.959      0.848\n"
     ]
    },
    {
     "name": "stderr",
     "output_type": "stream",
     "text": [
      "\n"
     ]
    },
    {
     "name": "stdout",
     "output_type": "stream",
     "text": [
      "\n",
      "      Epoch    GPU_mem   box_loss   cls_loss   dfl_loss  Instances       Size\n"
     ]
    },
    {
     "name": "stderr",
     "output_type": "stream",
     "text": [
      "       2/50      5.16G     0.3899      0.299     0.9758          8        640: 100%|██████████| 297/297 [01:30<00:00,  3\n",
      "                 Class     Images  Instances      Box(P          R      mAP50  mAP50-95): 100%|██████████| 64/64 [00:10<"
     ]
    },
    {
     "name": "stdout",
     "output_type": "stream",
     "text": [
      "                   all       1143       1370      0.963      0.907      0.952      0.834\n"
     ]
    },
    {
     "name": "stderr",
     "output_type": "stream",
     "text": [
      "\n"
     ]
    },
    {
     "name": "stdout",
     "output_type": "stream",
     "text": [
      "\n",
      "      Epoch    GPU_mem   box_loss   cls_loss   dfl_loss  Instances       Size\n"
     ]
    },
    {
     "name": "stderr",
     "output_type": "stream",
     "text": [
      "       3/50      5.18G     0.4028     0.3053      0.976          7        640: 100%|██████████| 297/297 [01:30<00:00,  3\n",
      "                 Class     Images  Instances      Box(P          R      mAP50  mAP50-95): 100%|██████████| 64/64 [00:13<"
     ]
    },
    {
     "name": "stdout",
     "output_type": "stream",
     "text": [
      "                   all       1143       1370      0.949      0.923      0.951      0.831\n"
     ]
    },
    {
     "name": "stderr",
     "output_type": "stream",
     "text": [
      "\n"
     ]
    },
    {
     "name": "stdout",
     "output_type": "stream",
     "text": [
      "\n",
      "      Epoch    GPU_mem   box_loss   cls_loss   dfl_loss  Instances       Size\n"
     ]
    },
    {
     "name": "stderr",
     "output_type": "stream",
     "text": [
      "       4/50      5.15G     0.4201     0.3161     0.9896         12        640: 100%|██████████| 297/297 [01:28<00:00,  3\n",
      "                 Class     Images  Instances      Box(P          R      mAP50  mAP50-95): 100%|██████████| 64/64 [00:12<"
     ]
    },
    {
     "name": "stdout",
     "output_type": "stream",
     "text": [
      "                   all       1143       1370      0.963      0.918      0.945      0.833\n"
     ]
    },
    {
     "name": "stderr",
     "output_type": "stream",
     "text": [
      "\n"
     ]
    },
    {
     "name": "stdout",
     "output_type": "stream",
     "text": [
      "\n",
      "      Epoch    GPU_mem   box_loss   cls_loss   dfl_loss  Instances       Size\n"
     ]
    },
    {
     "name": "stderr",
     "output_type": "stream",
     "text": [
      "       5/50      5.17G     0.4196     0.3136     0.9889          9        640: 100%|██████████| 297/297 [01:28<00:00,  3\n",
      "                 Class     Images  Instances      Box(P          R      mAP50  mAP50-95): 100%|██████████| 64/64 [00:13<"
     ]
    },
    {
     "name": "stdout",
     "output_type": "stream",
     "text": [
      "                   all       1143       1370      0.967      0.928      0.953      0.819\n"
     ]
    },
    {
     "name": "stderr",
     "output_type": "stream",
     "text": [
      "\n"
     ]
    },
    {
     "name": "stdout",
     "output_type": "stream",
     "text": [
      "\n",
      "      Epoch    GPU_mem   box_loss   cls_loss   dfl_loss  Instances       Size\n"
     ]
    },
    {
     "name": "stderr",
     "output_type": "stream",
     "text": [
      "       6/50      5.15G     0.4369     0.3207      1.002          6        640: 100%|██████████| 297/297 [01:28<00:00,  3\n",
      "                 Class     Images  Instances      Box(P          R      mAP50  mAP50-95): 100%|██████████| 64/64 [00:15<"
     ]
    },
    {
     "name": "stdout",
     "output_type": "stream",
     "text": [
      "                   all       1143       1370      0.963      0.894      0.949      0.829\n"
     ]
    },
    {
     "name": "stderr",
     "output_type": "stream",
     "text": [
      "\n"
     ]
    },
    {
     "name": "stdout",
     "output_type": "stream",
     "text": [
      "\n",
      "      Epoch    GPU_mem   box_loss   cls_loss   dfl_loss  Instances       Size\n"
     ]
    },
    {
     "name": "stderr",
     "output_type": "stream",
     "text": [
      "       7/50      5.14G     0.4504     0.3298      1.011         14        640: 100%|██████████| 297/297 [01:30<00:00,  3\n",
      "                 Class     Images  Instances      Box(P          R      mAP50  mAP50-95): 100%|██████████| 64/64 [00:15<"
     ]
    },
    {
     "name": "stdout",
     "output_type": "stream",
     "text": [
      "                   all       1143       1370      0.955      0.915      0.944      0.823\n"
     ]
    },
    {
     "name": "stderr",
     "output_type": "stream",
     "text": [
      "\n"
     ]
    },
    {
     "name": "stdout",
     "output_type": "stream",
     "text": [
      "\n",
      "      Epoch    GPU_mem   box_loss   cls_loss   dfl_loss  Instances       Size\n"
     ]
    },
    {
     "name": "stderr",
     "output_type": "stream",
     "text": [
      "       8/50      5.17G     0.4417     0.3139       1.01          7        640: 100%|██████████| 297/297 [01:32<00:00,  3\n",
      "                 Class     Images  Instances      Box(P          R      mAP50  mAP50-95): 100%|██████████| 64/64 [00:12<"
     ]
    },
    {
     "name": "stdout",
     "output_type": "stream",
     "text": [
      "                   all       1143       1370      0.957      0.905      0.953      0.829\n"
     ]
    },
    {
     "name": "stderr",
     "output_type": "stream",
     "text": [
      "\n"
     ]
    },
    {
     "name": "stdout",
     "output_type": "stream",
     "text": [
      "\n",
      "      Epoch    GPU_mem   box_loss   cls_loss   dfl_loss  Instances       Size\n"
     ]
    },
    {
     "name": "stderr",
     "output_type": "stream",
     "text": [
      "       9/50      5.21G     0.4408     0.3103      1.009          7        640: 100%|██████████| 297/297 [01:30<00:00,  3\n",
      "                 Class     Images  Instances      Box(P          R      mAP50  mAP50-95): 100%|██████████| 64/64 [00:11<"
     ]
    },
    {
     "name": "stdout",
     "output_type": "stream",
     "text": [
      "                   all       1143       1370      0.938      0.953       0.95       0.82\n"
     ]
    },
    {
     "name": "stderr",
     "output_type": "stream",
     "text": [
      "\n"
     ]
    },
    {
     "name": "stdout",
     "output_type": "stream",
     "text": [
      "\n",
      "      Epoch    GPU_mem   box_loss   cls_loss   dfl_loss  Instances       Size\n"
     ]
    },
    {
     "name": "stderr",
     "output_type": "stream",
     "text": [
      "      10/50      5.15G     0.4404     0.3215      1.004         15        640: 100%|██████████| 297/297 [01:31<00:00,  3\n",
      "                 Class     Images  Instances      Box(P          R      mAP50  mAP50-95): 100%|██████████| 64/64 [00:11<"
     ]
    },
    {
     "name": "stdout",
     "output_type": "stream",
     "text": [
      "                   all       1143       1370      0.959      0.928      0.952      0.827\n"
     ]
    },
    {
     "name": "stderr",
     "output_type": "stream",
     "text": [
      "\n"
     ]
    },
    {
     "name": "stdout",
     "output_type": "stream",
     "text": [
      "\n",
      "      Epoch    GPU_mem   box_loss   cls_loss   dfl_loss  Instances       Size\n"
     ]
    },
    {
     "name": "stderr",
     "output_type": "stream",
     "text": [
      "      11/50      5.15G     0.4417     0.3135      1.008         12        640: 100%|██████████| 297/297 [01:31<00:00,  3\n",
      "                 Class     Images  Instances      Box(P          R      mAP50  mAP50-95): 100%|██████████| 64/64 [00:15<"
     ]
    },
    {
     "name": "stdout",
     "output_type": "stream",
     "text": [
      "                   all       1143       1370      0.934      0.927      0.946      0.829\n",
      "\u001b[34m\u001b[1mEarlyStopping: \u001b[0mTraining stopped early as no improvement observed in last 10 epochs. Best results observed at epoch 1, best model saved as best.pt.\n",
      "To update EarlyStopping(patience=10) pass a new patience value, i.e. `patience=300` or use `patience=0` to disable EarlyStopping.\n"
     ]
    },
    {
     "name": "stderr",
     "output_type": "stream",
     "text": [
      "\n"
     ]
    },
    {
     "name": "stdout",
     "output_type": "stream",
     "text": [
      "\n",
      "11 epochs completed in 0.322 hours.\n",
      "Optimizer stripped from runs/detect/train6/weights/last.pt, 40.5MB\n",
      "Optimizer stripped from runs/detect/train6/weights/best.pt, 40.5MB\n",
      "\n",
      "Validating runs/detect/train6/weights/best.pt...\n",
      "Ultralytics 8.3.70 🚀 Python-3.12.8 torch-2.5.1 CUDA:0 (NVIDIA GeForce RTX 4050 Laptop GPU, 6140MiB)\n",
      "YOLO11m summary (fused): 303 layers, 20,032,345 parameters, 0 gradients, 67.7 GFLOPs\n"
     ]
    },
    {
     "name": "stderr",
     "output_type": "stream",
     "text": [
      "                 Class     Images  Instances      Box(P          R      mAP50  mAP50-95): 100%|██████████| 64/64 [00:15<\n"
     ]
    },
    {
     "name": "stdout",
     "output_type": "stream",
     "text": [
      "                   all       1143       1370      0.947      0.947      0.961       0.85\n",
      "                Cattle         38         38      0.857      0.921      0.926      0.778\n",
      "                   Dog       1140       1140      0.999      0.994      0.995      0.959\n",
      "              Humanoid        188        192      0.983      0.926      0.963      0.813\n",
      "Speed: 0.2ms preprocess, 10.2ms inference, 0.0ms loss, 0.7ms postprocess per image\n",
      "Results saved to \u001b[1mruns/detect/train6\u001b[0m\n"
     ]
    }
   ],
   "source": [
    "if not IS_TO_RESUME:\n",
    "    generateSeed()\n",
    "\n",
    "for idx in range(\n",
    "    NUMBER_OF_TIMES_TO_ITERATE_TRAINING\n",
    "):\n",
    "    training_results =                          \\\n",
    "        model.train(\n",
    "            data         = DATASET_LOCATION, \n",
    "            epochs       = EPOCHS,\n",
    "            batch        = BATCH, \n",
    "            imgsz        = IMAGE_DIMENSIONS,\n",
    "            device       = DEVICES_TO_USE,\n",
    "            plots        = True,\n",
    "            patience     = PATIENCE,\n",
    "            close_mosaic = MOSAIC_END_AT,\n",
    "            seed         = getSeed(),\n",
    "            multi_scale  = False,\n",
    "            resume       = IS_TO_RESUME,\n",
    "            save         = True\n",
    "    )\n",
    "    \n",
    "    if not (\n",
    "        int( \n",
    "            NUMBER_OF_TIMES_TO_ITERATE_TRAINING \n",
    "            - \n",
    "            1 \n",
    "        )\n",
    "        == \n",
    "        idx\n",
    "    ):\n",
    "        increment_of_model()\n",
    "\n",
    "        model.load(\n",
    "            generate_weight_location()\n",
    "        )\n"
   ]
  }
 ],
 "metadata": {
  "kernelspec": {
   "display_name": "Python 3 (ipykernel)",
   "language": "python",
   "name": "python3"
  },
  "language_info": {
   "codemirror_mode": {
    "name": "ipython",
    "version": 3
   },
   "file_extension": ".py",
   "mimetype": "text/x-python",
   "name": "python",
   "nbconvert_exporter": "python",
   "pygments_lexer": "ipython3",
   "version": "3.12.8"
  }
 },
 "nbformat": 4,
 "nbformat_minor": 5
}
