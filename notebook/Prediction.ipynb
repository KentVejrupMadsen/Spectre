{
 "cells": [
  {
   "cell_type": "code",
   "execution_count": null,
   "id": "d455153e",
   "metadata": {},
   "outputs": [],
   "source": [
    "%pip install wandb\n",
    "%pip install ultralytics\n",
    "%pip install matplotlib\n",
    "%pip install numpy\n",
    "%pip install opencv-python\n",
    "%pip install inference"
   ]
  }
 ],
 "metadata": {
  "kernelspec": {
   "display_name": "Python 3 (ipykernel)",
   "language": "python",
   "name": "python3"
  }
 },
 "nbformat": 4,
 "nbformat_minor": 5
}
