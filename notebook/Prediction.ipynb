{
 "cells": [
  {
   "cell_type": "code",
   "execution_count": null,
   "id": "d455153e",
   "metadata": {},
   "outputs": [],
   "source": [
    "%pip install wandb\n",
    "%pip install ultralytics\n",
    "%pip install matplotlib\n",
    "%pip install numpy\n",
    "%pip install opencv-python\n",
    "%pip install inference"
   ]
  },
  {
   "cell_type": "code",
   "execution_count": null,
   "id": "5cf4fd28",
   "metadata": {},
   "outputs": [],
   "source": [
    "from os.path import join, isdir\n",
    "from os import makedirs"
   ]
  },
  {
   "cell_type": "code",
   "execution_count": null,
   "id": "63f9a4fa",
   "metadata": {},
   "outputs": [],
   "source": [
    "IMAGE_WIDTH_SIZE: int = 640\n",
    "IMAGE_HEIGHT_SIZE: int = 640\n",
    "\n",
    "IMAGE_DIMENSIONS: tuple = (\n",
    "    IMAGE_HEIGHT_SIZE, \n",
    "    IMAGE_WIDTH_SIZE\n",
    ")\n",
    "\n",
    "LOCATION_OF_MODEL: str = '/mnt/c/Users/Kentv/Desktop/Spectre/Model/#2/weights/best.pt'\n",
    "LOCATION_OF_PREDICTION_FILE: str = '/mnt/c/Users/Kentv/Desktop/Spectre/Test Data/VID_20220807_164006.mp4'\n",
    "LOCATION_TO_SAVE_FILES: str = '/mnt/c/Users/Kentv/Desktop/Spectre/Output'\n",
    "\n",
    "YOLO_MODEL_VERSION: str = 'yolo11m.pt'"
   ]
  },
  {
   "cell_type": "code",
   "execution_count": 27,
   "id": "0edd2941",
   "metadata": {},
   "outputs": [],
   "source": [
    "if isdir(LOCATION_TO_SAVE_FILES):\n",
    "    %rm {LOCATION_TO_SAVE_FILES} -R\n",
    "    \n",
    "    makedirs(\n",
    "        LOCATION_TO_SAVE_FILES\n",
    "    )"
   ]
  },
  {
   "cell_type": "code",
   "execution_count": null,
   "id": "d87aa7d6",
   "metadata": {},
   "outputs": [],
   "source": [
    "from ultralytics    \\\n",
    "    import YOLO\n",
    "\n",
    "LocationOfModel: str = LOCATION_OF_MODEL \n",
    "Model = None\n",
    "\n",
    "def getModel():\n",
    "    global Model\n",
    "    return Model\n",
    "\n",
    "def setModel(\n",
    "    value\n",
    "):\n",
    "    global Model\n",
    "    Model = value\n",
    "\n",
    "model = YOLO(\n",
    "    YOLO_MODEL_VERSION\n",
    ")\n",
    "\n",
    "setModel(\n",
    "    model\n",
    ")\n",
    "\n",
    "getModel().load(\n",
    "    LOCATION_OF_MODEL\n",
    ")"
   ]
  },
  {
   "cell_type": "code",
   "execution_count": null,
   "id": "48dc6941",
   "metadata": {},
   "outputs": [],
   "source": [
    "import cv2\n",
    "\n",
    "from numpy import array\n",
    "\n",
    "counter: int = 0\n",
    "capture = cv2.VideoCapture(\n",
    "    LOCATION_OF_PREDICTION_FILE\n",
    ")\n",
    "\n",
    "while capture.isOpened():\n",
    "    (success, frame) = capture.read()\n",
    "    \n",
    "    if success:\n",
    "        counter = counter + 1\n",
    "        results = model.track(\n",
    "            frame, \n",
    "            persist = True\n",
    "        )\n",
    "\n",
    "        annotated_frame = results[0].plot()\n",
    "        image = array(annotated_frame)\n",
    "        \n",
    "        cv2.imwrite(\n",
    "            join(\n",
    "                LOCATION_TO_SAVE_FILES, \n",
    "                str(counter) \n",
    "                + \n",
    "                '.jpg'\n",
    "                ), \n",
    "            image\n",
    "        )\n",
    "\n",
    "\n",
    "    else:\n",
    "        break"
   ]
  },
  {
   "cell_type": "code",
   "execution_count": null,
   "id": "015775c3",
   "metadata": {},
   "outputs": [],
   "source": [
    "\n",
    "boxes = getModel().predict(\n",
    "    stream=True\n",
    ")"
   ]
  }
 ],
 "metadata": {
  "kernelspec": {
   "display_name": "Python 3 (ipykernel)",
   "language": "python",
   "name": "python3"
  }
 },
 "nbformat": 4,
 "nbformat_minor": 5
}
