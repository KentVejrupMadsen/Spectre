{
 "cells": [
  {
   "cell_type": "code",
   "execution_count": 1,
   "id": "87e50c39",
   "metadata": {},
   "outputs": [],
   "source": [
    "from ultralytics    \\\n",
    "    import YOLO\n",
    "\n",
    "from math           \\\n",
    "    import floor\n",
    "\n",
    "from random         \\\n",
    "    import SystemRandom\n",
    "\n",
    "from os.path        \\\n",
    "    import (\n",
    "        join\n",
    ")"
   ]
  },
  {
   "cell_type": "code",
   "execution_count": 7,
   "id": "d7121503",
   "metadata": {},
   "outputs": [],
   "source": [
    "EPOCHS: int = 25\n",
    "BATCH: int  = 0.90\n",
    "\n",
    "MODEL_ITERATION_VERSION: int = 2\n",
    "\n",
    "IMAGE_WIDTH_SIZE: int = 640\n",
    "IMAGE_HEIGHT_SIZE: int = 640\n",
    "\n",
    "IMAGE_DIMENSIONS: tuple = (\n",
    "    IMAGE_HEIGHT_SIZE, \n",
    "    IMAGE_WIDTH_SIZE\n",
    ")\n",
    "\n",
    "SEED = None\n",
    "\n",
    "IS_TO_RESUME: bool = False\n",
    "\n",
    "MOSAIC_END_AT: int = 0\n",
    "\n",
    "PATIENCE: int = 8\n",
    "DEVICES_TO_USE: list =[0]"
   ]
  },
  {
   "cell_type": "code",
   "execution_count": null,
   "id": "dbc9ce59",
   "metadata": {},
   "outputs": [],
   "source": [
    "DATASET_LOCATION: str = 'dataset.yaml'\n",
    "\n",
    "YOLO_MODEL_VERSION: str = 'yolo11m.pt'\n",
    "\n",
    "MODEL_WEIGHT_LOCATION: str | None = join(\n",
    "    str(\n",
    "        './runs/detect/train' \n",
    "        + \n",
    "        str(\n",
    "            MODEL_ITERATION_VERSION\n",
    "        )\n",
    "    ),\n",
    "    'weights/best.pt'\n",
    ")"
   ]
  },
  {
   "cell_type": "code",
   "execution_count": null,
   "id": "b976fb02",
   "metadata": {},
   "outputs": [],
   "source": [
    "print(\n",
    "    MODEL_WEIGHT_LOCATION\n",
    ")"
   ]
  },
  {
   "cell_type": "code",
   "execution_count": 9,
   "id": "ed3f38b3",
   "metadata": {},
   "outputs": [],
   "source": [
    "generator = None\n",
    "model = None"
   ]
  },
  {
   "cell_type": "code",
   "execution_count": null,
   "id": "eb3f6064-6b33-4a92-b3ee-4984acb65460",
   "metadata": {},
   "outputs": [],
   "source": [
    "model = YOLO(\n",
    "    YOLO_MODEL_VERSION\n",
    ")\n",
    "\n",
    "if not (\n",
    "    MODEL_WEIGHT_LOCATION is None\n",
    "):\n",
    "    model.load(\n",
    "        MODEL_WEIGHT_LOCATION\n",
    "    )"
   ]
  },
  {
   "cell_type": "code",
   "execution_count": 11,
   "id": "4cfc4328",
   "metadata": {},
   "outputs": [],
   "source": [
    "def getSeed() -> int:\n",
    "    global SEED\n",
    "    \n",
    "    if isSeedNone():\n",
    "        return generateSeed()\n",
    "\n",
    "    return SEED\n",
    "\n",
    "def  setSeed(\n",
    "    value: int\n",
    ") -> None:\n",
    "    global SEED\n",
    "    SEED = value\n",
    "\n",
    "\n",
    "def generateGenerator() -> None:\n",
    "    global generator\n",
    "\n",
    "    if generator is None:\n",
    "        generator = SystemRandom()\n",
    "\n",
    "def isSeedNone() -> bool:\n",
    "    global SEED\n",
    "    return SEED is None\n",
    "\n",
    "def generateSeed() -> None:\n",
    "    global      \\\n",
    "        SEED,   \\\n",
    "        generator\n",
    "    \n",
    "    generateGenerator()\n",
    "\n",
    "    setSeed(\n",
    "        generator.randint(\n",
    "            0, \n",
    "            2147483647\n",
    "        )\n",
    "    )\n",
    "\n",
    "    return SEED"
   ]
  },
  {
   "cell_type": "code",
   "execution_count": null,
   "id": "7d4937bf",
   "metadata": {},
   "outputs": [],
   "source": [
    "if not IS_TO_RESUME:\n",
    "    generateSeed()\n",
    "\n",
    "training_results =                          \\\n",
    "    model.train(\n",
    "        data         = DATASET_LOCATION, \n",
    "        epochs       = EPOCHS,\n",
    "        batch        = BATCH, \n",
    "        imgsz        = IMAGE_DIMENSIONS,\n",
    "        device       = DEVICES_TO_USE,\n",
    "        cache        = 'disk',\n",
    "        plots        = True,\n",
    "        patience     = PATIENCE,\n",
    "        close_mosaic = MOSAIC_END_AT,\n",
    "        seed         = getSeed(),\n",
    "        multi_scale  = False,\n",
    "        resume       = IS_TO_RESUME,\n",
    "        save         = True\n",
    ")\n",
    "\n",
    "model.val()"
   ]
  }
 ],
 "metadata": {
  "kernelspec": {
   "display_name": "Python 3 (ipykernel)",
   "language": "python",
   "name": "python3"
  },
  "language_info": {
   "codemirror_mode": {
    "name": "ipython",
    "version": 3
   },
   "file_extension": ".py",
   "mimetype": "text/x-python",
   "name": "python",
   "nbconvert_exporter": "python",
   "pygments_lexer": "ipython3",
   "version": "3.12.8"
  }
 },
 "nbformat": 4,
 "nbformat_minor": 5
}
